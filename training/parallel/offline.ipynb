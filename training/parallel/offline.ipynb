{
 "cells": [
  {
   "cell_type": "code",
   "execution_count": 1,
   "metadata": {},
   "outputs": [
    {
     "name": "stdout",
     "output_type": "stream",
     "text": [
      "Loading numpy...\n",
      "Loading torch...\n",
      "Loading e3nn...\n",
      "Loading time...\n",
      "Loading sparse_kernel_conv...\n",
      "Loading laurent...\n",
      "Loading functools...\n",
      "Loading variable_networks...\n",
      "Loading diagnostics...\n",
      "Loading collections...\n",
      "Loading copy...\n",
      "Loading datetime...\n",
      "Loading re...\n",
      "Loading sys...\n",
      "Loading os...\n",
      "Loading math...\n",
      "Loading glob...\n",
      "done loading modules.\n",
      "\n",
      "test tensor:\n",
      "tensor([0.4655, 0.4685, 0.7253, 0.1272, 0.8389, 0.1653, 0.2154, 0.1551, 0.2570,\n",
      "        0.5635])\n"
     ]
    }
   ],
   "source": [
    "print(\"Loading numpy...\")\n",
    "import numpy as np\n",
    "print(\"Loading torch...\")\n",
    "import torch\n",
    "torch.set_default_dtype(torch.float64)\n",
    "print(\"Loading e3nn...\")\n",
    "import e3nn\n",
    "import torch_geometric as tg\n",
    "print(\"Loading time...\")\n",
    "import time\n",
    "from collections.abc import Mapping\n",
    "print(\"Loading sparse_kernel_conv...\")\n",
    "from sparse_kernel_conv import SparseKernelConv, DummyConvolution\n",
    "print(\"Loading laurent...\")\n",
    "from laurent import LaurentPolynomial\n",
    "print(\"Loading functools...\")\n",
    "from functools import partial\n",
    "print(\"Loading variable_networks...\")\n",
    "from variable_networks import VariableParityNetwork\n",
    "print(\"Loading diagnostics...\")\n",
    "from diagnostics import print_parameter_size, count_parameters, get_object_size\n",
    "print(\"Loading collections...\")\n",
    "from collections import deque\n",
    "print(\"Loading copy...\")\n",
    "from copy import copy\n",
    "print(\"Loading datetime...\")\n",
    "from datetime import timedelta\n",
    "print(\"Loading re...\")\n",
    "import re\n",
    "print(\"Loading sys...\")\n",
    "import sys\n",
    "print(\"Loading os...\")\n",
    "import os\n",
    "import traceback\n",
    "print(\"Loading math...\")\n",
    "import math\n",
    "print(\"Loading glob...\")\n",
    "from glob import glob\n",
    "print(\"done loading modules.\\n\", flush=True)\n",
    "\n",
    "os.environ[\"CUDA_VISIBLE_DEVICES\"]=\"\"\n",
    "device = \"cpu\"\n",
    "torch.device(device)\n",
    "temp_tensor = torch.rand(10).to(device)\n",
    "print(\"test tensor:\")\n",
    "print(temp_tensor)"
   ]
  },
  {
   "cell_type": "code",
   "execution_count": 2,
   "metadata": {},
   "outputs": [
    {
     "name": "stdout",
     "output_type": "stream",
     "text": [
      "Loading model from offline/fluidstack_7-e003_b172869-checkpoint.torch...done.\n"
     ]
    }
   ],
   "source": [
    "# read the model from disk\n",
    "model_filename = \"offline/fluidstack_7-e003_b172869-checkpoint.torch\"\n",
    "\n",
    "print(f\"Loading model from {model_filename}...\", end=\"\", flush=True)\n",
    "model_dict = torch.load(model_filename, map_location=torch.device('cpu'))\n",
    "print(\"done.\", flush=True)"
   ]
  },
  {
   "cell_type": "code",
   "execution_count": 3,
   "metadata": {},
   "outputs": [
    {
     "name": "stdout",
     "output_type": "stream",
     "text": [
      "kernel : <class 'sparse_kernel_conv.SparseKernelConv'>\n",
      "convolution : <class 'sparse_kernel_conv.DummyConvolution'>\n",
      "batch_norm : False\n",
      "muls : [[30, 20, 10, 5, 5], [30, 20, 10, 5], [30, 30, 15], [30, 30, 15]]\n",
      "lmaxes : [4, 3, 2, 2]\n",
      "max_radius : 3.0\n",
      "number_of_basis : 20\n",
      "radial_h : 20\n",
      "radial_layers : 1\n",
      "n_norm : 8.0\n",
      "batch_norm_momentum : 0.02\n",
      "radial_model : None\n",
      "Rs_in : [(7, 0, 1)]\n",
      "Rs_out : [(1, 0, 1)]\n"
     ]
    }
   ],
   "source": [
    "model_kwargs = model_dict['model_kwargs']\n",
    "for k,v in model_kwargs.items():\n",
    "    print(k, \":\", v)"
   ]
  },
  {
   "cell_type": "code",
   "execution_count": 4,
   "metadata": {},
   "outputs": [],
   "source": [
    "model = VariableParityNetwork(**model_kwargs)"
   ]
  },
  {
   "cell_type": "code",
   "execution_count": 5,
   "metadata": {},
   "outputs": [
    {
     "data": {
      "text/plain": [
       "<All keys matched successfully>"
      ]
     },
     "execution_count": 5,
     "metadata": {},
     "output_type": "execute_result"
    }
   ],
   "source": [
    "model.load_state_dict(model_dict[\"state_dict\"])"
   ]
  },
  {
   "cell_type": "code",
   "execution_count": 6,
   "metadata": {},
   "outputs": [
    {
     "name": "stdout",
     "output_type": "stream",
     "text": [
      "[6, 1, 7, 8, 16, 9, 17]\n"
     ]
    }
   ],
   "source": [
    "all_elements = model_dict[\"all_elements\"]\n",
    "print(all_elements)"
   ]
  },
  {
   "cell_type": "code",
   "execution_count": 7,
   "metadata": {},
   "outputs": [
    {
     "name": "stdout",
     "output_type": "stream",
     "text": [
      "tensor([[ 0.0187,  0.1518,  0.0397],\n",
      "        [-0.0137,  1.3979,  0.0135],\n",
      "        [-1.3000, -0.5873, -0.0089],\n",
      "        [-1.0145, -1.4166, -0.5953],\n",
      "        [-1.5199, -1.2240,  0.9375],\n",
      "        [-2.2508,  0.0196, -0.4406],\n",
      "        [ 1.2645, -0.5870, -0.0262],\n",
      "        [ 1.5569, -1.0289,  1.0086],\n",
      "        [ 1.2408, -1.4952, -0.7166],\n",
      "        [ 2.1978,  0.0966, -0.3300]])\n",
      "[6 8 6 1 1 1 6 1 1 1]\n"
     ]
    }
   ],
   "source": [
    "# read a random geometry of acetone and its atomic numbers\n",
    "import h5py\n",
    "with h5py.File(\"../acetone/acetone-b3lyp_d3bj-631gd-gas-NMR-pcSseg_1.hdf5\", \"r\") as h5:\n",
    "    geoms_and_shieldings = np.array(h5.get(\"data\"))\n",
    "with h5py.File(\"../acetone/acetone-b3lyp_d3bj-631gd-gas-equilibrium_geometry.hdf5\", \"r\") as h5:\n",
    "    atomic_numbers = np.array(h5.get(\"atomic_numbers\"))\n",
    "# x,y,z,shielding\n",
    "geometry = torch.tensor(geoms_and_shieldings[0,:,:3], dtype=torch.float64)\n",
    "shieldings = torch.tensor(geoms_and_shieldings[0,:,-1], dtype=torch.float64)\n",
    "print(geometry)\n",
    "print(atomic_numbers)"
   ]
  },
  {
   "cell_type": "code",
   "execution_count": 8,
   "metadata": {},
   "outputs": [
    {
     "name": "stdout",
     "output_type": "stream",
     "text": [
      "[6, 1, 7, 8, 16, 9, 17]\n",
      "[6 8 6 1 1 1 6 1 1 1]\n",
      "tensor([[1., 0., 0., 0., 0., 0., 0.],\n",
      "        [0., 0., 0., 1., 0., 0., 0.],\n",
      "        [1., 0., 0., 0., 0., 0., 0.],\n",
      "        [0., 1., 0., 0., 0., 0., 0.],\n",
      "        [0., 1., 0., 0., 0., 0., 0.],\n",
      "        [0., 1., 0., 0., 0., 0., 0.],\n",
      "        [1., 0., 0., 0., 0., 0., 0.],\n",
      "        [0., 1., 0., 0., 0., 0., 0.],\n",
      "        [0., 1., 0., 0., 0., 0., 0.],\n",
      "        [0., 1., 0., 0., 0., 0., 0.]])\n"
     ]
    }
   ],
   "source": [
    "# generates one-hots for a list of atomic_symbols\n",
    "def get_one_hots(atomic_symbols):\n",
    "    one_hots = []\n",
    "    for symbol in atomic_symbols:\n",
    "        inner_list = [ 1. if symbol == i else 0. for i in all_elements ]\n",
    "        one_hots.append(inner_list)\n",
    "    return torch.tensor(one_hots, dtype=torch.float64)\n",
    "one_hots = get_one_hots(atomic_numbers)\n",
    "print(all_elements)\n",
    "print(atomic_numbers)\n",
    "print(one_hots)"
   ]
  },
  {
   "cell_type": "code",
   "execution_count": 9,
   "metadata": {},
   "outputs": [],
   "source": [
    "# turn input into a form that e3nn can understand\n",
    "import e3nn.point.data_helpers as dh \n",
    "data = dh.DataNeighbors(x=one_hots, Rs_in = model_kwargs[\"Rs_in\"], pos = geometry, r_max=model_kwargs[\"max_radius\"], Rs_out=model_kwargs[\"Rs_out\"])"
   ]
  },
  {
   "cell_type": "code",
   "execution_count": 10,
   "metadata": {},
   "outputs": [
    {
     "name": "stdout",
     "output_type": "stream",
     "text": [
      "tensor([[ -32.3423],\n",
      "        [-445.4471],\n",
      "        [ 149.4786],\n",
      "        [  30.5736],\n",
      "        [  27.0376],\n",
      "        [  26.9489],\n",
      "        [ 152.5420],\n",
      "        [  27.5167],\n",
      "        [  28.2830],\n",
      "        [  27.9769]])\n",
      "tensor([  91.3635, -402.2257,  199.6065,   31.0486,   28.9889,   28.2823,\n",
      "         200.1423,   29.0782,   29.3665,   28.2578])\n"
     ]
    }
   ],
   "source": [
    "model.eval()  # because of batchnorm\n",
    "with torch.no_grad():  # do not compute gradients\n",
    "    output = model(data.x, data.edge_index, data.edge_attr, n_norm=model_kwargs[\"n_norm\"])\n",
    "print(output) # this is the prediction of the model\n",
    "print(shieldings) # sanity check"
   ]
  },
  {
   "cell_type": "code",
   "execution_count": 23,
   "metadata": {},
   "outputs": [
    {
     "name": "stdout",
     "output_type": "stream",
     "text": [
      "  #     Z   predicted   expected   residual\n",
      "  0     6      -32.34      91.36    -123.71\n",
      "  1     8     -445.45    -402.23     -43.22\n",
      "  2     6      149.48     199.61     -50.13\n",
      "  3     1       30.57      31.05      -0.47\n",
      "  4     1       27.04      28.99      -1.95\n",
      "  5     1       26.95      28.28      -1.33\n",
      "  6     6      152.54     200.14     -47.60\n",
      "  7     1       27.52      29.08      -1.56\n",
      "  8     1       28.28      29.37      -1.08\n",
      "  9     1       27.98      28.26      -0.28\n"
     ]
    }
   ],
   "source": [
    "print(\"  #     Z   predicted   expected   residual\")\n",
    "for i,atomic_number in enumerate(atomic_numbers):\n",
    "    error = float(output[i])-float(shieldings[i])\n",
    "    print(f\"{i:3d}    {atomic_number:2d}    {float(output[i]):8.2f}   {float(shieldings[i]):8.2f}   {error:8.2f}\")"
   ]
  },
  {
   "cell_type": "code",
   "execution_count": null,
   "metadata": {},
   "outputs": [],
   "source": []
  }
 ],
 "metadata": {
  "kernelspec": {
   "display_name": "Python 3",
   "language": "python",
   "name": "python3"
  },
  "language_info": {
   "codemirror_mode": {
    "name": "ipython",
    "version": 3
   },
   "file_extension": ".py",
   "mimetype": "text/x-python",
   "name": "python",
   "nbconvert_exporter": "python",
   "pygments_lexer": "ipython3",
   "version": "3.8.2"
  }
 },
 "nbformat": 4,
 "nbformat_minor": 4
}
