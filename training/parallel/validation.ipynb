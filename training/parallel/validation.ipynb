{
 "cells": [
  {
   "cell_type": "code",
   "execution_count": 1,
   "metadata": {},
   "outputs": [
    {
     "name": "stdout",
     "output_type": "stream",
     "text": [
      "Loading numpy...\n",
      "Loading torch...\n",
      "Loading e3nn...\n",
      "Loading time...\n",
      "Loading sparse_kernel_conv...\n",
      "Loading laurent...\n",
      "Loading functools...\n",
      "Loading variable_networks...\n",
      "Loading diagnostics...\n",
      "Loading collections...\n",
      "Loading copy...\n",
      "Loading datetime...\n",
      "Loading re...\n",
      "Loading sys...\n",
      "Loading os...\n",
      "Loading math...\n",
      "Loading glob...\n",
      "done loading modules.\n",
      "\n",
      "test tensor:\n",
      "tensor([0.5690, 0.8332, 0.9633, 0.2949, 0.5114, 0.2948, 0.2132, 0.1833, 0.8012,\n",
      "        0.7929])\n"
     ]
    }
   ],
   "source": [
    "print(\"Loading numpy...\")\n",
    "import numpy as np\n",
    "print(\"Loading torch...\")\n",
    "import torch\n",
    "torch.set_default_dtype(torch.float64)\n",
    "print(\"Loading e3nn...\")\n",
    "import e3nn\n",
    "import torch_geometric as tg\n",
    "print(\"Loading time...\")\n",
    "import time\n",
    "from collections.abc import Mapping\n",
    "print(\"Loading sparse_kernel_conv...\")\n",
    "from sparse_kernel_conv import SparseKernelConv, DummyConvolution\n",
    "print(\"Loading laurent...\")\n",
    "from laurent import LaurentPolynomial\n",
    "print(\"Loading functools...\")\n",
    "from functools import partial\n",
    "print(\"Loading variable_networks...\")\n",
    "from variable_networks import VariableParityNetwork\n",
    "print(\"Loading diagnostics...\")\n",
    "from diagnostics import print_parameter_size, count_parameters, get_object_size\n",
    "print(\"Loading collections...\")\n",
    "from collections import deque\n",
    "print(\"Loading copy...\")\n",
    "from copy import copy\n",
    "print(\"Loading datetime...\")\n",
    "from datetime import timedelta\n",
    "print(\"Loading re...\")\n",
    "import re\n",
    "print(\"Loading sys...\")\n",
    "import sys\n",
    "print(\"Loading os...\")\n",
    "import os\n",
    "import traceback\n",
    "print(\"Loading math...\")\n",
    "import math\n",
    "print(\"Loading glob...\")\n",
    "from glob import glob\n",
    "print(\"done loading modules.\\n\", flush=True)\n",
    "\n",
    "os.environ[\"CUDA_VISIBLE_DEVICES\"]=\"\"\n",
    "device = \"cpu\"\n",
    "torch.device(device)\n",
    "temp_tensor = torch.rand(10).to(device)\n",
    "print(\"test tensor:\")\n",
    "print(temp_tensor)"
   ]
  },
  {
   "cell_type": "code",
   "execution_count": 2,
   "metadata": {},
   "outputs": [
    {
     "name": "stdout",
     "output_type": "stream",
     "text": [
      "Loading model from checkpoints/fluidstack_7-e003_b172869-checkpoint.torch...done.\n"
     ]
    }
   ],
   "source": [
    "# read the model from disk\n",
    "model_filename = \"checkpoints/fluidstack_7-e003_b172869-checkpoint.torch\"\n",
    "\n",
    "print(f\"Loading model from {model_filename}...\", end=\"\", flush=True)\n",
    "model_dict = torch.load(model_filename, map_location=torch.device('cpu'))\n",
    "print(\"done.\", flush=True)"
   ]
  },
  {
   "cell_type": "code",
   "execution_count": 3,
   "metadata": {},
   "outputs": [
    {
     "name": "stdout",
     "output_type": "stream",
     "text": [
      "kernel : <class 'sparse_kernel_conv.SparseKernelConv'>\n",
      "convolution : <class 'sparse_kernel_conv.DummyConvolution'>\n",
      "batch_norm : False\n",
      "muls : [[30, 20, 10, 5, 5], [30, 20, 10, 5], [30, 30, 15], [30, 30, 15]]\n",
      "lmaxes : [4, 3, 2, 2]\n",
      "max_radius : 3.0\n",
      "number_of_basis : 20\n",
      "radial_h : 20\n",
      "radial_layers : 1\n",
      "n_norm : 8.0\n",
      "batch_norm_momentum : 0.02\n",
      "radial_model : None\n",
      "Rs_in : [(7, 0, 1)]\n",
      "Rs_out : [(1, 0, 1)]\n"
     ]
    }
   ],
   "source": [
    "model_kwargs = model_dict['model_kwargs']\n",
    "for k,v in model_kwargs.items():\n",
    "    print(k, \":\", v)"
   ]
  },
  {
   "cell_type": "code",
   "execution_count": 4,
   "metadata": {},
   "outputs": [],
   "source": [
    "model = VariableParityNetwork(**model_kwargs)"
   ]
  },
  {
   "cell_type": "code",
   "execution_count": 5,
   "metadata": {},
   "outputs": [
    {
     "data": {
      "text/plain": [
       "<All keys matched successfully>"
      ]
     },
     "execution_count": 5,
     "metadata": {},
     "output_type": "execute_result"
    }
   ],
   "source": [
    "model.load_state_dict(model_dict[\"state_dict\"])"
   ]
  },
  {
   "cell_type": "code",
   "execution_count": 6,
   "metadata": {},
   "outputs": [
    {
     "name": "stdout",
     "output_type": "stream",
     "text": [
      "[6, 1, 7, 8, 16, 9, 17]\n"
     ]
    }
   ],
   "source": [
    "all_elements = model_dict[\"all_elements\"]\n",
    "print(all_elements)"
   ]
  },
  {
   "cell_type": "code",
   "execution_count": 7,
   "metadata": {},
   "outputs": [
    {
     "name": "stdout",
     "output_type": "stream",
     "text": [
      "tensor([[ 0.0187,  0.1518,  0.0397],\n",
      "        [-0.0137,  1.3979,  0.0135],\n",
      "        [-1.3000, -0.5873, -0.0089],\n",
      "        [-1.0145, -1.4166, -0.5953],\n",
      "        [-1.5199, -1.2240,  0.9375],\n",
      "        [-2.2508,  0.0196, -0.4406],\n",
      "        [ 1.2645, -0.5870, -0.0262],\n",
      "        [ 1.5569, -1.0289,  1.0086],\n",
      "        [ 1.2408, -1.4952, -0.7166],\n",
      "        [ 2.1978,  0.0966, -0.3300]])\n",
      "[6 8 6 1 1 1 6 1 1 1]\n"
     ]
    }
   ],
   "source": [
    "# read a random geometry of acetone and its atomic numbers\n",
    "import h5py\n",
    "with h5py.File(\"../acetone/acetone-b3lyp_d3bj-631gd-gas-NMR-pcSseg_1.hdf5\", \"r\") as h5:\n",
    "    geoms_and_shieldings = np.array(h5.get(\"data\"))\n",
    "with h5py.File(\"../acetone/acetone-b3lyp_d3bj-631gd-gas-equilibrium_geometry.hdf5\", \"r\") as h5:\n",
    "    atomic_numbers = np.array(h5.get(\"atomic_numbers\"))\n",
    "# x,y,z,shielding\n",
    "geometry = torch.tensor(geoms_and_shieldings[0,:,:3], dtype=torch.float64)\n",
    "shieldings = torch.tensor(geoms_and_shieldings[0,:,-1], dtype=torch.float64)\n",
    "print(geometry)\n",
    "print(atomic_numbers)"
   ]
  },
  {
   "cell_type": "code",
   "execution_count": 8,
   "metadata": {},
   "outputs": [
    {
     "name": "stdout",
     "output_type": "stream",
     "text": [
      "[6, 1, 7, 8, 16, 9, 17]\n",
      "[6 8 6 1 1 1 6 1 1 1]\n",
      "tensor([[1., 0., 0., 0., 0., 0., 0.],\n",
      "        [0., 0., 0., 1., 0., 0., 0.],\n",
      "        [1., 0., 0., 0., 0., 0., 0.],\n",
      "        [0., 1., 0., 0., 0., 0., 0.],\n",
      "        [0., 1., 0., 0., 0., 0., 0.],\n",
      "        [0., 1., 0., 0., 0., 0., 0.],\n",
      "        [1., 0., 0., 0., 0., 0., 0.],\n",
      "        [0., 1., 0., 0., 0., 0., 0.],\n",
      "        [0., 1., 0., 0., 0., 0., 0.],\n",
      "        [0., 1., 0., 0., 0., 0., 0.]])\n"
     ]
    }
   ],
   "source": [
    "# generates one-hots for a list of atomic_symbols\n",
    "def get_one_hots(atomic_symbols):\n",
    "    one_hots = []\n",
    "    for symbol in atomic_symbols:\n",
    "        inner_list = [ 1. if symbol == i else 0. for i in all_elements ]\n",
    "        one_hots.append(inner_list)\n",
    "    return torch.tensor(one_hots, dtype=torch.float64)\n",
    "one_hots = get_one_hots(atomic_numbers)\n",
    "print(all_elements)\n",
    "print(atomic_numbers)\n",
    "print(one_hots)"
   ]
  },
  {
   "cell_type": "code",
   "execution_count": 9,
   "metadata": {},
   "outputs": [],
   "source": [
    "# turn input into a form that e3nn can understand\n",
    "import e3nn.point.data_helpers as dh \n",
    "data = dh.DataNeighbors(x=one_hots, Rs_in = model_kwargs[\"Rs_in\"], pos = geometry, r_max=model_kwargs[\"max_radius\"], Rs_out=model_kwargs[\"Rs_out\"])"
   ]
  },
  {
   "cell_type": "code",
   "execution_count": 10,
   "metadata": {},
   "outputs": [
    {
     "name": "stdout",
     "output_type": "stream",
     "text": [
      "tensor([[ -32.3423],\n",
      "        [-445.4471],\n",
      "        [ 149.4786],\n",
      "        [  30.5736],\n",
      "        [  27.0376],\n",
      "        [  26.9489],\n",
      "        [ 152.5420],\n",
      "        [  27.5167],\n",
      "        [  28.2830],\n",
      "        [  27.9769]])\n",
      "tensor([  91.3635, -402.2257,  199.6065,   31.0486,   28.9889,   28.2823,\n",
      "         200.1423,   29.0782,   29.3665,   28.2578])\n"
     ]
    }
   ],
   "source": [
    "model.eval()  # because of batchnorm\n",
    "with torch.no_grad():  # do not compute gradients\n",
    "    output = model(data.x, data.edge_index, data.edge_attr, n_norm=model_kwargs[\"n_norm\"])\n",
    "print(output) # this is the prediction of the model\n",
    "print(shieldings) # sanity check"
   ]
  },
  {
   "cell_type": "code",
   "execution_count": 11,
   "metadata": {},
   "outputs": [
    {
     "name": "stdout",
     "output_type": "stream",
     "text": [
      "  #     Z   predicted   expected   residual\n",
      "  0     6      -32.34      91.36    -123.71\n",
      "  1     8     -445.45    -402.23     -43.22\n",
      "  2     6      149.48     199.61     -50.13\n",
      "  3     1       30.57      31.05      -0.47\n",
      "  4     1       27.04      28.99      -1.95\n",
      "  5     1       26.95      28.28      -1.33\n",
      "  6     6      152.54     200.14     -47.60\n",
      "  7     1       27.52      29.08      -1.56\n",
      "  8     1       28.28      29.37      -1.08\n",
      "  9     1       27.98      28.26      -0.28\n"
     ]
    }
   ],
   "source": [
    "print(\"  #     Z   predicted   expected   residual\")\n",
    "for i,atomic_number in enumerate(atomic_numbers):\n",
    "    error = float(output[i])-float(shieldings[i])\n",
    "    print(f\"{i:3d}    {atomic_number:2d}    {float(output[i]):8.2f}   {float(shieldings[i]):8.2f}   {error:8.2f}\")"
   ]
  },
  {
   "cell_type": "code",
   "execution_count": 12,
   "metadata": {},
   "outputs": [],
   "source": [
    "import cctk, glob\n",
    "import e3nn.point.data_helpers as dh \n",
    "\n",
    "def compare_predictions(gaussian_output):\n",
    "    molecule = gaussian_output.get_molecule()\n",
    "    # make geometry and shieldings a tensor\n",
    "    geometry = torch.tensor(molecule.geometry.view(np.ndarray), dtype=torch.float64)\n",
    "    shieldings = torch.tensor(gaussian_output.ensemble[:,\"isotropic_shielding\"], dtype=torch.float64)\n",
    "    # generate one-hots\n",
    "    one_hots = []\n",
    "    for symbol in molecule.atomic_numbers.view(np.ndarray):\n",
    "        inner_list = [ 1. if symbol == i else 0. for i in all_elements ]\n",
    "        one_hots.append(inner_list)\n",
    "    one_hots = torch.tensor(one_hots, dtype=torch.float64)\n",
    "    \n",
    "    assert len(one_hots) == molecule.num_atoms()\n",
    "    \n",
    "    # something data something\n",
    "    data = dh.DataNeighbors(x=one_hots, Rs_in = model_kwargs[\"Rs_in\"], pos = geometry, r_max=model_kwargs[\"max_radius\"], Rs_out=model_kwargs[\"Rs_out\"])\n",
    "    \n",
    "    model.eval()  # because of batchnorm\n",
    "    with torch.no_grad():  # do not compute gradients\n",
    "        output = model(data.x, data.edge_index, data.edge_attr, n_norm=model_kwargs[\"n_norm\"])\n",
    "\n",
    "    residuals = [float(output[i]) - float(shieldings[i]) for i in range(molecule.num_atoms())]\n",
    "    return output, shieldings, np.array(residuals)\n"
   ]
  },
  {
   "cell_type": "code",
   "execution_count": 18,
   "metadata": {
    "scrolled": true
   },
   "outputs": [
    {
     "name": "stdout",
     "output_type": "stream",
     "text": [
      "thiophene (11 files):\n",
      "#\t00  \t01  \t02  \t03  \t04  \t05  \t06  \t07  \t08  \t09  \t10  \tmean\n",
      "H\t0.31\t0.58\t0.51\t0.28\t0.30\t0.58\t0.51\t0.31\t0.89\t0.47\t0.56\t0.50\n",
      "C\t1.09\t0.52\t0.82\t1.60\t2.35\t1.75\t1.89\t1.02\t0.76\t2.15\t1.13\t1.40\n",
      "\n",
      "tetrahydrofuran (11 files):\n",
      "#\t00  \t01  \t02  \t03  \t04  \t05  \t06  \t07  \t08  \t09  \t10  \tmean\n",
      "H\t0.23\t0.22\t0.29\t0.23\t0.28\t0.15\t0.21\t0.40\t0.17\t0.44\t0.19\t0.26\n",
      "C\t1.06\t0.78\t1.33\t0.72\t1.31\t0.54\t0.80\t0.63\t0.99\t1.21\t0.89\t0.92\n",
      "\n",
      "triethylamine (11 files):\n",
      "#\t00  \t01  \t02  \t03  \t04  \t05  \t06  \t07  \t08  \t09  \t10  \tmean\n",
      "H\t0.32\t0.31\t0.38\t0.34\t0.30\t0.34\t0.49\t0.28\t0.34\t0.38\t0.33\t0.35\n",
      "C\t1.14\t1.36\t0.76\t0.89\t0.33\t0.78\t0.97\t0.94\t0.61\t0.97\t0.89\t0.85\n",
      "\n",
      "methane (11 files):\n",
      "#\t00  \t01  \t02  \t03  \t04  \t05  \t06  \t07  \t08  \t09  \t10  \tmean\n",
      "H\t0.70\t0.53\t0.21\t0.59\t0.16\t0.49\t0.37\t0.40\t0.45\t0.38\t0.26\t0.38\n",
      "C\t0.24\t0.02\t0.28\t0.45\t0.52\t0.52\t0.08\t0.22\t0.19\t0.33\t0.09\t0.27\n",
      "\n",
      "pyridine (11 files):\n"
     ]
    },
    {
     "ename": "KeyboardInterrupt",
     "evalue": "",
     "output_type": "error",
     "traceback": [
      "\u001b[0;31m---------------------------------------------------------------------------\u001b[0m",
      "\u001b[0;31mKeyboardInterrupt\u001b[0m                         Traceback (most recent call last)",
      "\u001b[0;32m<ipython-input-18-0a128269d041>\u001b[0m in \u001b[0;36m<module>\u001b[0;34m\u001b[0m\n\u001b[1;32m     15\u001b[0m     \u001b[0;32mfor\u001b[0m \u001b[0mjigglenum\u001b[0m\u001b[0;34m,\u001b[0m \u001b[0moutfile\u001b[0m \u001b[0;32min\u001b[0m \u001b[0menumerate\u001b[0m\u001b[0;34m(\u001b[0m\u001b[0moutfiles\u001b[0m\u001b[0;34m)\u001b[0m\u001b[0;34m:\u001b[0m\u001b[0;34m\u001b[0m\u001b[0;34m\u001b[0m\u001b[0m\n\u001b[1;32m     16\u001b[0m         \u001b[0;31m#print(\"pred\\tactual\\tresid\")\u001b[0m\u001b[0;34m\u001b[0m\u001b[0;34m\u001b[0m\u001b[0;34m\u001b[0m\u001b[0m\n\u001b[0;32m---> 17\u001b[0;31m         \u001b[0mpred\u001b[0m\u001b[0;34m,\u001b[0m \u001b[0mactual\u001b[0m\u001b[0;34m,\u001b[0m \u001b[0mresid\u001b[0m \u001b[0;34m=\u001b[0m \u001b[0mcompare_predictions\u001b[0m\u001b[0;34m(\u001b[0m\u001b[0moutfile\u001b[0m\u001b[0;34m)\u001b[0m\u001b[0;34m\u001b[0m\u001b[0;34m\u001b[0m\u001b[0m\n\u001b[0m\u001b[1;32m     18\u001b[0m         \u001b[0;31m#for i in range(len(resid)):\u001b[0m\u001b[0;34m\u001b[0m\u001b[0;34m\u001b[0m\u001b[0;34m\u001b[0m\u001b[0m\n\u001b[1;32m     19\u001b[0m             \u001b[0;31m#print(f\"{float(pred[i]):.2f}\\t{float(actual[i]):.2f}\\t{resid[i]:.2f}\")\u001b[0m\u001b[0;34m\u001b[0m\u001b[0;34m\u001b[0m\u001b[0;34m\u001b[0m\u001b[0m\n",
      "\u001b[0;32m<ipython-input-12-42dcb50b0a2d>\u001b[0m in \u001b[0;36mcompare_predictions\u001b[0;34m(gaussian_output)\u001b[0m\n\u001b[1;32m     21\u001b[0m     \u001b[0mmodel\u001b[0m\u001b[0;34m.\u001b[0m\u001b[0meval\u001b[0m\u001b[0;34m(\u001b[0m\u001b[0;34m)\u001b[0m  \u001b[0;31m# because of batchnorm\u001b[0m\u001b[0;34m\u001b[0m\u001b[0;34m\u001b[0m\u001b[0m\n\u001b[1;32m     22\u001b[0m     \u001b[0;32mwith\u001b[0m \u001b[0mtorch\u001b[0m\u001b[0;34m.\u001b[0m\u001b[0mno_grad\u001b[0m\u001b[0;34m(\u001b[0m\u001b[0;34m)\u001b[0m\u001b[0;34m:\u001b[0m  \u001b[0;31m# do not compute gradients\u001b[0m\u001b[0;34m\u001b[0m\u001b[0;34m\u001b[0m\u001b[0m\n\u001b[0;32m---> 23\u001b[0;31m         \u001b[0moutput\u001b[0m \u001b[0;34m=\u001b[0m \u001b[0mmodel\u001b[0m\u001b[0;34m(\u001b[0m\u001b[0mdata\u001b[0m\u001b[0;34m.\u001b[0m\u001b[0mx\u001b[0m\u001b[0;34m,\u001b[0m \u001b[0mdata\u001b[0m\u001b[0;34m.\u001b[0m\u001b[0medge_index\u001b[0m\u001b[0;34m,\u001b[0m \u001b[0mdata\u001b[0m\u001b[0;34m.\u001b[0m\u001b[0medge_attr\u001b[0m\u001b[0;34m,\u001b[0m \u001b[0mn_norm\u001b[0m\u001b[0;34m=\u001b[0m\u001b[0mmodel_kwargs\u001b[0m\u001b[0;34m[\u001b[0m\u001b[0;34m\"n_norm\"\u001b[0m\u001b[0;34m]\u001b[0m\u001b[0;34m)\u001b[0m\u001b[0;34m\u001b[0m\u001b[0;34m\u001b[0m\u001b[0m\n\u001b[0m\u001b[1;32m     24\u001b[0m \u001b[0;34m\u001b[0m\u001b[0m\n\u001b[1;32m     25\u001b[0m     \u001b[0mresiduals\u001b[0m \u001b[0;34m=\u001b[0m \u001b[0;34m[\u001b[0m\u001b[0mfloat\u001b[0m\u001b[0;34m(\u001b[0m\u001b[0moutput\u001b[0m\u001b[0;34m[\u001b[0m\u001b[0mi\u001b[0m\u001b[0;34m]\u001b[0m\u001b[0;34m)\u001b[0m \u001b[0;34m-\u001b[0m \u001b[0mfloat\u001b[0m\u001b[0;34m(\u001b[0m\u001b[0mshieldings\u001b[0m\u001b[0;34m[\u001b[0m\u001b[0mi\u001b[0m\u001b[0;34m]\u001b[0m\u001b[0;34m)\u001b[0m \u001b[0;32mfor\u001b[0m \u001b[0mi\u001b[0m \u001b[0;32min\u001b[0m \u001b[0mrange\u001b[0m\u001b[0;34m(\u001b[0m\u001b[0mmolecule\u001b[0m\u001b[0;34m.\u001b[0m\u001b[0mnum_atoms\u001b[0m\u001b[0;34m(\u001b[0m\u001b[0;34m)\u001b[0m\u001b[0;34m)\u001b[0m\u001b[0;34m]\u001b[0m\u001b[0;34m\u001b[0m\u001b[0;34m\u001b[0m\u001b[0m\n",
      "\u001b[0;32m~/anaconda2/envs/solvent/lib/python3.8/site-packages/torch/nn/modules/module.py\u001b[0m in \u001b[0;36m__call__\u001b[0;34m(self, *input, **kwargs)\u001b[0m\n\u001b[1;32m    548\u001b[0m             \u001b[0mresult\u001b[0m \u001b[0;34m=\u001b[0m \u001b[0mself\u001b[0m\u001b[0;34m.\u001b[0m\u001b[0m_slow_forward\u001b[0m\u001b[0;34m(\u001b[0m\u001b[0;34m*\u001b[0m\u001b[0minput\u001b[0m\u001b[0;34m,\u001b[0m \u001b[0;34m**\u001b[0m\u001b[0mkwargs\u001b[0m\u001b[0;34m)\u001b[0m\u001b[0;34m\u001b[0m\u001b[0;34m\u001b[0m\u001b[0m\n\u001b[1;32m    549\u001b[0m         \u001b[0;32melse\u001b[0m\u001b[0;34m:\u001b[0m\u001b[0;34m\u001b[0m\u001b[0;34m\u001b[0m\u001b[0m\n\u001b[0;32m--> 550\u001b[0;31m             \u001b[0mresult\u001b[0m \u001b[0;34m=\u001b[0m \u001b[0mself\u001b[0m\u001b[0;34m.\u001b[0m\u001b[0mforward\u001b[0m\u001b[0;34m(\u001b[0m\u001b[0;34m*\u001b[0m\u001b[0minput\u001b[0m\u001b[0;34m,\u001b[0m \u001b[0;34m**\u001b[0m\u001b[0mkwargs\u001b[0m\u001b[0;34m)\u001b[0m\u001b[0;34m\u001b[0m\u001b[0;34m\u001b[0m\u001b[0m\n\u001b[0m\u001b[1;32m    551\u001b[0m         \u001b[0;32mfor\u001b[0m \u001b[0mhook\u001b[0m \u001b[0;32min\u001b[0m \u001b[0mself\u001b[0m\u001b[0;34m.\u001b[0m\u001b[0m_forward_hooks\u001b[0m\u001b[0;34m.\u001b[0m\u001b[0mvalues\u001b[0m\u001b[0;34m(\u001b[0m\u001b[0;34m)\u001b[0m\u001b[0;34m:\u001b[0m\u001b[0;34m\u001b[0m\u001b[0;34m\u001b[0m\u001b[0m\n\u001b[1;32m    552\u001b[0m             \u001b[0mhook_result\u001b[0m \u001b[0;34m=\u001b[0m \u001b[0mhook\u001b[0m\u001b[0;34m(\u001b[0m\u001b[0mself\u001b[0m\u001b[0;34m,\u001b[0m \u001b[0minput\u001b[0m\u001b[0;34m,\u001b[0m \u001b[0mresult\u001b[0m\u001b[0;34m)\u001b[0m\u001b[0;34m\u001b[0m\u001b[0;34m\u001b[0m\u001b[0m\n",
      "\u001b[0;32m~/research/solvent/repo/training/parallel/variable_networks.py\u001b[0m in \u001b[0;36mforward\u001b[0;34m(self, input, *args, **kwargs)\u001b[0m\n\u001b[1;32m    114\u001b[0m                 \u001b[0;32mfor\u001b[0m \u001b[0mi\u001b[0m\u001b[0;34m,\u001b[0m \u001b[0msublayer\u001b[0m \u001b[0;32min\u001b[0m \u001b[0menumerate\u001b[0m\u001b[0;34m(\u001b[0m\u001b[0mlayer\u001b[0m\u001b[0;34m)\u001b[0m\u001b[0;34m:\u001b[0m\u001b[0;34m\u001b[0m\u001b[0;34m\u001b[0m\u001b[0m\n\u001b[1;32m    115\u001b[0m                     \u001b[0;32mif\u001b[0m \u001b[0mi\u001b[0m \u001b[0;34m==\u001b[0m \u001b[0;36m0\u001b[0m\u001b[0;34m:\u001b[0m\u001b[0;34m\u001b[0m\u001b[0;34m\u001b[0m\u001b[0m\n\u001b[0;32m--> 116\u001b[0;31m                         \u001b[0moutput\u001b[0m \u001b[0;34m=\u001b[0m \u001b[0msublayer\u001b[0m\u001b[0;34m(\u001b[0m\u001b[0moutput\u001b[0m\u001b[0;34m,\u001b[0m \u001b[0;34m*\u001b[0m\u001b[0margs\u001b[0m\u001b[0;34m,\u001b[0m \u001b[0;34m**\u001b[0m\u001b[0mkwargs\u001b[0m\u001b[0;34m)\u001b[0m\u001b[0;34m\u001b[0m\u001b[0;34m\u001b[0m\u001b[0m\n\u001b[0m\u001b[1;32m    117\u001b[0m                     \u001b[0;32melse\u001b[0m\u001b[0;34m:\u001b[0m\u001b[0;34m\u001b[0m\u001b[0;34m\u001b[0m\u001b[0m\n\u001b[1;32m    118\u001b[0m                         \u001b[0moutput\u001b[0m \u001b[0;34m=\u001b[0m \u001b[0msublayer\u001b[0m\u001b[0;34m(\u001b[0m\u001b[0moutput\u001b[0m\u001b[0;34m)\u001b[0m\u001b[0;34m\u001b[0m\u001b[0;34m\u001b[0m\u001b[0m\n",
      "\u001b[0;32m~/anaconda2/envs/solvent/lib/python3.8/site-packages/torch/nn/modules/module.py\u001b[0m in \u001b[0;36m__call__\u001b[0;34m(self, *input, **kwargs)\u001b[0m\n\u001b[1;32m    548\u001b[0m             \u001b[0mresult\u001b[0m \u001b[0;34m=\u001b[0m \u001b[0mself\u001b[0m\u001b[0;34m.\u001b[0m\u001b[0m_slow_forward\u001b[0m\u001b[0;34m(\u001b[0m\u001b[0;34m*\u001b[0m\u001b[0minput\u001b[0m\u001b[0;34m,\u001b[0m \u001b[0;34m**\u001b[0m\u001b[0mkwargs\u001b[0m\u001b[0;34m)\u001b[0m\u001b[0;34m\u001b[0m\u001b[0;34m\u001b[0m\u001b[0m\n\u001b[1;32m    549\u001b[0m         \u001b[0;32melse\u001b[0m\u001b[0;34m:\u001b[0m\u001b[0;34m\u001b[0m\u001b[0;34m\u001b[0m\u001b[0m\n\u001b[0;32m--> 550\u001b[0;31m             \u001b[0mresult\u001b[0m \u001b[0;34m=\u001b[0m \u001b[0mself\u001b[0m\u001b[0;34m.\u001b[0m\u001b[0mforward\u001b[0m\u001b[0;34m(\u001b[0m\u001b[0;34m*\u001b[0m\u001b[0minput\u001b[0m\u001b[0;34m,\u001b[0m \u001b[0;34m**\u001b[0m\u001b[0mkwargs\u001b[0m\u001b[0;34m)\u001b[0m\u001b[0;34m\u001b[0m\u001b[0;34m\u001b[0m\u001b[0m\n\u001b[0m\u001b[1;32m    551\u001b[0m         \u001b[0;32mfor\u001b[0m \u001b[0mhook\u001b[0m \u001b[0;32min\u001b[0m \u001b[0mself\u001b[0m\u001b[0;34m.\u001b[0m\u001b[0m_forward_hooks\u001b[0m\u001b[0;34m.\u001b[0m\u001b[0mvalues\u001b[0m\u001b[0;34m(\u001b[0m\u001b[0;34m)\u001b[0m\u001b[0;34m:\u001b[0m\u001b[0;34m\u001b[0m\u001b[0;34m\u001b[0m\u001b[0m\n\u001b[1;32m    552\u001b[0m             \u001b[0mhook_result\u001b[0m \u001b[0;34m=\u001b[0m \u001b[0mhook\u001b[0m\u001b[0;34m(\u001b[0m\u001b[0mself\u001b[0m\u001b[0;34m,\u001b[0m \u001b[0minput\u001b[0m\u001b[0;34m,\u001b[0m \u001b[0mresult\u001b[0m\u001b[0;34m)\u001b[0m\u001b[0;34m\u001b[0m\u001b[0;34m\u001b[0m\u001b[0m\n",
      "\u001b[0;32m~/research/solvent/repo/training/parallel/sparse_kernel_conv.py\u001b[0m in \u001b[0;36mforward\u001b[0;34m(self, *args, **kwargs)\u001b[0m\n\u001b[1;32m    120\u001b[0m         \u001b[0mself\u001b[0m\u001b[0;34m.\u001b[0m\u001b[0mkernel\u001b[0m \u001b[0;34m=\u001b[0m \u001b[0mkernel\u001b[0m\u001b[0;34m\u001b[0m\u001b[0;34m\u001b[0m\u001b[0m\n\u001b[1;32m    121\u001b[0m     \u001b[0;32mdef\u001b[0m \u001b[0mforward\u001b[0m\u001b[0;34m(\u001b[0m\u001b[0mself\u001b[0m\u001b[0;34m,\u001b[0m \u001b[0;34m*\u001b[0m\u001b[0margs\u001b[0m\u001b[0;34m,\u001b[0m \u001b[0;34m**\u001b[0m\u001b[0mkwargs\u001b[0m\u001b[0;34m)\u001b[0m\u001b[0;34m:\u001b[0m\u001b[0;34m\u001b[0m\u001b[0;34m\u001b[0m\u001b[0m\n\u001b[0;32m--> 122\u001b[0;31m         \u001b[0;32mreturn\u001b[0m \u001b[0mself\u001b[0m\u001b[0;34m.\u001b[0m\u001b[0mkernel\u001b[0m\u001b[0;34m.\u001b[0m\u001b[0mforward\u001b[0m\u001b[0;34m(\u001b[0m\u001b[0;34m*\u001b[0m\u001b[0margs\u001b[0m\u001b[0;34m,\u001b[0m \u001b[0;34m**\u001b[0m\u001b[0mkwargs\u001b[0m\u001b[0;34m)\u001b[0m\u001b[0;34m\u001b[0m\u001b[0;34m\u001b[0m\u001b[0m\n\u001b[0m\u001b[1;32m    123\u001b[0m \u001b[0;34m\u001b[0m\u001b[0m\n\u001b[1;32m    124\u001b[0m \u001b[0;32mdef\u001b[0m \u001b[0mDummyConvolutionFn\u001b[0m\u001b[0;34m(\u001b[0m\u001b[0mkernel_conv\u001b[0m\u001b[0;34m)\u001b[0m\u001b[0;34m:\u001b[0m\u001b[0;34m\u001b[0m\u001b[0;34m\u001b[0m\u001b[0m\n",
      "\u001b[0;32m~/research/solvent/repo/training/parallel/sparse_kernel_conv.py\u001b[0m in \u001b[0;36mforward\u001b[0;34m(self, features, edge_index, edge_r, size, n_norm, custom_backward)\u001b[0m\n\u001b[1;32m     40\u001b[0m             \u001b[0;31m#)\u001b[0m\u001b[0;34m\u001b[0m\u001b[0;34m\u001b[0m\u001b[0;34m\u001b[0m\u001b[0m\n\u001b[1;32m     41\u001b[0m         \u001b[0;32melse\u001b[0m\u001b[0;34m:\u001b[0m\u001b[0;34m\u001b[0m\u001b[0;34m\u001b[0m\u001b[0m\n\u001b[0;32m---> 42\u001b[0;31m             output = kernel_conv_fn_forward(\n\u001b[0m\u001b[1;32m     43\u001b[0m                 \u001b[0mfeatures\u001b[0m\u001b[0;34m,\u001b[0m \u001b[0medge_index\u001b[0m\u001b[0;34m,\u001b[0m \u001b[0my\u001b[0m\u001b[0;34m,\u001b[0m \u001b[0mr\u001b[0m\u001b[0;34m,\u001b[0m \u001b[0mself\u001b[0m\u001b[0;34m.\u001b[0m\u001b[0mnorm_coef\u001b[0m\u001b[0;34m,\u001b[0m \u001b[0mself\u001b[0m\u001b[0;34m.\u001b[0m\u001b[0mRs_in\u001b[0m\u001b[0;34m,\u001b[0m \u001b[0mself\u001b[0m\u001b[0;34m.\u001b[0m\u001b[0mRs_out\u001b[0m\u001b[0;34m,\u001b[0m \u001b[0mself\u001b[0m\u001b[0;34m.\u001b[0m\u001b[0mselection_rule\u001b[0m\u001b[0;34m,\u001b[0m \u001b[0mself\u001b[0m\u001b[0;34m.\u001b[0m\u001b[0mset_of_l_filters\u001b[0m\u001b[0;34m\u001b[0m\u001b[0;34m\u001b[0m\u001b[0m\n\u001b[1;32m     44\u001b[0m             )\n",
      "\u001b[0;32m~/research/solvent/repo/training/parallel/sparse_kernel_conv.py\u001b[0m in \u001b[0;36mkernel_conv_fn_forward\u001b[0;34m(F, edge_index, Y, R, norm_coef, Rs_in, Rs_out, selection_rule, set_of_l_filters)\u001b[0m\n\u001b[1;32m    106\u001b[0m \u001b[0;34m\u001b[0m\u001b[0m\n\u001b[1;32m    107\u001b[0m                 \u001b[0mEF\u001b[0m \u001b[0;34m=\u001b[0m \u001b[0mF\u001b[0m\u001b[0;34m[\u001b[0m\u001b[0medge_index\u001b[0m\u001b[0;34m[\u001b[0m\u001b[0;36m1\u001b[0m\u001b[0;34m]\u001b[0m\u001b[0;34m,\u001b[0m \u001b[0ms_in\u001b[0m\u001b[0;34m]\u001b[0m\u001b[0;34m.\u001b[0m\u001b[0mreshape\u001b[0m\u001b[0;34m(\u001b[0m\u001b[0mn_edges\u001b[0m\u001b[0;34m,\u001b[0m \u001b[0mmul_in\u001b[0m\u001b[0;34m,\u001b[0m \u001b[0;34m-\u001b[0m\u001b[0;36m1\u001b[0m\u001b[0;34m)\u001b[0m \u001b[0;31m# [num_edges, mul_in, J]\u001b[0m\u001b[0;34m\u001b[0m\u001b[0;34m\u001b[0m\u001b[0m\n\u001b[0;32m--> 108\u001b[0;31m                 D = norm_coef[i, j] * torch.einsum(\"ijk,ek,euv,evj->eui\",\n\u001b[0m\u001b[1;32m    109\u001b[0m                         C, sub_Y, sub_R[..., k], EF) # [num_edges, mul_out, I]\n\u001b[1;32m    110\u001b[0m                 \u001b[0mK\u001b[0m \u001b[0;34m+=\u001b[0m \u001b[0mscatter_add\u001b[0m\u001b[0;34m(\u001b[0m\u001b[0mD\u001b[0m\u001b[0;34m,\u001b[0m \u001b[0medge_index\u001b[0m\u001b[0;34m[\u001b[0m\u001b[0;36m0\u001b[0m\u001b[0;34m]\u001b[0m\u001b[0;34m,\u001b[0m \u001b[0;36m0\u001b[0m\u001b[0;34m,\u001b[0m \u001b[0mn_atoms\u001b[0m\u001b[0;34m)\u001b[0m \u001b[0;31m# [n_atoms, mul_out, I]\u001b[0m\u001b[0;34m\u001b[0m\u001b[0;34m\u001b[0m\u001b[0m\n",
      "\u001b[0;32m~/anaconda2/envs/solvent/lib/python3.8/site-packages/torch/functional.py\u001b[0m in \u001b[0;36meinsum\u001b[0;34m(equation, *operands)\u001b[0m\n\u001b[1;32m    290\u001b[0m         \u001b[0;31m# the old interface of passing the operands as one list argument\u001b[0m\u001b[0;34m\u001b[0m\u001b[0;34m\u001b[0m\u001b[0;34m\u001b[0m\u001b[0m\n\u001b[1;32m    291\u001b[0m         \u001b[0moperands\u001b[0m \u001b[0;34m=\u001b[0m \u001b[0moperands\u001b[0m\u001b[0;34m[\u001b[0m\u001b[0;36m0\u001b[0m\u001b[0;34m]\u001b[0m\u001b[0;34m\u001b[0m\u001b[0;34m\u001b[0m\u001b[0m\n\u001b[0;32m--> 292\u001b[0;31m     \u001b[0;32mreturn\u001b[0m \u001b[0m_VF\u001b[0m\u001b[0;34m.\u001b[0m\u001b[0meinsum\u001b[0m\u001b[0;34m(\u001b[0m\u001b[0mequation\u001b[0m\u001b[0;34m,\u001b[0m \u001b[0moperands\u001b[0m\u001b[0;34m)\u001b[0m\u001b[0;34m\u001b[0m\u001b[0;34m\u001b[0m\u001b[0m\n\u001b[0m\u001b[1;32m    293\u001b[0m \u001b[0;34m\u001b[0m\u001b[0m\n\u001b[1;32m    294\u001b[0m \u001b[0;34m\u001b[0m\u001b[0m\n",
      "\u001b[0;31mKeyboardInterrupt\u001b[0m: "
     ]
    }
   ],
   "source": [
    "filenames = \"../../../testing/final_nmrs/*.out\" # buncha nmr outfiles i have. need to change relative path for your system\n",
    "for filename in glob.glob(filenames):\n",
    "    name = filename.split(\"/\")[-1].replace(\"_nmr.out\", \"\")\n",
    "    print(name + \" (11 files):\")\n",
    "    outfiles = cctk.GaussianFile.read_file(filename)\n",
    "    Z = outfiles[0].get_molecule().atomic_numbers.view(np.ndarray)\n",
    "    \n",
    "    row1 = \"#\"\n",
    "    row2 = \"H\"\n",
    "    row3 = \"C\"\n",
    "    \n",
    "    avgh = 0\n",
    "    avgc = 0\n",
    "    \n",
    "    for jigglenum, outfile in enumerate(outfiles):\n",
    "        #print(\"pred\\tactual\\tresid\")\n",
    "        pred, actual, resid = compare_predictions(outfile)\n",
    "        #for i in range(len(resid)):\n",
    "            #print(f\"{float(pred[i]):.2f}\\t{float(actual[i]):.2f}\\t{resid[i]:.2f}\")\n",
    "        h_resids = []\n",
    "        c_resids = []\n",
    "        \n",
    "        for i in range(len(resid)):\n",
    "            if Z[i] == 1:\n",
    "                h_resids.append(resid[i])\n",
    "            elif Z[i] == 6:\n",
    "                c_resids.append(resid[i])\n",
    "                \n",
    "        h_mae, c_mae = 0, 0\n",
    "        if len(h_resids):\n",
    "            h_mae = sum([abs(h) for h in h_resids]) / len(h_resids)\n",
    "        if len(c_resids):\n",
    "            c_mae = sum([abs(c) for c in c_resids]) / len(c_resids)\n",
    "\n",
    "        if jigglenum:\n",
    "            avgh += h_mae\n",
    "            avgc += c_mae\n",
    "        \n",
    "        row1 += f\"\\t{jigglenum:02d}  \"\n",
    "        row2 += f\"\\t{h_mae:.2f}\"\n",
    "        row3 += f\"\\t{c_mae:.2f}\"\n",
    "        \n",
    "    row1 += \"\\tmean\"\n",
    "    row2 += f\"\\t{avgh/10:.2f}\"\n",
    "    row3 += f\"\\t{avgc/10:.2f}\"\n",
    "    \n",
    "    print(row1)\n",
    "    print(row2)\n",
    "    print(row3)\n",
    "    print(\"\")"
   ]
  },
  {
   "cell_type": "code",
   "execution_count": 15,
   "metadata": {},
   "outputs": [
    {
     "name": "stdout",
     "output_type": "stream",
     "text": [
      "methane (11 files):\n"
     ]
    },
    {
     "ename": "FileNotFoundError",
     "evalue": "[Errno 2] No such file or directory: '../../../testing/final_nmrs/methane_nmr.out'",
     "output_type": "error",
     "traceback": [
      "\u001b[0;31m---------------------------------------------------------------------------\u001b[0m",
      "\u001b[0;31mFileNotFoundError\u001b[0m                         Traceback (most recent call last)",
      "\u001b[0;32m<ipython-input-15-cefbebb44d00>\u001b[0m in \u001b[0;36m<module>\u001b[0;34m\u001b[0m\n\u001b[1;32m      3\u001b[0m \u001b[0mname\u001b[0m \u001b[0;34m=\u001b[0m \u001b[0mfilename\u001b[0m\u001b[0;34m.\u001b[0m\u001b[0msplit\u001b[0m\u001b[0;34m(\u001b[0m\u001b[0;34m\"/\"\u001b[0m\u001b[0;34m)\u001b[0m\u001b[0;34m[\u001b[0m\u001b[0;34m-\u001b[0m\u001b[0;36m1\u001b[0m\u001b[0;34m]\u001b[0m\u001b[0;34m.\u001b[0m\u001b[0mreplace\u001b[0m\u001b[0;34m(\u001b[0m\u001b[0;34m\"_nmr.out\"\u001b[0m\u001b[0;34m,\u001b[0m \u001b[0;34m\"\"\u001b[0m\u001b[0;34m)\u001b[0m\u001b[0;34m\u001b[0m\u001b[0;34m\u001b[0m\u001b[0m\n\u001b[1;32m      4\u001b[0m \u001b[0mprint\u001b[0m\u001b[0;34m(\u001b[0m\u001b[0mname\u001b[0m \u001b[0;34m+\u001b[0m \u001b[0;34m\" (11 files):\"\u001b[0m\u001b[0;34m)\u001b[0m\u001b[0;34m\u001b[0m\u001b[0;34m\u001b[0m\u001b[0m\n\u001b[0;32m----> 5\u001b[0;31m \u001b[0moutfiles\u001b[0m \u001b[0;34m=\u001b[0m \u001b[0mcctk\u001b[0m\u001b[0;34m.\u001b[0m\u001b[0mGaussianFile\u001b[0m\u001b[0;34m.\u001b[0m\u001b[0mread_file\u001b[0m\u001b[0;34m(\u001b[0m\u001b[0mfilename\u001b[0m\u001b[0;34m)\u001b[0m\u001b[0;34m\u001b[0m\u001b[0;34m\u001b[0m\u001b[0m\n\u001b[0m\u001b[1;32m      6\u001b[0m \u001b[0mZ\u001b[0m \u001b[0;34m=\u001b[0m \u001b[0moutfiles\u001b[0m\u001b[0;34m[\u001b[0m\u001b[0;36m0\u001b[0m\u001b[0;34m]\u001b[0m\u001b[0;34m.\u001b[0m\u001b[0mget_molecule\u001b[0m\u001b[0;34m(\u001b[0m\u001b[0;34m)\u001b[0m\u001b[0;34m.\u001b[0m\u001b[0matomic_numbers\u001b[0m\u001b[0;34m.\u001b[0m\u001b[0mview\u001b[0m\u001b[0;34m(\u001b[0m\u001b[0mnp\u001b[0m\u001b[0;34m.\u001b[0m\u001b[0mndarray\u001b[0m\u001b[0;34m)\u001b[0m\u001b[0;34m\u001b[0m\u001b[0;34m\u001b[0m\u001b[0m\n\u001b[1;32m      7\u001b[0m \u001b[0;34m\u001b[0m\u001b[0m\n",
      "\u001b[0;32m~/anaconda2/envs/solvent/lib/python3.8/site-packages/cctk/gaussian_file.py\u001b[0m in \u001b[0;36mread_file\u001b[0;34m(cls, filename, return_lines, extended_opt_info)\u001b[0m\n\u001b[1;32m    713\u001b[0m             \u001b[0;32mreturn\u001b[0m \u001b[0mcls\u001b[0m\u001b[0;34m.\u001b[0m\u001b[0m_read_gjf_file\u001b[0m\u001b[0;34m(\u001b[0m\u001b[0mfilename\u001b[0m\u001b[0;34m,\u001b[0m \u001b[0mreturn_lines\u001b[0m\u001b[0;34m)\u001b[0m\u001b[0;34m\u001b[0m\u001b[0;34m\u001b[0m\u001b[0m\n\u001b[1;32m    714\u001b[0m \u001b[0;34m\u001b[0m\u001b[0m\n\u001b[0;32m--> 715\u001b[0;31m         \u001b[0mlink1_lines\u001b[0m \u001b[0;34m=\u001b[0m \u001b[0mparse\u001b[0m\u001b[0;34m.\u001b[0m\u001b[0msplit_link1_to_text\u001b[0m\u001b[0;34m(\u001b[0m\u001b[0mfilename\u001b[0m\u001b[0;34m)\u001b[0m\u001b[0;34m\u001b[0m\u001b[0;34m\u001b[0m\u001b[0m\n\u001b[0m\u001b[1;32m    716\u001b[0m         \u001b[0mfiles\u001b[0m \u001b[0;34m=\u001b[0m \u001b[0;34m[\u001b[0m\u001b[0;34m]\u001b[0m\u001b[0;34m\u001b[0m\u001b[0;34m\u001b[0m\u001b[0m\n\u001b[1;32m    717\u001b[0m \u001b[0;34m\u001b[0m\u001b[0m\n",
      "\u001b[0;32m~/anaconda2/envs/solvent/lib/python3.8/site-packages/cctk/parse_gaussian.py\u001b[0m in \u001b[0;36msplit_link1_to_text\u001b[0;34m(filename)\u001b[0m\n\u001b[1;32m    859\u001b[0m \u001b[0;32mdef\u001b[0m \u001b[0msplit_link1_to_text\u001b[0m\u001b[0;34m(\u001b[0m\u001b[0mfilename\u001b[0m\u001b[0;34m)\u001b[0m\u001b[0;34m:\u001b[0m\u001b[0;34m\u001b[0m\u001b[0;34m\u001b[0m\u001b[0m\n\u001b[1;32m    860\u001b[0m     \u001b[0mlink1_blocks\u001b[0m \u001b[0;34m=\u001b[0m \u001b[0;34m[\u001b[0m\u001b[0;34m]\u001b[0m\u001b[0;34m\u001b[0m\u001b[0;34m\u001b[0m\u001b[0m\n\u001b[0;32m--> 861\u001b[0;31m     \u001b[0;32mwith\u001b[0m \u001b[0mopen\u001b[0m\u001b[0;34m(\u001b[0m\u001b[0mfilename\u001b[0m\u001b[0;34m,\u001b[0m \u001b[0;34m\"r\"\u001b[0m\u001b[0;34m)\u001b[0m \u001b[0;32mas\u001b[0m \u001b[0mlines\u001b[0m\u001b[0;34m:\u001b[0m\u001b[0;34m\u001b[0m\u001b[0;34m\u001b[0m\u001b[0m\n\u001b[0m\u001b[1;32m    862\u001b[0m         \u001b[0mcurrent_text\u001b[0m \u001b[0;34m=\u001b[0m \u001b[0;34m\"\"\u001b[0m\u001b[0;34m\u001b[0m\u001b[0;34m\u001b[0m\u001b[0m\n\u001b[1;32m    863\u001b[0m         \u001b[0;32mfor\u001b[0m \u001b[0midx\u001b[0m\u001b[0;34m,\u001b[0m \u001b[0mline\u001b[0m \u001b[0;32min\u001b[0m \u001b[0menumerate\u001b[0m\u001b[0;34m(\u001b[0m\u001b[0mlines\u001b[0m\u001b[0;34m)\u001b[0m\u001b[0;34m:\u001b[0m\u001b[0;34m\u001b[0m\u001b[0;34m\u001b[0m\u001b[0m\n",
      "\u001b[0;31mFileNotFoundError\u001b[0m: [Errno 2] No such file or directory: '../../../testing/final_nmrs/methane_nmr.out'"
     ]
    }
   ],
   "source": [
    "filename = \"../../../testing/final_nmrs/methane_nmr.out\" \n",
    "\n",
    "name = filename.split(\"/\")[-1].replace(\"_nmr.out\", \"\")\n",
    "print(name + \" (11 files):\")\n",
    "outfiles = cctk.GaussianFile.read_file(filename)\n",
    "Z = outfiles[0].get_molecule().atomic_numbers.view(np.ndarray)\n",
    "\n",
    "H_shifts = np.zeros(shape=(11,4))\n",
    "H_expect = np.zeros(shape=(11,4))\n",
    "\n",
    "C_shifts = np.zeros(shape=(11,1))\n",
    "C_expect = np.zeros(shape=(11,1))\n",
    "\n",
    "for i, outfile in enumerate(outfiles):\n",
    "    pred, actual, resid = compare_predictions(outfile)\n",
    "    \n",
    "    for j in range(len(resid)):\n",
    "        if Z[j] == 1:\n",
    "            next_idx = (H_shifts[i] == 0)[0]\n",
    "            H_shifts[i][next_idx] = float(pred[j])\n",
    "            H_expect[i][next_idx] = float(actual[j])\n",
    "        elif Z[j] == 6:\n",
    "            next_idx = (C_shifts[i] == 0)[0]\n",
    "            C_shifts[i][next_idx] = float(pred[j])\n",
    "            C_expect[i][next_idx] = float(actual[j])\n",
    "\n",
    "print(H_shifts)\n",
    "print(H_expect)\n",
    "\n",
    "print(C_shifts)\n",
    "print(C_expect)"
   ]
  },
  {
   "cell_type": "code",
   "execution_count": null,
   "metadata": {},
   "outputs": [],
   "source": []
  }
 ],
 "metadata": {
  "kernelspec": {
   "display_name": "Python 3",
   "language": "python",
   "name": "python3"
  },
  "language_info": {
   "codemirror_mode": {
    "name": "ipython",
    "version": 3
   },
   "file_extension": ".py",
   "mimetype": "text/x-python",
   "name": "python",
   "nbconvert_exporter": "python",
   "pygments_lexer": "ipython3",
   "version": "3.8.2"
  }
 },
 "nbformat": 4,
 "nbformat_minor": 4
}
