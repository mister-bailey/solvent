{
 "cells": [
  {
   "cell_type": "code",
   "execution_count": 1,
   "metadata": {},
   "outputs": [
    {
     "name": "stdout",
     "output_type": "stream",
     "text": [
      "hello\n"
     ]
    }
   ],
   "source": [
    "print(\"hello\")"
   ]
  },
  {
   "cell_type": "code",
   "execution_count": 2,
   "metadata": {},
   "outputs": [
    {
     "name": "stdout",
     "output_type": "stream",
     "text": [
      "hello1\n",
      "hello2\n",
      "hello3\n",
      "hello4\n",
      "hello5\n",
      "bye\n"
     ]
    }
   ],
   "source": [
    "import time\n",
    "from pprint import pprint\n",
    "from IPython.display import display\n",
    "from glob import glob\n",
    "import re\n",
    "import math\n",
    "print(\"hello1\")\n",
    "import matplotlib\n",
    "import matplotlib.pyplot as plt\n",
    "%matplotlib inline\n",
    "print(\"hello2\")\n",
    "import numpy as np\n",
    "import pandas as pd\n",
    "import h5py\n",
    "from sklearn.model_selection import train_test_split\n",
    "print(\"hello3\")\n",
    "import torch\n",
    "torch.set_default_dtype(torch.float64)\n",
    "print(\"hello4\")\n",
    "import e3nn\n",
    "print(\"hello5\")\n",
    "import e3nn.point.data_helpers as dh \n",
    "from training_utils import *\n",
    "from variable_networks import VariableParityNetwork\n",
    "print(\"bye\")"
   ]
  },
  {
   "cell_type": "code",
   "execution_count": 3,
   "metadata": {},
   "outputs": [
    {
     "name": "stdout",
     "output_type": "stream",
     "text": [
      "svmem(total=405193338880, available=285271195648, percent=29.6, used=118650556416, free=230433202176, active=142075072512, inactive=24720535552, buffers=2322432, cached=56107257856, shared=86933504, slab=3221475328)\n"
     ]
    }
   ],
   "source": [
    "import psutil\n",
    "print(psutil.virtual_memory())"
   ]
  },
  {
   "cell_type": "code",
   "execution_count": 4,
   "metadata": {},
   "outputs": [
    {
     "name": "stdout",
     "output_type": "stream",
     "text": [
      "0\n",
      "1\n",
      "Tesla V100-PCIE-32GB\n",
      "True\n",
      "10.1\n"
     ]
    }
   ],
   "source": [
    "# make sure CUDA is available\n",
    "print(torch.cuda.current_device())\n",
    "print(torch.cuda.device_count())\n",
    "print(torch.cuda.get_device_name(0))\n",
    "print(torch.cuda.is_available())\n",
    "print(torch.version.cuda)\n",
    "#print(torch.cuda.memory_summary())\n",
    "device = \"cuda\"\n",
    "#torch.rand(10).to(device)\n",
    "#torch.rand(10, device=device)"
   ]
  },
  {
   "cell_type": "code",
   "execution_count": 5,
   "metadata": {},
   "outputs": [],
   "source": [
    "# all expected elements\n",
    "all_elements = ['C', 'H', 'N', 'O', 'S']\n",
    "n_elements = len(all_elements)\n",
    "\n",
    "# so we can normalize training data for the nuclei to be predicted\n",
    "elementwide_scaling_factors = { \"C\" : (118.0, 51.0),    # element : (mean, stdev)\n",
    "                                \"H\" : (28.8, 3.0)  }\n",
    "relevant_elements = list(elementwide_scaling_factors.keys())\n",
    "\n",
    "# irrelevant atoms will not be scaled\n",
    "for element in all_elements:\n",
    "    if element not in elementwide_scaling_factors:\n",
    "        elementwide_scaling_factors[element] = (0.0,1.0)"
   ]
  },
  {
   "cell_type": "code",
   "execution_count": 6,
   "metadata": {},
   "outputs": [],
   "source": [
    "# create a function to noramlize the shieldings for a specific molecule\n",
    "# shielding -> (shielding-mean)/stdev or 0 if not a relevant element\n",
    "def get_scalings(atomic_symbols):\n",
    "    scaling_factors = [ elementwide_scaling_factors[a] for a in atomic_symbols ]\n",
    "    scaling_factors = np.array(scaling_factors)\n",
    "    def scaling_function(x):\n",
    "        result = x - scaling_factors[:,0]\n",
    "        result = result / scaling_factors[:,1]\n",
    "        return result\n",
    "    return scaling_factors, scaling_function\n",
    "    \n",
    "# generates one-hots for a list of atomic_symbols\n",
    "def get_one_hots(atomic_symbols):\n",
    "    one_hots = []\n",
    "    for symbol in atomic_symbols:\n",
    "        inner_list = [ 1. if symbol == i else 0. for i in all_elements ]\n",
    "        one_hots.append(inner_list)\n",
    "    return np.array(one_hots)\n",
    "\n",
    "# compute weights for loss function\n",
    "def get_weights(atomic_symbols, symmetrical_atoms):\n",
    "    weights = [ 1.0 if symbol in relevant_elements else 0.0 for symbol in atomic_symbols ]\n",
    "    weights = np.array(weights)\n",
    "    for l in symmetrical_atoms:\n",
    "        weight = 1.0/len(l)\n",
    "        for i in l:\n",
    "            weights[i] = weight\n",
    "    return weights"
   ]
  },
  {
   "cell_type": "code",
   "execution_count": 7,
   "metadata": {},
   "outputs": [],
   "source": [
    "# represents the training data for one molecule\n",
    "# all of these items are stored on the cpu\n",
    "class Molecule():\n",
    "    def __init__(self, name,               \n",
    "                 atomic_symbols,           \n",
    "                 symmetrical_atoms,        # list of lists of 0-indexed atom numbers\n",
    "                 perturbed_geometries,               \n",
    "                 stationary_shieldings,\n",
    "                 perturbed_shieldings):    \n",
    "        self.name = name                                                     # name of molecule\n",
    "        self.atomic_symbols = atomic_symbols                                 # vector of strings of length n_atoms\n",
    "        self.n_atoms = len(atomic_symbols)                                   # number of atoms\n",
    "        self.perturbed_geometries = perturbed_geometries                     # (n_examples, n_atoms, 3)\n",
    "        self.stationary_shieldings = stationary_shieldings                   # (n_examples, n_atoms, 1)\n",
    "        \n",
    "        scaling_factors, scaling_function = get_scalings(atomic_symbols)\n",
    "        self.scaling_factors = scaling_factors                               # (n_atoms, 2) inner axis is mean, stdev\n",
    "        self.scaling_function = scaling_function                             # unscaled shieldings --> scaled shieldings \n",
    "\n",
    "        # scale perturbed shieldings and zero out data for irrelevant atoms\n",
    "        perturbed_shieldings = self.scaling_function(perturbed_shieldings)\n",
    "        for i,a in enumerate(atomic_symbols):\n",
    "            if a not in relevant_elements:\n",
    "                perturbed_shieldings[:,i]=0.0\n",
    "        self.perturbed_shieldings = perturbed_shieldings                     # (n_examples, n_atoms, 1)\n",
    "        \n",
    "        self.features = get_one_hots(atomic_symbols)                         # (n_atoms, n_elements)\n",
    "        self.weights = get_weights(atomic_symbols, symmetrical_atoms)        # (n_atoms,)"
   ]
  },
  {
   "cell_type": "code",
   "execution_count": 8,
   "metadata": {
    "scrolled": true
   },
   "outputs": [],
   "source": [
    "# with h5py.File(\"qm7_big.hdf5\", \"r\") as h5:\n",
    "#     for dataset_name,geometries_and_shieldings in h5.items():\n",
    "#         if not dataset_name.startswith(\"data_\"):\n",
    "#             continue\n",
    "#         dataset_number = dataset_name.split(\"_\")[1]\n",
    "#         geometries_and_shieldings = np.array(geometries_and_shieldings)\n",
    "#         stationary_shieldings = h5.attrs[f\"stationary_{dataset_number}\"]\n",
    "#         atomic_symbols = h5.attrs[f\"atomic_symbols_{dataset_number}\"]\n",
    "#         print(f\"{dataset_name}\\t{np.shape(geometries_and_shieldings)}\\t{len(stationary_shieldings)}\\t{len(atomic_symbols)}\\t\", end='')\n",
    "#         if np.shape(geometries_and_shieldings)[1] != len(stationary_shieldings) or \\\n",
    "#            len(stationary_shieldings) != len(atomic_symbols) or \\\n",
    "#            np.shape(geometries_and_shieldings)[1] != len(atomic_symbols):\n",
    "#             print(\"mismatch\",end='')\n",
    "#         print()"
   ]
  },
  {
   "cell_type": "code",
   "execution_count": 168,
   "metadata": {
    "scrolled": true
   },
   "outputs": [
    {
     "name": "stdout",
     "output_type": "stream",
     "text": [
      "Processing molecule 5239 (data_007164)...\n",
      "Done.  5239 molecules processed.\n"
     ]
    }
   ],
   "source": [
    "molecules_dict = {}  # name -> Molecule\n",
    "max_molecules=None\n",
    "count=0\n",
    "with h5py.File(\"qm7_big.hdf5\", \"r\") as h5:\n",
    "    for dataset_name,geometries_and_shieldings in h5.items():\n",
    "        if not dataset_name.startswith(\"data_\"):\n",
    "            continue\n",
    "        count += 1\n",
    "        if count < 5:\n",
    "            continue\n",
    "        dataset_number = dataset_name.split(\"_\")[1]\n",
    "        n_molecules = len(molecules_dict)+1\n",
    "        print(f\"Processing molecule {n_molecules} ({dataset_name})...\", end='\\r', flush=True)\n",
    "        geometries_and_shieldings = np.array(geometries_and_shieldings)\n",
    "        perturbed_geometries = geometries_and_shieldings[1:11,:,:3]\n",
    "        perturbed_shieldings = geometries_and_shieldings[1:11,:,3]\n",
    "        assert np.shape(geometries_and_shieldings)[2] == 4\n",
    "        stationary_shieldings = h5.attrs[f\"stationary_{dataset_number}\"]\n",
    "        n_atoms = len(stationary_shieldings)\n",
    "        assert np.shape(geometries_and_shieldings)[1] == n_atoms, f\"expected {n_atoms} atoms, but got {np.shape(geometries_and_shieldings)[1]}\"\n",
    "        atomic_symbols = h5.attrs[f\"atomic_symbols_{dataset_number}\"]\n",
    "        for a in atomic_symbols:\n",
    "            assert a in all_elements, f\"need to add {a} to all_elements\"\n",
    "        assert len(atomic_symbols) == n_atoms, f\"expected {n_atoms} atoms, but got {len(atomic_symbols)}\"\n",
    "        symmetrical_atoms_group = h5.get(f\"symmetrical_atoms_{dataset_number}\")\n",
    "        symmetrical_atoms = []\n",
    "        for a,b in symmetrical_atoms_group.items():\n",
    "            b = [ i-1 for i in b ]\n",
    "            for i in b:\n",
    "                assert 0 <= i < n_atoms\n",
    "            symmetrical_atoms.append(b)    \n",
    "        # store the results\n",
    "        molecule = Molecule(dataset_number, atomic_symbols, symmetrical_atoms,\n",
    "                            perturbed_geometries, stationary_shieldings, perturbed_shieldings)\n",
    "        molecules_dict[dataset_number] = molecule\n",
    "        if n_molecules == max_molecules:\n",
    "            break\n",
    "\n",
    "molecules = np.array(list(molecules_dict.values()))\n",
    "print(f\"\\nDone.  {len(molecules)} molecules processed.\")"
   ]
  },
  {
   "cell_type": "code",
   "execution_count": 169,
   "metadata": {},
   "outputs": [
    {
     "name": "stdout",
     "output_type": "stream",
     "text": [
      "(260880,)\n",
      "0.01825852841901039\n",
      "0.999062926671112\n",
      "(451360,)\n",
      "0.0151627332243274\n",
      "0.7025934459164102\n"
     ]
    },
    {
     "data": {
      "image/png": "[encoded data removed]",
      "text/plain": [
       "<Figure size 432x288 with 1 Axes>"
      ]
     },
     "metadata": {
      "needs_background": "light"
     },
     "output_type": "display_data"
    },
    {
     "data": {
      "image/png": "[encoded data removed]",
      "text/plain": [
       "<Figure size 432x288 with 1 Axes>"
      ]
     },
     "metadata": {
      "needs_background": "light"
     },
     "output_type": "display_data"
    }
   ],
   "source": [
    "# get stats\n",
    "all_shieldings = {}\n",
    "for molecule in molecules:\n",
    "    atomic_symbols = molecule.atomic_symbols\n",
    "    perturbed_shieldings = molecule.perturbed_shieldings\n",
    "    for i,symbol in enumerate(atomic_symbols):\n",
    "        if symbol in relevant_elements:\n",
    "            if symbol not in all_shieldings:\n",
    "                all_shieldings[symbol] = []\n",
    "            shieldings_list = all_shieldings[symbol]\n",
    "            current_shieldings = shieldings_list.extend(perturbed_shieldings[:,i])\n",
    "shieldingsC = all_shieldings[\"C\"]\n",
    "print(np.shape(shieldingsC))\n",
    "print(np.mean(shieldingsC))\n",
    "print(np.std(shieldingsC))\n",
    "shieldingsH = all_shieldings[\"H\"]\n",
    "print(np.shape(shieldingsH))\n",
    "print(np.mean(shieldingsH))\n",
    "print(np.std(shieldingsH))\n",
    "plt.hist(shieldingsC,bins=100)\n",
    "plt.show()\n",
    "plt.hist(shieldingsH,bins=100)\n",
    "plt.show()"
   ]
  },
  {
   "cell_type": "code",
   "execution_count": 170,
   "metadata": {},
   "outputs": [],
   "source": [
    "# features are one-hots for every atom,\n",
    "# so this is (number of one_hots, rank zero tensor, even parity)\n",
    "Rs_in = [(n_elements,0,1)]\n",
    "\n",
    "# we are outputing one scalar for every atom\n",
    "# so this is (one, rank zero tensor, even parity)\n",
    "Rs_out = [(1,0,1)]\n",
    "\n",
    "# maximum extent of radial basis functions in Angstroms\n",
    "max_radius = 5.0"
   ]
  },
  {
   "cell_type": "code",
   "execution_count": 171,
   "metadata": {},
   "outputs": [],
   "source": [
    "def create_torch_dataset(molecules):\n",
    "    dataset = []\n",
    "    n_molecules = len(molecules)\n",
    "    for i,molecule in enumerate(molecules):\n",
    "        features = torch.tensor(molecule.features, dtype=torch.float64)\n",
    "        #features.to(device)\n",
    "        weights = torch.tensor(molecule.weights, dtype=torch.float64)\n",
    "        #weights.to(device)\n",
    "        n_to_save = len(molecule.perturbed_geometries)\n",
    "        for j in range(n_to_save):\n",
    "            if j == 0 or (j+1) % 50 == 0 or j == n_to_save - 1:\n",
    "                print(f\"Processing geometry {j+1:5d}/{n_to_save:5d} for molecule {molecule.name:5s} ({i+1:5d}/{n_molecules:5d})...           \", end='\\r', flush=True)\n",
    "            g = torch.tensor(molecule.perturbed_geometries[j,:,:], dtype=torch.float64)\n",
    "            s = torch.tensor(molecule.perturbed_shieldings[j], dtype=torch.float64).unsqueeze(-1)  # [1,N]\n",
    "            data = dh.DataNeighbors(x=features, Rs_in=Rs_in, pos=g, r_max=max_radius,\n",
    "                                    self_interaction=True, name=molecule.name,\n",
    "                                    weights=weights, y=s, Rs_out = Rs_out)\n",
    "            dataset.append(data)\n",
    "    print(\"\\ndone!\")\n",
    "    return dataset\n"
   ]
  },
  {
   "cell_type": "code",
   "execution_count": 172,
   "metadata": {},
   "outputs": [
    {
     "name": "stdout",
     "output_type": "stream",
     "text": [
      "Processing geometry    10/   10 for molecule 000781 ( 5000/ 5000)...           \n",
      "done!\n",
      "Processing geometry    10/   10 for molecule 000207 (  100/  100)...           \n",
      "done!\n"
     ]
    }
   ],
   "source": [
    "# split into train and test molecules\n",
    "# then preprocess the neighbor data\n",
    "training_molecules, testing_molecules = train_test_split(molecules, train_size=5000, test_size=100, random_state=7)\n",
    "training_dataset = create_torch_dataset(training_molecules)\n",
    "testing_dataset = create_torch_dataset(testing_molecules)"
   ]
  },
  {
   "cell_type": "code",
   "execution_count": 173,
   "metadata": {},
   "outputs": [],
   "source": [
    "# mean-squared loss\n",
    "def loss_function(output, data):\n",
    "    predictions = output\n",
    "    observations = data.y\n",
    "    weights = data.weights\n",
    "    normalization = weights.sum()\n",
    "    residuals = (predictions-observations)\n",
    "    loss = residuals.square() * weights\n",
    "    loss = loss.sum() / normalization\n",
    "    #loss = loss.pow(0.5)\n",
    "    return loss, residuals"
   ]
  },
  {
   "cell_type": "code",
   "execution_count": 199,
   "metadata": {},
   "outputs": [
    {
     "name": "stdout",
     "output_type": "stream",
     "text": [
      "There are 30 parameters.\n"
     ]
    }
   ],
   "source": [
    "# define the neural network architecture\n",
    "#     def __init__(self, Rs_in, muls, Rs_out, lmaxes, #layers=3,\n",
    "#                  max_radius=1.0, number_of_basis=3, radial_layers=3,\n",
    "#                  feature_product=False, kernel=Kernel, convolution=Convolution):\n",
    "# def model_from_kwargs(model_kwargs):\n",
    "#     d = deepcopy(model_kwargs)\n",
    "#     Network = eval(d.pop('network'))\n",
    "#     Conv = eval(d.pop('conv'))\n",
    "#     return Network(convolution=Conv, **d)\n",
    "model_kwargs = {\n",
    "    'Rs_in': Rs_in,            # shape of inputs\n",
    "    'Rs_out': Rs_out,          # shape of outputs\n",
    "    'muls': [2,3,4,5,6],            # how many copies of each tensor at each layer\n",
    "    'lmaxes': [5,4,3,2,1],          # maximum angular momentum\n",
    "    'max_radius': max_radius,  # radial kernel will extend out this far\n",
    "    'number_of_basis': 50,     # number of Gaussians in radial kernel?\n",
    "}\n",
    "model = VariableParityNetwork(convolution=Convolution, **model_kwargs)\n",
    "model.to(device);\n",
    "n_parameters = len(list(model.parameters()))\n",
    "print(f\"There are {n_parameters} parameters.\")"
   ]
  },
  {
   "cell_type": "code",
   "execution_count": 200,
   "metadata": {},
   "outputs": [],
   "source": [
    "# # define the neural network architecture\n",
    "# model_kwargs = {\n",
    "#     'network': 'GatedConvParityNetwork', \n",
    "#     'conv': 'Convolution',\n",
    "#     'Rs_in': Rs_in,            # shape of inputs\n",
    "#     'Rs_out': Rs_out,          # shape of outputs\n",
    "#     'mul': 3,                 # how many copies of each tensor at each layer\n",
    "#     'lmax': 2,                 # maximum angular momentum\n",
    "#     'layers': 3,               # number of layers\n",
    "#     'max_radius': max_radius,  # radial kernel will extend out this far\n",
    "#     'number_of_basis': 30,     # number of Gaussians in radial kernel?\n",
    "# }\n",
    "# model = model_from_kwargs(model_kwargs)\n",
    "# model.to(device);"
   ]
  },
  {
   "cell_type": "code",
   "execution_count": 201,
   "metadata": {},
   "outputs": [],
   "source": [
    "# training parameters\n",
    "learning_rate = 1e-3\n",
    "opt = torch.optim.Adam(model.parameters(), learning_rate)\n",
    "epochs = 100       \n",
    "n_norm = 14           # n_norm is average number of convolution neighbors per atom\n",
    "batch_size = 50"
   ]
  },
  {
   "cell_type": "code",
   "execution_count": 202,
   "metadata": {},
   "outputs": [],
   "source": [
    "# prepare to train model\n",
    "torch.cuda.empty_cache()\n",
    "\n",
    "training_size = len(training_dataset)\n",
    "n_training_batches = int(training_size / batch_size)\n",
    "training_dataloader = tg.data.DataListLoader(training_dataset, batch_size=batch_size, shuffle=True)\n",
    "\n",
    "testing_size = len(testing_dataset)\n",
    "n_testing_batches = int(testing_size / batch_size)\n",
    "testing_dataloader = tg.data.DataListLoader(testing_dataset, batch_size=batch_size, shuffle=False)\n",
    "\n",
    "results_dict = {} # molecule name -> residuals (n_examples,n_atoms)\n",
    "history = []      # index is epoch, items are (train_loss, test_loss)"
   ]
  },
  {
   "cell_type": "code",
   "execution_count": 203,
   "metadata": {},
   "outputs": [
    {
     "name": "stdout",
     "output_type": "stream",
     "text": [
      "Iteration 1       training =        8.567    testing =        4.688     elapsed = 1098.29 s   total =     1098.29 s                     \n",
      "Iteration 2       training =        3.638    testing =        3.318     elapsed = 1099.25 s   total =     2197.55 s                     \n",
      "Iteration 3       training =        2.761    testing =        2.817     elapsed = 1112.16 s   total =     3309.71 s                     \n",
      "Iteration 4       training =        2.314    testing =        2.447     elapsed = 1112.06 s   total =     4421.77 s                     \n",
      "Iteration 5       training =        2.033    testing =        2.229     elapsed = 1111.99 s   total =     5533.76 s                     \n",
      "Iteration 6       training =        1.830    testing =        2.069     elapsed = 1111.42 s   total =     6645.18 s                     \n",
      "Iteration 7       training =        1.672    testing =        1.977     elapsed = 1112.18 s   total =     7757.36 s                     \n",
      "Iteration 8       training =        1.560    testing =        1.843     elapsed = 1112.12 s   total =     8869.49 s                     \n",
      "Iteration 9       training =        1.461    testing =        1.762     elapsed = 1112.01 s   total =     9981.50 s                     \n",
      "Iteration 10      training =        1.386    testing =        1.738     elapsed = 1111.72 s   total =    11093.22 s                     \n",
      "Iteration 11      training =        1.324    testing =        1.662     elapsed = 1112.17 s   total =    12205.39 s                     \n",
      "Iteration 12      training =        1.270    testing =        1.627     elapsed = 1112.39 s   total =    13317.78 s                     \n",
      "Iteration 13      training =        1.220    testing =        1.556     elapsed = 1112.29 s   total =    14430.07 s                     \n",
      "Iteration 14      training =        1.181    testing =        1.517     elapsed = 1111.45 s   total =    15541.53 s                     \n",
      "Iteration 15      training =        1.144    testing =        1.549     elapsed = 1098.53 s   total =    16640.05 s                     \n",
      "Iteration 16      training =        1.115    testing =        1.490     elapsed = 1098.45 s   total =    17738.50 s                     \n",
      "Iteration 17      training =        1.086    testing =        1.528     elapsed = 1098.52 s   total =    18837.03 s                     \n",
      "Iteration 18      training =        1.060    testing =        1.417     elapsed = 1098.44 s   total =    19935.47 s                     \n",
      "Iteration 19      training =        1.036    testing =        1.388     elapsed = 1098.45 s   total =    21033.91 s                     \n",
      "Iteration 20      training =        1.017    testing =        1.396     elapsed = 1098.26 s   total =    22132.17 s                     \n",
      "Iteration 21      training =        0.994    testing =        1.374     elapsed = 1098.15 s   total =    23230.32 s                     \n",
      "Iteration 22      training =        0.973    testing =        1.352     elapsed = 1098.28 s   total =    24328.60 s                     \n",
      "Iteration 23      training =        0.960    testing =        1.370     elapsed = 1098.20 s   total =    25426.81 s                     \n",
      "Iteration 24      training =        0.943    testing =        1.293     elapsed = 1098.39 s   total =    26525.20 s                     \n",
      "Iteration 25      training =        0.927    testing =        1.338     elapsed = 1089.85 s   total =    27615.06 s                     \n",
      "Iteration 26      training =        0.912    testing =        1.303     elapsed = 1091.21 s   total =    28706.27 s                     \n",
      "Iteration 27      training =        0.897    testing =        1.314     elapsed = 1097.44 s   total =    29803.71 s                     \n",
      "Iteration 28      training =        0.888    testing =        1.291     elapsed = 1097.31 s   total =    30901.03 s                     \n",
      "Iteration 29      training =        0.874    testing =        1.249     elapsed = 1097.08 s   total =    31998.11 s                     \n",
      "Iteration 30      training =        0.860    testing =        1.220     elapsed = 1098.47 s   total =    33096.58 s                     \n",
      "Iteration 31      training =        0.854    testing =        1.270     elapsed = 1097.67 s   total =    34194.26 s                     \n",
      "Iteration 32      training =        0.841    testing =        1.254     elapsed = 1097.96 s   total =    35292.22 s                     \n",
      "Iteration 33      training =        0.835    testing =        1.214     elapsed = 1097.50 s   total =    36389.71 s                     \n",
      "Iteration 34      training =        0.823    testing =        1.227     elapsed = 1097.51 s   total =    37487.22 s                     \n",
      "Iteration 35      training =        0.814    testing =        1.198     elapsed = 1098.01 s   total =    38585.24 s                     \n",
      "Iteration 36      training =        0.802    testing =        1.214     elapsed = 1099.31 s   total =    39684.55 s                     \n",
      "Iteration 37      training =        0.798    testing =        1.188     elapsed = 1097.59 s   total =    40782.14 s                     \n",
      "Iteration 38      training =        0.796    testing =        1.177     elapsed = 1097.50 s   total =    41879.64 s                     \n",
      "Iteration 39      training =        0.780    testing =        1.167     elapsed = 1097.46 s   total =    42977.10 s                     \n",
      "Iteration 40      training =        0.773    testing =        1.182     elapsed = 1097.57 s   total =    44074.67 s                     \n",
      "Iteration 41      training =        0.771    testing =        1.164     elapsed = 1097.53 s   total =    45172.20 s                     \n",
      "Iteration 42      training =        0.760    testing =        1.154     elapsed = 1097.52 s   total =    46269.72 s                     \n",
      "Iteration 43      training =        0.757    testing =        1.165     elapsed = 1097.51 s   total =    47367.23 s                     \n",
      "Iteration 44      training =        0.747    testing =        1.148     elapsed = 1097.49 s   total =    48464.72 s                     \n",
      "Iteration 45      training =        0.742    testing =        1.145     elapsed = 1097.52 s   total =    49562.24 s                     \n",
      "Iteration 46      training =        0.741    testing =        1.144     elapsed = 1097.52 s   total =    50659.76 s                     \n",
      "Iteration 47      training =        0.736    testing =        1.144     elapsed = 1097.54 s   total =    51757.31 s                     \n",
      "Iteration 48      training =        0.725    testing =        1.148     elapsed = 1097.54 s   total =    52854.85 s                     \n",
      "Iteration 49      training =        0.720    testing =        1.143     elapsed = 1097.47 s   total =    53952.32 s                     \n",
      "Iteration 50      training =        0.716    testing =        1.115     elapsed = 1097.44 s   total =    55049.76 s                     \n",
      "Iteration 51      training =        0.709    testing =        1.133     elapsed = 1097.49 s   total =    56147.25 s                     \n",
      "Iteration 52      training =        0.703    testing =        1.125     elapsed = 1097.49 s   total =    57244.74 s                     \n",
      "Iteration 53      training =        0.703    testing =        1.135     elapsed = 1097.49 s   total =    58342.23 s                     \n",
      "Iteration 54      training =        0.696    testing =        1.116     elapsed = 1097.46 s   total =    59439.69 s                     \n",
      "Iteration 55      training =        0.693    testing =        1.128     elapsed = 1097.45 s   total =    60537.14 s                     \n",
      "Iteration 56      training =        0.688    testing =        1.097     elapsed = 1097.48 s   total =    61634.62 s                     \n",
      "Iteration 57      training =        0.684    testing =        1.097     elapsed = 1097.48 s   total =    62732.11 s                     \n",
      "Iteration 58      training =        0.678    testing =        1.108     elapsed = 1097.49 s   total =    63829.60 s                     \n",
      "Iteration 59      training =        0.674    testing =        1.120     elapsed = 1097.48 s   total =    64927.08 s                     \n"
     ]
    },
    {
     "name": "stdout",
     "output_type": "stream",
     "text": [
      "Iteration 60      training =        0.671    testing =        1.135     elapsed = 1097.46 s   total =    66024.54 s                     \n",
      "Iteration 61      training =        0.666    testing =        1.108     elapsed = 1097.53 s   total =    67122.07 s                     \n",
      "Iteration 62      training =        0.667    testing =        1.120     elapsed = 1097.43 s   total =    68219.50 s                     \n",
      "Iteration 63      training =        0.660    testing =        1.093     elapsed = 1097.45 s   total =    69316.96 s                     \n",
      "Iteration 64      training =        0.656    testing =        1.092     elapsed = 1097.54 s   total =    70414.50 s                     \n",
      "Iteration 65      train   200 /  1000  loss =        0.688    cum_loss =        0.649            \r"
     ]
    },
    {
     "ename": "KeyboardInterrupt",
     "evalue": "",
     "output_type": "error",
     "traceback": [
      "\u001b[0;31m---------------------------------------------------------------------------\u001b[0m",
      "\u001b[0;31mKeyboardInterrupt\u001b[0m                         Traceback (most recent call last)",
      "\u001b[0;32m<ipython-input-203-c536f61976b5>\u001b[0m in \u001b[0;36m<module>\u001b[0;34m\u001b[0m\n\u001b[1;32m     16\u001b[0m         \u001b[0;31m# backward pass\u001b[0m\u001b[0;34m\u001b[0m\u001b[0;34m\u001b[0m\u001b[0;34m\u001b[0m\u001b[0m\n\u001b[1;32m     17\u001b[0m         \u001b[0mopt\u001b[0m\u001b[0;34m.\u001b[0m\u001b[0mzero_grad\u001b[0m\u001b[0;34m(\u001b[0m\u001b[0;34m)\u001b[0m\u001b[0;34m\u001b[0m\u001b[0;34m\u001b[0m\u001b[0m\n\u001b[0;32m---> 18\u001b[0;31m         \u001b[0mloss\u001b[0m\u001b[0;34m.\u001b[0m\u001b[0mbackward\u001b[0m\u001b[0;34m(\u001b[0m\u001b[0;34m)\u001b[0m\u001b[0;34m\u001b[0m\u001b[0;34m\u001b[0m\u001b[0m\n\u001b[0m\u001b[1;32m     19\u001b[0m         \u001b[0mopt\u001b[0m\u001b[0;34m.\u001b[0m\u001b[0mstep\u001b[0m\u001b[0;34m(\u001b[0m\u001b[0;34m)\u001b[0m\u001b[0;34m\u001b[0m\u001b[0;34m\u001b[0m\u001b[0m\n\u001b[1;32m     20\u001b[0m \u001b[0;34m\u001b[0m\u001b[0m\n",
      "\u001b[0;32m~/.conda/envs/solvent/lib/python3.8/site-packages/torch/tensor.py\u001b[0m in \u001b[0;36mbackward\u001b[0;34m(self, gradient, retain_graph, create_graph)\u001b[0m\n\u001b[1;32m    196\u001b[0m                 \u001b[0mproducts\u001b[0m\u001b[0;34m.\u001b[0m \u001b[0mDefaults\u001b[0m \u001b[0mto\u001b[0m\u001b[0;31m \u001b[0m\u001b[0;31m`\u001b[0m\u001b[0;31m`\u001b[0m\u001b[0;32mFalse\u001b[0m\u001b[0;31m`\u001b[0m\u001b[0;31m`\u001b[0m\u001b[0;34m.\u001b[0m\u001b[0;34m\u001b[0m\u001b[0;34m\u001b[0m\u001b[0m\n\u001b[1;32m    197\u001b[0m         \"\"\"\n\u001b[0;32m--> 198\u001b[0;31m         \u001b[0mtorch\u001b[0m\u001b[0;34m.\u001b[0m\u001b[0mautograd\u001b[0m\u001b[0;34m.\u001b[0m\u001b[0mbackward\u001b[0m\u001b[0;34m(\u001b[0m\u001b[0mself\u001b[0m\u001b[0;34m,\u001b[0m \u001b[0mgradient\u001b[0m\u001b[0;34m,\u001b[0m \u001b[0mretain_graph\u001b[0m\u001b[0;34m,\u001b[0m \u001b[0mcreate_graph\u001b[0m\u001b[0;34m)\u001b[0m\u001b[0;34m\u001b[0m\u001b[0;34m\u001b[0m\u001b[0m\n\u001b[0m\u001b[1;32m    199\u001b[0m \u001b[0;34m\u001b[0m\u001b[0m\n\u001b[1;32m    200\u001b[0m     \u001b[0;32mdef\u001b[0m \u001b[0mregister_hook\u001b[0m\u001b[0;34m(\u001b[0m\u001b[0mself\u001b[0m\u001b[0;34m,\u001b[0m \u001b[0mhook\u001b[0m\u001b[0;34m)\u001b[0m\u001b[0;34m:\u001b[0m\u001b[0;34m\u001b[0m\u001b[0;34m\u001b[0m\u001b[0m\n",
      "\u001b[0;32m~/.conda/envs/solvent/lib/python3.8/site-packages/torch/autograd/__init__.py\u001b[0m in \u001b[0;36mbackward\u001b[0;34m(tensors, grad_tensors, retain_graph, create_graph, grad_variables)\u001b[0m\n\u001b[1;32m     96\u001b[0m         \u001b[0mretain_graph\u001b[0m \u001b[0;34m=\u001b[0m \u001b[0mcreate_graph\u001b[0m\u001b[0;34m\u001b[0m\u001b[0;34m\u001b[0m\u001b[0m\n\u001b[1;32m     97\u001b[0m \u001b[0;34m\u001b[0m\u001b[0m\n\u001b[0;32m---> 98\u001b[0;31m     Variable._execution_engine.run_backward(\n\u001b[0m\u001b[1;32m     99\u001b[0m         \u001b[0mtensors\u001b[0m\u001b[0;34m,\u001b[0m \u001b[0mgrad_tensors\u001b[0m\u001b[0;34m,\u001b[0m \u001b[0mretain_graph\u001b[0m\u001b[0;34m,\u001b[0m \u001b[0mcreate_graph\u001b[0m\u001b[0;34m,\u001b[0m\u001b[0;34m\u001b[0m\u001b[0;34m\u001b[0m\u001b[0m\n\u001b[1;32m    100\u001b[0m         allow_unreachable=True)  # allow_unreachable flag\n",
      "\u001b[0;31mKeyboardInterrupt\u001b[0m: "
     ]
    }
   ],
   "source": [
    "# train model\n",
    "zero_time = time.time()\n",
    "start_time = time.time()\n",
    "for i in range(epochs):\n",
    "    start_time = time.time()\n",
    "    \n",
    "    # training\n",
    "    training_loss_cum = torch.tensor([0.]).to(device)\n",
    "    for j,data in enumerate(training_dataloader):\n",
    "        # forward pass\n",
    "        data = tg.data.Batch.from_data_list(data)\n",
    "        data.to(device)\n",
    "        output = model(data.x, data.edge_index, data.edge_attr, n_norm=n_norm)\n",
    "        loss, residuals = loss_function(output, data)\n",
    "        \n",
    "        # backward pass\n",
    "        opt.zero_grad()\n",
    "        loss.backward()\n",
    "        opt.step()\n",
    "        \n",
    "        # update training loss\n",
    "        temp_loss = loss.detach()\n",
    "        training_loss_cum += loss.detach() #.pow(2)\n",
    "        current_cum = np.sqrt(training_loss_cum.item() / (j+1))\n",
    "        print(f\"Iteration {i+1:<4d}    train {j+1:5d} / {n_training_batches:5d}  loss = {np.sqrt(temp_loss.item()):12.3f}    cum_loss = {current_cum:12.3f}            \", end=\"\\r\", flush=True)\n",
    "        \n",
    "    training_loss_cum = np.sqrt((training_loss_cum.item()/(j+1)))\n",
    "    \n",
    "    # testing\n",
    "    testing_loss_cum = torch.tensor([0.]).to(device)\n",
    "    for j,data in enumerate(testing_dataloader):\n",
    "        data = tg.data.Batch.from_data_list(data)\n",
    "        data.to(device)\n",
    "        \n",
    "        with torch.no_grad():\n",
    "            # run model\n",
    "            output = model(data.x, data.edge_index, data.edge_attr, n_norm=n_norm)\n",
    "\n",
    "            # compute MSE\n",
    "            loss, residuals = loss_function(output,data)\n",
    "            testing_loss_cum += loss  #.pow(2)\n",
    "        print(f\"Iteration {i+1:<4d}    test {j+1:5d} / {n_testing_batches:5d}  loss = {np.sqrt(loss.item()):12.3f}                                  \", end=\"\\r\", flush=True)\n",
    "    \n",
    "    testing_loss_cum = np.sqrt((testing_loss_cum.item()/(j+1)))\n",
    "    end_time = time.time()\n",
    "    elasped_time = end_time - start_time\n",
    "    elapsed_time2 = end_time - zero_time\n",
    "    history.append((training_loss_cum, testing_loss_cum))\n",
    "    print(f\"Iteration {i+1:<4d}    training = {training_loss_cum.item():>12.3f}    testing = {testing_loss_cum.item():>12.3f}     elapsed = {elasped_time:7.2f} s   total = {elapsed_time2:11.2f} s                     \", end=\"\\r\", flush=True)\n",
    "    print()\n",
    "    #if i == 0 or (i+1) % 10 == 0:\n",
    "    #    print()"
   ]
  },
  {
   "cell_type": "code",
   "execution_count": 204,
   "metadata": {},
   "outputs": [
    {
     "data": {
      "image/png": "[encoded data removed]",
      "text/plain": [
       "<Figure size 864x576 with 1 Axes>"
      ]
     },
     "metadata": {
      "needs_background": "light"
     },
     "output_type": "display_data"
    }
   ],
   "source": [
    "# plot learning curve\n",
    "plt.figure(figsize=(12,8))\n",
    "epoch = list(range(len(history)))\n",
    "epoch = np.array(epoch)\n",
    "epoch2 = epoch + 0.5\n",
    "training_loss = [ training for training,testing in history ]\n",
    "testing_loss = [ testing for training,testing in history ]\n",
    "plt.plot(epoch, training_loss, \"ro-\", label=\"train\")\n",
    "plt.plot(epoch2, testing_loss, \"bo-\", label=\"test\")\n",
    "plt.legend(loc=\"best\")\n",
    "plt.show()"
   ]
  },
  {
   "cell_type": "code",
   "execution_count": 205,
   "metadata": {},
   "outputs": [
    {
     "name": "stdout",
     "output_type": "stream",
     "text": [
      "batch    20 /    20\n",
      "Overall loss is 1.091857.  Evaluation took 3.39 s.\n"
     ]
    }
   ],
   "source": [
    "# test the model as it now\n",
    "torch.cuda.empty_cache()\n",
    "n_batches = math.ceil(testing_size / batch_size)\n",
    "results_dict = {} # molecule name -> residuals (n_examples,n_atoms)\n",
    "start_time = time.time()\n",
    "\n",
    "loss_cum = torch.tensor([0.]).to(device)\n",
    "for j,data in enumerate(testing_dataloader):\n",
    "    print(f\"batch {j+1:5d} / {n_batches:5d}\", end=\"\\r\", flush=True)\n",
    "    data = tg.data.Batch.from_data_list(data)\n",
    "    data.to(device)\n",
    "    with torch.no_grad():\n",
    "        # run model\n",
    "        output = model(data.x, data.edge_index, data.edge_attr, n_norm=n_norm)\n",
    "        \n",
    "        # compute MSE\n",
    "        loss, residuals = loss_function(output,data)\n",
    "        loss_cum += loss #.pow(2)\n",
    "        \n",
    "        # rescale residuals back to ppm and store\n",
    "        residuals = residuals.squeeze(-1).cpu().numpy()\n",
    "        i=0\n",
    "        for name in data.name:\n",
    "            molecule = molecules_dict[name]\n",
    "            n_atoms = molecule.n_atoms\n",
    "            scaling_factors = molecule.scaling_factors\n",
    "            if name not in results_dict:\n",
    "                results_dict[name] = []\n",
    "            subset = residuals[i:i+n_atoms] * scaling_factors[:,1]\n",
    "            results_dict[name].append(subset)\n",
    "            i += n_atoms\n",
    "            \n",
    "loss_cum = loss_cum/(j+1)\n",
    "loss_cum = loss_cum.pow(0.5)\n",
    "end_time = time.time()\n",
    "elasped_time = end_time - start_time\n",
    "print(f\"\\nOverall loss is {loss_cum.item():.6f}.  Evaluation took {elasped_time:.2f} s.\")"
   ]
  },
  {
   "cell_type": "code",
   "execution_count": 206,
   "metadata": {},
   "outputs": [],
   "source": [
    "# results_dict : molecule name -> residuals (n_examples,n_atoms)\n",
    "# results_dict2 : site label -> residuals\n",
    "results_dict2 = {}\n",
    "all_residuals = {}  # element --> [residuals]\n",
    "for name,results in results_dict.items():\n",
    "    results = np.array(results).T\n",
    "    molecule = molecules_dict[name]\n",
    "    atomic_symbols = molecule.atomic_symbols\n",
    "    for atomic_index,this_result in enumerate(results):\n",
    "        element = atomic_symbols[atomic_index]\n",
    "        if element not in relevant_elements:\n",
    "            continue\n",
    "        label = f\"{name}_{element}{atomic_index+1}\"\n",
    "        results_dict2[label]=this_result\n",
    "        if element not in all_residuals:\n",
    "            all_residuals[element] = []\n",
    "        all_residuals[element].extend(this_result)"
   ]
  },
  {
   "cell_type": "code",
   "execution_count": 207,
   "metadata": {},
   "outputs": [
    {
     "data": {
      "image/png": "[encoded data removed]",
      "text/plain": [
       "<Figure size 576x432 with 1 Axes>"
      ]
     },
     "metadata": {
      "needs_background": "light"
     },
     "output_type": "display_data"
    },
    {
     "data": {
      "image/png": "[encoded data removed]",
      "text/plain": [
       "<Figure size 576x432 with 1 Axes>"
      ]
     },
     "metadata": {
      "needs_background": "light"
     },
     "output_type": "display_data"
    }
   ],
   "source": [
    "e=\"H\"\n",
    "bins = np.linspace(-2,2,50)\n",
    "plt.figure(figsize=(8,6))\n",
    "plt.title(f\"residuals for {e}\")\n",
    "plt.hist(all_residuals[e],bins=bins)\n",
    "plt.show()\n",
    "e=\"C\"\n",
    "bins = np.linspace(-30,30,100)\n",
    "plt.figure(figsize=(8,6))\n",
    "plt.title(f\"residuals for {e}\")\n",
    "plt.hist(all_residuals[e],bins=bins)\n",
    "plt.show()"
   ]
  },
  {
   "cell_type": "code",
   "execution_count": 208,
   "metadata": {},
   "outputs": [
    {
     "name": "stdout",
     "output_type": "stream",
     "text": [
      "C:  mean = -0.125  RMSE =  1.995   range =   -8.76 to   12.53\n",
      "H:  mean =  0.003  RMSE =  0.125   range =   -0.55 to    0.75\n"
     ]
    }
   ],
   "source": [
    "# get stats on everything\n",
    "for e in relevant_elements:\n",
    "    mean_error = np.mean(all_residuals[e])\n",
    "    RMSE = np.sqrt(np.mean(np.square(all_residuals[e])))\n",
    "    min_err = np.min(all_residuals[e])\n",
    "    max_err = np.max(all_residuals[e])\n",
    "    print(f\"{e}:  mean ={mean_error:7.3f}  RMSE ={RMSE:7.3f}   range = {min_err:7.2f} to {max_err:7.2f}\")"
   ]
  },
  {
   "cell_type": "code",
   "execution_count": null,
   "metadata": {},
   "outputs": [],
   "source": []
  },
  {
   "cell_type": "code",
   "execution_count": null,
   "metadata": {},
   "outputs": [],
   "source": []
  },
  {
   "cell_type": "code",
   "execution_count": 212,
   "metadata": {},
   "outputs": [
    {
     "data": {
      "image/png": "[encoded data removed]",
      "text/plain": [
       "<Figure size 432x288 with 1 Axes>"
      ]
     },
     "metadata": {
      "needs_background": "light"
     },
     "output_type": "display_data"
    }
   ],
   "source": [
    "from diagnostics import *\n",
    "show_radial_parameters(model, max_radius)"
   ]
  },
  {
   "cell_type": "code",
   "execution_count": 213,
   "metadata": {},
   "outputs": [
    {
     "name": "stdout",
     "output_type": "stream",
     "text": [
      "layers.0.0.kernel.R.f.weights.0: [100, 50]\n",
      "layers.0.0.kernel.R.f.weights.1: [100, 100]\n",
      "layers.0.0.kernel.R.f.weights.2: [100, 100]\n",
      "layers.0.0.kernel.R.f.weights.3: [110, 100]\n",
      "layers.0.0.kernel.linear.weight: [60]\n",
      "layers.1.0.kernel.R.f.weights.0: [100, 50]\n",
      "layers.1.0.kernel.R.f.weights.1: [100, 100]\n",
      "layers.1.0.kernel.R.f.weights.2: [100, 100]\n",
      "layers.1.0.kernel.R.f.weights.3: [690, 100]\n",
      "layers.1.0.kernel.linear.weight: [78]\n",
      "layers.2.0.kernel.R.f.weights.0: [100, 50]\n",
      "layers.2.0.kernel.R.f.weights.1: [100, 100]\n",
      "layers.2.0.kernel.R.f.weights.2: [100, 100]\n",
      "layers.2.0.kernel.R.f.weights.3: [1200, 100]\n",
      "layers.2.0.kernel.linear.weight: [156]\n",
      "layers.3.0.kernel.R.f.weights.0: [100, 50]\n",
      "layers.3.0.kernel.R.f.weights.1: [100, 100]\n",
      "layers.3.0.kernel.R.f.weights.2: [100, 100]\n",
      "layers.3.0.kernel.R.f.weights.3: [960, 100]\n",
      "layers.3.0.kernel.linear.weight: [200]\n",
      "layers.4.0.kernel.R.f.weights.0: [100, 50]\n",
      "layers.4.0.kernel.R.f.weights.1: [100, 100]\n",
      "layers.4.0.kernel.R.f.weights.2: [100, 100]\n",
      "layers.4.0.kernel.R.f.weights.3: [480, 100]\n",
      "layers.4.0.kernel.linear.weight: [180]\n",
      "layers.5.kernel.R.f.weights.0: [100, 50]\n",
      "layers.5.kernel.R.f.weights.1: [100, 100]\n",
      "layers.5.kernel.R.f.weights.2: [100, 100]\n",
      "layers.5.kernel.R.f.weights.3: [12, 100]\n",
      "layers.5.kernel.linear.weight: [6]\n"
     ]
    }
   ],
   "source": [
    "print_parameter_size(model)"
   ]
  },
  {
   "cell_type": "code",
   "execution_count": 216,
   "metadata": {},
   "outputs": [
    {
     "name": "stdout",
     "output_type": "stream",
     "text": [
      "Layer 0: 36060\n",
      "Layer 1: 94078\n",
      "Layer 2: 145156\n",
      "Layer 3: 121200\n",
      "Layer 4: 73180\n",
      "Layer 5: 26206\n",
      "Total parameters: 495880\n"
     ]
    }
   ],
   "source": [
    "def count_parameters(model):\n",
    "    model_count_dict = {} # layer # -> n_params\n",
    "    n_total_parameters = 0\n",
    "    for name, param in model.named_parameters():\n",
    "        n_params = np.prod(param.shape)\n",
    "        n_total_parameters += n_params\n",
    "        fields = name.split(\".\")\n",
    "        layer = fields[1]\n",
    "        if layer not in model_count_dict:\n",
    "            model_count_dict[layer]=0\n",
    "        model_count_dict[layer] += n_params\n",
    "    for layer,n_params in model_count_dict.items():\n",
    "        print(f\"Layer {layer}: {n_params}\")\n",
    "    print(f\"Total parameters: {n_total_parameters}\")\n",
    "count_parameters(model)        "
   ]
  },
  {
   "cell_type": "code",
   "execution_count": null,
   "metadata": {},
   "outputs": [],
   "source": []
  },
  {
   "cell_type": "code",
   "execution_count": null,
   "metadata": {},
   "outputs": [],
   "source": []
  },
  {
   "cell_type": "code",
   "execution_count": null,
   "metadata": {},
   "outputs": [],
   "source": []
  },
  {
   "cell_type": "code",
   "execution_count": null,
   "metadata": {},
   "outputs": [],
   "source": []
  },
  {
   "cell_type": "code",
   "execution_count": null,
   "metadata": {},
   "outputs": [],
   "source": []
  },
  {
   "cell_type": "code",
   "execution_count": null,
   "metadata": {},
   "outputs": [],
   "source": [
    "# summary stats\n",
    "df = pd.DataFrame(results_dict2)\n",
    "means = df.mean()\n",
    "ranges = df.max()-df.min()\n",
    "RMSEs = np.sqrt(df.pow(2).mean())\n",
    "df = pd.concat([means,ranges,RMSEs], axis=1)\n",
    "df.columns = [\"mean\",\"range\",\"RMSE\"]\n",
    "df = df.round(2)\n",
    "display(df)"
   ]
  },
  {
   "cell_type": "code",
   "execution_count": 209,
   "metadata": {},
   "outputs": [],
   "source": [
    "def save_model(model_kwargs, model, filename, optimizer=None):\n",
    "    model_dict = {\n",
    "        'state_dict': model.state_dict(),\n",
    "        'model_kwargs': model_kwargs\n",
    "    }\n",
    "    if optimizer is not None:\n",
    "        model_dict['optimizer_state_dict'] = optimizer.state_dict()\n",
    "    torch.save(model_dict, filename)"
   ]
  },
  {
   "cell_type": "code",
   "execution_count": 210,
   "metadata": {},
   "outputs": [],
   "source": [
    "save_model(model_kwargs, model, \"qm7-mul23456-lmax54321-model1.torch\", optimizer=opt)"
   ]
  },
  {
   "cell_type": "code",
   "execution_count": null,
   "metadata": {},
   "outputs": [],
   "source": [
    "# define the neural network architecture\n",
    "model_kwargs = {\n",
    "    'network': 'GatedConvParityNetwork', \n",
    "    'conv': 'Convolution',\n",
    "    'Rs_in': Rs_in,            # shape of inputs\n",
    "    'Rs_out': Rs_out,          # shape of outputs\n",
    "    'mul': 3,                 # how many copies of each tensor at each layer\n",
    "    'lmax': 1,                 # maximum angular momentum\n",
    "    'layers': 3,               # number of layers\n",
    "    'max_radius': max_radius,  # radial kernel will extend out this far\n",
    "    'number_of_basis': 30,     # number of Gaussians in radial kernel?\n",
    "}\n",
    "model = model_from_kwargs(model_kwargs)\n",
    "model.to(device);"
   ]
  }
 ],
 "metadata": {
  "kernelspec": {
   "display_name": "Python 3",
   "language": "python",
   "name": "python3"
  },
  "language_info": {
   "codemirror_mode": {
    "name": "ipython",
    "version": 3
   },
   "file_extension": ".py",
   "mimetype": "text/x-python",
   "name": "python",
   "nbconvert_exporter": "python",
   "pygments_lexer": "ipython3",
   "version": "3.8.3"
  }
 },
 "nbformat": 4,
 "nbformat_minor": 4
}
