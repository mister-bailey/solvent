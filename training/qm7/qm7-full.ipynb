{
 "cells": [
  {
   "cell_type": "code",
   "execution_count": 1,
   "metadata": {},
   "outputs": [
    {
     "name": "stdout",
     "output_type": "stream",
     "text": [
      "hello\n"
     ]
    }
   ],
   "source": [
    "print(\"hello\")"
   ]
  },
  {
   "cell_type": "code",
   "execution_count": 2,
   "metadata": {},
   "outputs": [
    {
     "name": "stdout",
     "output_type": "stream",
     "text": [
      "hello1\n",
      "hello2\n",
      "hello3\n",
      "hello4\n",
      "hello5\n",
      "hello6\n",
      "bye\n"
     ]
    }
   ],
   "source": [
    "import time\n",
    "from pprint import pprint\n",
    "from IPython.display import display\n",
    "from glob import glob\n",
    "import re\n",
    "import math\n",
    "import random\n",
    "import os\n",
    "print(\"hello1\")\n",
    "import matplotlib\n",
    "import matplotlib.pyplot as plt\n",
    "%matplotlib inline\n",
    "print(\"hello2\")\n",
    "import numpy as np\n",
    "import pandas as pd\n",
    "import h5py\n",
    "from sklearn.model_selection import train_test_split\n",
    "print(\"hello3\")\n",
    "import torch\n",
    "torch.set_default_dtype(torch.float64)\n",
    "import torch_geometric as tg\n",
    "print(\"hello4\")\n",
    "import e3nn\n",
    "print(\"hello5\")\n",
    "import e3nn.point.data_helpers as dh \n",
    "from e3nn.point.message_passing import Convolution\n",
    "from training_utils import Stopwatch, model_from_kwargs, save_model\n",
    "from variable_networks import VariableParityNetwork\n",
    "print(\"hello6\")\n",
    "import read_utilities\n",
    "from read_utilities import read_molecule_data\n",
    "from diagnostics import *\n",
    "print(\"bye\")"
   ]
  },
  {
   "cell_type": "code",
   "execution_count": 3,
   "metadata": {},
   "outputs": [
    {
     "name": "stdout",
     "output_type": "stream",
     "text": [
      "0\n",
      "1\n",
      "Tesla V100-PCIE-32GB\n",
      "True\n",
      "10.1\n"
     ]
    },
    {
     "data": {
      "text/plain": [
       "tensor([0.2172, 0.8780, 0.2139, 0.1502, 0.0330, 0.8337, 0.1646, 0.5150, 0.0789,\n",
       "        0.3061], device='cuda:0')"
      ]
     },
     "execution_count": 3,
     "metadata": {},
     "output_type": "execute_result"
    }
   ],
   "source": [
    "# make sure CUDA is available\n",
    "print(torch.cuda.current_device())\n",
    "print(torch.cuda.device_count())\n",
    "print(torch.cuda.get_device_name(0))\n",
    "print(torch.cuda.is_available())\n",
    "print(torch.version.cuda)\n",
    "#print(torch.cuda.memory_summary())\n",
    "device = \"cuda\"\n",
    "torch.rand(10).to(device)\n",
    "#torch.rand(10, device=device)"
   ]
  },
  {
   "cell_type": "code",
   "execution_count": 4,
   "metadata": {},
   "outputs": [
    {
     "name": "stdout",
     "output_type": "stream",
     "text": [
      "Reading data from data/qm7_0.hdf5...\n",
      "Done!  720 molecules and 72000 training examples read so far.\n",
      "\n",
      "Reading data from data/qm7_1.hdf5...\n",
      "Done!  1440 molecules and 144000 training examples read so far.\n",
      "\n",
      "Reading data from data/qm7_2.hdf5...\n",
      "Done!  2160 molecules and 216000 training examples read so far.\n",
      "\n",
      "Reading data from data/qm7_3.hdf5...\n",
      "Done!  2880 molecules and 288000 training examples read so far.\n",
      "\n",
      "Reading data from data/qm7_4.hdf5...\n",
      "Done!  3600 molecules and 360000 training examples read so far.\n",
      "\n",
      "Reading data from data/qm7_5.hdf5...\n",
      "Done!  4320 molecules and 432000 training examples read so far.\n",
      "\n",
      "Reading data from data/qm7_6.hdf5...\n",
      "Done!  5035 molecules and 503500 training examples read so far.\n",
      "\n",
      "Reading data from data/qm7_7.hdf5...\n",
      "Done!  5745 molecules and 574500 training examples read so far.\n",
      "\n",
      "Reading data from data/qm7_8.hdf5...\n",
      "Done!  6455 molecules and 645500 training examples read so far.\n",
      "\n",
      "Reading data from data/qm7_9.hdf5...\n",
      "Done!  7165 molecules and 716500 training examples read so far.\n",
      "\n",
      "Reading is complete.\n"
     ]
    }
   ],
   "source": [
    "filenames = sorted(glob(\"data/qm7_*.hdf5\"))\n",
    "molecules_dict = read_molecule_data(filenames, max_molecules=None)\n",
    "molecules = list(molecules_dict.values())"
   ]
  },
  {
   "cell_type": "code",
   "execution_count": 5,
   "metadata": {},
   "outputs": [],
   "source": [
    "relevant_elements = read_utilities.relevant_elements\n",
    "n_elements = read_utilities.n_elements\n",
    "n_molecules = len(molecules)"
   ]
  },
  {
   "cell_type": "code",
   "execution_count": 6,
   "metadata": {},
   "outputs": [
    {
     "name": "stdout",
     "output_type": "stream",
     "text": [
      "carbon\n",
      "n=3576100  mean=0.0258 stdev=0.9964\n"
     ]
    },
    {
     "data": {
      "image/png": "[encoded data removed]",
      "text/plain": [
       "<Figure size 432x288 with 1 Axes>"
      ]
     },
     "metadata": {
      "needs_background": "light"
     },
     "output_type": "display_data"
    },
    {
     "name": "stdout",
     "output_type": "stream",
     "text": [
      "proton\n",
      "n=6195900  mean=-0.0657  stdev=1.0506\n"
     ]
    },
    {
     "data": {
      "image/png": "[encoded data removed]",
      "text/plain": [
       "<Figure size 432x288 with 1 Axes>"
      ]
     },
     "metadata": {
      "needs_background": "light"
     },
     "output_type": "display_data"
    }
   ],
   "source": [
    "# get stats\n",
    "all_shieldings = {}\n",
    "for molecule in molecules:\n",
    "    atomic_symbols = molecule.atomic_symbols\n",
    "    perturbed_shieldings = molecule.perturbed_shieldings\n",
    "    for i,symbol in enumerate(atomic_symbols):\n",
    "        if symbol in relevant_elements:\n",
    "            if symbol not in all_shieldings:\n",
    "                all_shieldings[symbol] = []\n",
    "            shieldings_list = all_shieldings[symbol]\n",
    "            current_shieldings = shieldings_list.extend(perturbed_shieldings[:,i])\n",
    "shieldingsC = all_shieldings[\"C\"]\n",
    "print(\"carbon\")\n",
    "print(f\"n={len(shieldingsC)}  mean={np.mean(shieldingsC):.4f} stdev={np.std(shieldingsC):.4f}\")\n",
    "plt.hist(shieldingsC,bins=100)\n",
    "plt.show()\n",
    "\n",
    "shieldingsH = all_shieldings[\"H\"]\n",
    "print(\"proton\")\n",
    "print(f\"n={len(shieldingsH)}  mean={np.mean(shieldingsH):.4f}  stdev={np.std(shieldingsH):.4f}\")\n",
    "plt.hist(shieldingsH,bins=100)\n",
    "plt.show()"
   ]
  },
  {
   "cell_type": "code",
   "execution_count": 7,
   "metadata": {},
   "outputs": [],
   "source": [
    "# features are one-hots for every atom,\n",
    "# so this is (number of one_hots, rank zero tensor, even parity)\n",
    "Rs_in = [(n_elements,0,1)]\n",
    "\n",
    "# we are outputing one scalar for every atom\n",
    "# so this is (one, rank zero tensor, even parity)\n",
    "Rs_out = [(1,0,1)]\n",
    "\n",
    "# maximum extent of radial basis functions in Angstroms\n",
    "max_radius = 5.0"
   ]
  },
  {
   "cell_type": "code",
   "execution_count": 8,
   "metadata": {},
   "outputs": [
    {
     "name": "stdout",
     "output_type": "stream",
     "text": [
      "Generating random indices...done!\n"
     ]
    }
   ],
   "source": [
    "# generate random iteration order for dataset\n",
    "print(\"Generating random indices...\", end='')\n",
    "seed = 1\n",
    "shuffler = random.Random(seed)\n",
    "dataset_iteration_indices = []\n",
    "for i in range(n_molecules):\n",
    "    n_examples = len(molecules[i].perturbed_geometries)\n",
    "    for j in range(n_examples):\n",
    "        this_example = i,j\n",
    "        dataset_iteration_indices.append(this_example)\n",
    "shuffler.shuffle(dataset_iteration_indices)\n",
    "n_total_examples = len(dataset_iteration_indices)\n",
    "print(\"done!\")"
   ]
  },
  {
   "cell_type": "code",
   "execution_count": 9,
   "metadata": {},
   "outputs": [],
   "source": [
    "# create torch object for a single training example\n",
    "def get_data_neighbors(i,j):\n",
    "    molecule = molecules[i]\n",
    "    features = torch.tensor(molecule.features, dtype=torch.float64)\n",
    "    weights = torch.tensor(molecule.weights, dtype=torch.float64)\n",
    "    g = torch.tensor(molecule.perturbed_geometries[j,:,:], dtype=torch.float64)\n",
    "    s = torch.tensor(molecule.perturbed_shieldings[j], dtype=torch.float64).unsqueeze(-1)  # [1,N]\n",
    "    data = dh.DataNeighbors(x=features, Rs_in=Rs_in, pos=g, r_max=max_radius,\n",
    "                            self_interaction=True, name=molecule.name,\n",
    "                            weights=weights, y=s, Rs_out = Rs_out)\n",
    "    return data"
   ]
  },
  {
   "cell_type": "code",
   "execution_count": 10,
   "metadata": {},
   "outputs": [],
   "source": [
    "# max is 716500\n",
    "test_size = 50000\n",
    "train_size = 666500\n",
    "assert train_size + test_size <= n_total_examples\n",
    "batch_size = 50\n",
    "training_megabatch_size = 50000  # number of training examples to load into memory at a time "
   ]
  },
  {
   "cell_type": "code",
   "execution_count": 11,
   "metadata": {},
   "outputs": [],
   "source": [
    "# function from creating training dataset from dataset_iteration_indices[h_min:h_max]\n",
    "def make_megabatch(h_min, h_max):\n",
    "    return_list = []\n",
    "    time1 = time.time()\n",
    "    n_examples_to_process = h_max - h_min\n",
    "    for h in range(h_min, h_max):\n",
    "        if h == h_min or (h+1) % 100 == 0 or h_max == n_examples_to_process - 1:\n",
    "            print(f\"Processing example {h-h_min+1:6d}/{n_examples_to_process:6d}...           \", end='\\r', flush=True)\n",
    "        i,j = dataset_iteration_indices[h]\n",
    "        data = get_data_neighbors(i,j)\n",
    "        return_list.append(data)\n",
    "    time2 = time.time()\n",
    "    print(f\"\\nDone pre-processing data!  Operation took {time2-time1:.1f} s.\")    \n",
    "    return return_list\n",
    "\n",
    "def load_dataset(filename, silent=False):\n",
    "    file_size = os.path.getsize(filename) / 1000000\n",
    "    if not silent:\n",
    "        print(f\"Loading precomputed vectors from {filename} ({file_size:.1f} MB)...\", end='')\n",
    "    time1 = time.time()\n",
    "    data_list = torch.load(filename)\n",
    "    time2 = time.time()\n",
    "    if not silent:\n",
    "        print(f\"done!  Took {time2-time1:.1f} s.\")  \n",
    "    return data_list"
   ]
  },
  {
   "cell_type": "code",
   "execution_count": 12,
   "metadata": {},
   "outputs": [
    {
     "name": "stdout",
     "output_type": "stream",
     "text": [
      "Loading precomputed vectors from preprocessed/qm7-preprocessed-test_set.torch (551.3 MB)...done!  Took 8.7 s.\n"
     ]
    }
   ],
   "source": [
    "# load testing data into memory\n",
    "filename = \"preprocessed/qm7-preprocessed-test_set.torch\"\n",
    "if os.path.isfile(filename):\n",
    "    testing_data_list = load_dataset(filename)\n",
    "else:\n",
    "    testing_data_list = make_megabatch(0, test_size)\n",
    "    time1 = time.time()\n",
    "    print(f\"Saving to {filename}...\", end='', flush=True)\n",
    "    torch.save(testing_data_list, filename)\n",
    "    file_size = os.path.getsize(filename) / 1000000\n",
    "    time2 = time.time()\n",
    "    print(f\"done!  Took {time2-time1:.1f} s.  File occupies {file_size:.1f} MB.\")"
   ]
  },
  {
   "cell_type": "code",
   "execution_count": 13,
   "metadata": {},
   "outputs": [
    {
     "name": "stdout",
     "output_type": "stream",
     "text": [
      "Megabatch 1: indices 50000-100000\n",
      "preprocessed/qm7-preprocessed-training_set-batch_00.torch already exists, so skipping pre-processing.\n",
      "\n",
      "Megabatch 2: indices 100000-150000\n",
      "preprocessed/qm7-preprocessed-training_set-batch_01.torch already exists, so skipping pre-processing.\n",
      "\n",
      "Megabatch 3: indices 150000-200000\n",
      "preprocessed/qm7-preprocessed-training_set-batch_02.torch already exists, so skipping pre-processing.\n",
      "\n",
      "Megabatch 4: indices 200000-250000\n",
      "preprocessed/qm7-preprocessed-training_set-batch_03.torch already exists, so skipping pre-processing.\n",
      "\n",
      "Megabatch 5: indices 250000-300000\n",
      "preprocessed/qm7-preprocessed-training_set-batch_04.torch already exists, so skipping pre-processing.\n",
      "\n",
      "Megabatch 6: indices 300000-350000\n",
      "preprocessed/qm7-preprocessed-training_set-batch_05.torch already exists, so skipping pre-processing.\n",
      "\n",
      "Megabatch 7: indices 350000-400000\n",
      "preprocessed/qm7-preprocessed-training_set-batch_06.torch already exists, so skipping pre-processing.\n",
      "\n",
      "Megabatch 8: indices 400000-450000\n",
      "preprocessed/qm7-preprocessed-training_set-batch_07.torch already exists, so skipping pre-processing.\n",
      "\n",
      "Megabatch 9: indices 450000-500000\n",
      "preprocessed/qm7-preprocessed-training_set-batch_08.torch already exists, so skipping pre-processing.\n",
      "\n",
      "Megabatch 10: indices 500000-550000\n",
      "preprocessed/qm7-preprocessed-training_set-batch_09.torch already exists, so skipping pre-processing.\n",
      "\n",
      "Megabatch 11: indices 550000-600000\n",
      "preprocessed/qm7-preprocessed-training_set-batch_10.torch already exists, so skipping pre-processing.\n",
      "\n",
      "Megabatch 12: indices 600000-650000\n",
      "preprocessed/qm7-preprocessed-training_set-batch_11.torch already exists, so skipping pre-processing.\n",
      "\n",
      "Megabatch 13: indices 650000-700000\n",
      "preprocessed/qm7-preprocessed-training_set-batch_12.torch already exists, so skipping pre-processing.\n",
      "\n",
      "Megabatch 14: indices 700000-716500\n",
      "preprocessed/qm7-preprocessed-training_set-batch_13.torch already exists, so skipping pre-processing.\n",
      "\n"
     ]
    }
   ],
   "source": [
    "# preprocess training data and save to disk\n",
    "n_megabatches = 0\n",
    "for megabatch_index,h_min in enumerate(range(test_size, test_size+train_size, training_megabatch_size)):\n",
    "    n_megabatches += 1\n",
    "    h_max = min(h_min + min(train_size,training_megabatch_size), n_total_examples)\n",
    "    filename = f\"preprocessed/qm7-preprocessed-training_set-batch_{megabatch_index:02d}.torch\"\n",
    "    print(f\"Megabatch {megabatch_index+1}: indices {h_min}-{h_max}\")\n",
    "    if os.path.isfile(filename):\n",
    "        print(f\"{filename} already exists, so skipping pre-processing.\\n\")\n",
    "    else:\n",
    "        data_list = make_megabatch(h_min, h_max)\n",
    "        time1 = time.time()\n",
    "        print(f\"Saving to {filename}...\", end='', flush=True)\n",
    "        torch.save(data_list, filename)\n",
    "        file_size = os.path.getsize(filename) / 1000000\n",
    "        time2 = time.time()\n",
    "        print(f\"done!  Took {time2-time1:.1f} s to save.  File occupies {file_size:.1f} MB.\\n\")"
   ]
  },
  {
   "cell_type": "code",
   "execution_count": 14,
   "metadata": {},
   "outputs": [],
   "source": [
    "# mean-squared loss (not RMS!)\n",
    "def loss_function(output, data):\n",
    "    predictions = output\n",
    "    observations = data.y\n",
    "    weights = data.weights\n",
    "    normalization = weights.sum()\n",
    "    residuals = (predictions-observations)\n",
    "    loss = residuals.square() * weights\n",
    "    loss = loss.sum() / normalization\n",
    "    return loss, residuals"
   ]
  },
  {
   "cell_type": "code",
   "execution_count": 66,
   "metadata": {},
   "outputs": [],
   "source": [
    "# model_kwargs = {\n",
    "#     'Rs_in': Rs_in,            # shape of inputs\n",
    "#     'Rs_out': Rs_out,          # shape of outputs\n",
    "#     'muls': [3,4,5,6],            # how many copies of each tensor at each layer\n",
    "#     'lmaxes': [4,3,2,1],          # maximum angular momentum\n",
    "#     'max_radius': max_radius,  # radial kernel will extend out this far\n",
    "#     'number_of_basis': 50,     # number of Gaussians in radial kernel?\n",
    "# }\n",
    "# model = VariableParityNetwork(convolution=Convolution, **model_kwargs)\n",
    "# model.to(device);"
   ]
  },
  {
   "cell_type": "code",
   "execution_count": 22,
   "metadata": {},
   "outputs": [
    {
     "name": "stdout",
     "output_type": "stream",
     "text": [
      "Loaded model.\n"
     ]
    }
   ],
   "source": [
    "# load previously trained model\n",
    "model_dict = torch.load(\"data/qm7-mul3456-lmax4321-model1.torch\")\n",
    "model_kwargs = model_dict['model_kwargs']\n",
    "model = VariableParityNetwork(convolution=Convolution, **model_kwargs)\n",
    "model.load_state_dict(model_dict['state_dict'])\n",
    "model.to(device)\n",
    "print(\"Loaded model.\")"
   ]
  },
  {
   "cell_type": "code",
   "execution_count": 23,
   "metadata": {},
   "outputs": [
    {
     "name": "stdout",
     "output_type": "stream",
     "text": [
      "Adam (\n",
      "Parameter Group 0\n",
      "    amsgrad: False\n",
      "    betas: (0.9, 0.999)\n",
      "    eps: 1e-08\n",
      "    lr: 0.001\n",
      "    weight_decay: 0\n",
      ")\n"
     ]
    }
   ],
   "source": [
    "# training parameters\n",
    "learning_rate = 3e-3\n",
    "opt = torch.optim.Adam(model.parameters(), learning_rate)\n",
    "opt.load_state_dict(model_dict[\"optimizer_state_dict\"])   # can only use learning_rate from file!\n",
    "print(opt)\n",
    "epochs = 100       \n",
    "n_norm = 14           # n_norm is average number of convolution neighbors per atom\n",
    "batch_size = 100"
   ]
  },
  {
   "cell_type": "code",
   "execution_count": 24,
   "metadata": {},
   "outputs": [],
   "source": [
    "# prepare to train model\n",
    "dataset_iteration_indices = None\n",
    "torch.cuda.empty_cache()\n",
    "\n",
    "testing_size = len(testing_data_list)\n",
    "n_testing_batches = math.ceil(testing_size / batch_size)\n",
    "testing_dataloader = tg.data.DataListLoader(testing_data_list, batch_size=batch_size, shuffle=False)\n",
    "\n",
    "results_dict = {} # molecule name -> residuals (n_examples,n_atoms)\n",
    "history = []      # index is epoch, items are (train_loss, test_loss)"
   ]
  },
  {
   "cell_type": "code",
   "execution_count": 25,
   "metadata": {},
   "outputs": [],
   "source": [
    "def save_model(model_kwargs, model, filename, optimizer=None):\n",
    "    model_dict = {\n",
    "        'state_dict': model.state_dict(),\n",
    "        'model_kwargs': model_kwargs\n",
    "    }\n",
    "    if optimizer is not None:\n",
    "        model_dict['optimizer_state_dict'] = optimizer.state_dict()\n",
    "    torch.save(model_dict, filename)"
   ]
  },
  {
   "cell_type": "code",
   "execution_count": null,
   "metadata": {
    "scrolled": true
   },
   "outputs": [
    {
     "name": "stdout",
     "output_type": "stream",
     "text": [
      "Epoch 1      Megabatch  1      train    66 /   500  loss =        1.654    cum_loss =        1.686            \r"
     ]
    }
   ],
   "source": [
    "# train model\n",
    "all_stopwatch = Stopwatch(running=True)\n",
    "for epoch in range(epochs):\n",
    "    epoch_stopwatch = Stopwatch(running=False)\n",
    "    \n",
    "    # training\n",
    "    training_loss_this_epoch = 0.0\n",
    "    n_examples_seen_this_epoch = 0\n",
    "    for megabatch_index in range(n_megabatches):\n",
    "        # load data from this megabatch and shuffle it\n",
    "        if megabatch_index > 0:\n",
    "            print()\n",
    "        print(\"Loading...\", end='', flush=True)\n",
    "        filename = f\"preprocessed/qm7-preprocessed-training_set-batch_{megabatch_index:02d}.torch\"\n",
    "        data_list = load_dataset(filename, silent=True)\n",
    "        n_examples_this_megabatch = len(data_list)\n",
    "        shuffler = random.Random(epoch)  # set seed to epoch index\n",
    "        shuffler.shuffle(data_list)      # allows deterministic shuffling\n",
    "        training_dataloader = tg.data.DataListLoader(data_list, batch_size=batch_size, shuffle=False)\n",
    "        \n",
    "        # train on this megabatch in minibatches\n",
    "        n_minibatches = math.ceil(n_examples_this_megabatch/batch_size)\n",
    "        epoch_stopwatch.start()\n",
    "        for minibatch_index,data in enumerate(training_dataloader):\n",
    "            # forward pass\n",
    "            n_examples_this_minibatch = len(data)\n",
    "\n",
    "            data = tg.data.Batch.from_data_list(data)\n",
    "            data.to(device)\n",
    "            output = model(data.x, data.edge_index, data.edge_attr, n_norm=n_norm)\n",
    "            loss, residuals = loss_function(output, data)\n",
    "\n",
    "            # backward pass\n",
    "            opt.zero_grad()\n",
    "            loss.backward()\n",
    "            opt.step()\n",
    "\n",
    "            # clean up\n",
    "            del data\n",
    "            \n",
    "            # update training loss\n",
    "            minibatch_loss = np.sqrt(loss.item())\n",
    "            training_loss_this_epoch = training_loss_this_epoch * n_examples_seen_this_epoch + \\\n",
    "                                       minibatch_loss * n_examples_this_minibatch\n",
    "            n_examples_seen_this_epoch += n_examples_this_minibatch\n",
    "            training_loss_this_epoch = training_loss_this_epoch / n_examples_seen_this_epoch\n",
    "            \n",
    "            # print update\n",
    "            print(f\"\\rEpoch {epoch+1:<4d}   Megabatch {megabatch_index+1:>2d}      train {minibatch_index+1:5d} / {n_minibatches:5d}  loss = {minibatch_loss:12.3f}    cum_loss = {training_loss_this_epoch:12.3f}            \", end=\"\\r\", flush=True)\n",
    "        epoch_stopwatch.stop()\n",
    "        \n",
    "    epoch_stopwatch.start()\n",
    "    \n",
    "    # testing\n",
    "    print()\n",
    "    n_minibatches = math.ceil(test_size/batch_size)\n",
    "    testing_loss = 0.0\n",
    "    n_testing_examples_seen = 0\n",
    "    for minibatch_index,data in enumerate(testing_dataloader):\n",
    "        n_examples_this_minibatch = len(data)\n",
    "        data = tg.data.Batch.from_data_list(data)\n",
    "        data.to(device)\n",
    "        \n",
    "        with torch.no_grad():\n",
    "            # run model\n",
    "            output = model(data.x, data.edge_index, data.edge_attr, n_norm=n_norm)\n",
    "\n",
    "            # compute MSE\n",
    "            loss, residuals = loss_function(output,data)\n",
    "            minibatch_loss = np.sqrt(loss.item())\n",
    "            testing_loss = testing_loss * n_testing_examples_seen + \\\n",
    "                           minibatch_loss * n_examples_this_minibatch\n",
    "            n_testing_examples_seen += n_examples_this_minibatch\n",
    "            testing_loss = testing_loss / n_testing_examples_seen\n",
    "\n",
    "        del data\n",
    "        print(f\"Epoch {epoch+1:<4d}    test {minibatch_index+1:5d} / {n_minibatches:5d}  loss = {testing_loss:12.3f}                                           \", end=\"\\r\", flush=True)\n",
    "    \n",
    "    epoch_stopwatch.stop()\n",
    "    epoch_elapsed_time = epoch_stopwatch.get_elapsed()\n",
    "    total_elapsed_time = all_stopwatch.get_elapsed()\n",
    "    history.append((training_loss_this_epoch, testing_loss))\n",
    "    \n",
    "    print(\"\\nCheckpointing...\", end='\\r', flush=True)\n",
    "    model_filename = f\"checkpoints/qm7-mul3456-lmax4321-epoch-{epoch+1:03d}.torch\"\n",
    "    save_model(model_kwargs, model, model_filename, optimizer=opt)\n",
    "    \n",
    "    print(f\"Epoch {epoch+1:<4d}   training = {training_loss_this_epoch:<12.3f}    testing = {testing_loss:<12.3f}     elapsed = {epoch_elapsed_time:<.2f} s        total = {total_elapsed_time:<.2f} s\")\n",
    "    print()"
   ]
  },
  {
   "cell_type": "code",
   "execution_count": 27,
   "metadata": {},
   "outputs": [
    {
     "data": {
      "image/png": "[encoded data removed]",
      "text/plain": [
       "<Figure size 864x576 with 1 Axes>"
      ]
     },
     "metadata": {
      "needs_background": "light"
     },
     "output_type": "display_data"
    }
   ],
   "source": [
    "# plot learning curve\n",
    "plt.figure(figsize=(12,8))\n",
    "epoch = list(range(len(history)))\n",
    "epoch = np.array(epoch)\n",
    "epoch2 = epoch + 0.5\n",
    "training_loss = [ training for training,testing in history ]\n",
    "testing_loss = [ testing for training,testing in history ]\n",
    "plt.plot(epoch, training_loss, \"ro-\", label=\"train\")\n",
    "plt.plot(epoch2, testing_loss, \"bo-\", label=\"test\")\n",
    "plt.legend(loc=\"best\")\n",
    "plt.show()"
   ]
  },
  {
   "cell_type": "code",
   "execution_count": 36,
   "metadata": {},
   "outputs": [
    {
     "name": "stdout",
     "output_type": "stream",
     "text": [
      "test   500 /   500       minibatch loss = 1.738          overall loss = 1.698                                               \n",
      "Overall loss is 1.698034.  Evaluation took 87.05 s.\n"
     ]
    }
   ],
   "source": [
    "# compute testing loss\n",
    "results_dict = {} # molecule name -> residuals (n_examples,n_atoms)\n",
    "n_minibatches = math.ceil(test_size/batch_size)\n",
    "testing_loss = 0.0\n",
    "n_testing_examples_seen = 0\n",
    "testing_stopwatch = Stopwatch(running=True)\n",
    "for minibatch_index,data in enumerate(testing_dataloader):\n",
    "    n_examples_this_minibatch = len(data)\n",
    "    data = tg.data.Batch.from_data_list(data)\n",
    "    data.to(device)\n",
    "\n",
    "    with torch.no_grad():\n",
    "        # run model\n",
    "        output = model(data.x, data.edge_index, data.edge_attr, n_norm=n_norm)\n",
    "\n",
    "        # compute MSE\n",
    "        loss, residuals = loss_function(output,data)\n",
    "        minibatch_loss = np.sqrt(loss.item())\n",
    "        testing_loss = testing_loss * n_testing_examples_seen + \\\n",
    "                       minibatch_loss * n_examples_this_minibatch\n",
    "        n_testing_examples_seen += n_examples_this_minibatch\n",
    "        testing_loss = testing_loss / n_testing_examples_seen\n",
    "\n",
    "        # rescale residuals back to ppm and store\n",
    "        residuals = residuals.squeeze(-1).cpu().numpy()\n",
    "        i=0\n",
    "        for name in data.name:\n",
    "            molecule = molecules_dict[name]\n",
    "            n_atoms = molecule.n_atoms\n",
    "            scaling_factors = molecule.scaling_factors\n",
    "            if name not in results_dict:\n",
    "                results_dict[name] = []\n",
    "            subset = residuals[i:i+n_atoms] * scaling_factors[:,1]\n",
    "            results_dict[name].append(subset)\n",
    "            i += n_atoms\n",
    "        \n",
    "    del data\n",
    "    print(f\"test {minibatch_index+1:5d} / {n_minibatches:5d}       minibatch loss = {minibatch_loss:<12.3f}   overall loss = {testing_loss:<12.3f}                                        \", end=\"\\r\", flush=True)\n",
    "testing_stopwatch.stop()\n",
    "print(f\"\\nOverall loss is {testing_loss.item():.3f}.  Evaluation took {testing_stopwatch.get_elapsed():.2f} s.\")"
   ]
  },
  {
   "cell_type": "code",
   "execution_count": 37,
   "metadata": {},
   "outputs": [],
   "source": [
    "# results_dict : molecule name -> residuals (n_examples,n_atoms)\n",
    "# results_dict2 : site label -> residuals\n",
    "results_dict2 = {}\n",
    "all_residuals = {}  # element --> [residuals]\n",
    "for name,results in results_dict.items():\n",
    "    results = np.array(results).T\n",
    "    molecule = molecules_dict[name]\n",
    "    atomic_symbols = molecule.atomic_symbols\n",
    "    for atomic_index,this_result in enumerate(results):\n",
    "        element = atomic_symbols[atomic_index]\n",
    "        if element not in relevant_elements:\n",
    "            continue\n",
    "        label = f\"{name}_{element}{atomic_index+1}\"\n",
    "        results_dict2[label]=this_result\n",
    "        if element not in all_residuals:\n",
    "            all_residuals[element] = []\n",
    "        all_residuals[element].extend(this_result)"
   ]
  },
  {
   "cell_type": "code",
   "execution_count": 39,
   "metadata": {},
   "outputs": [
    {
     "data": {
      "image/png": "[encoded data removed]",
      "text/plain": [
       "<Figure size 576x432 with 1 Axes>"
      ]
     },
     "metadata": {
      "needs_background": "light"
     },
     "output_type": "display_data"
    },
    {
     "data": {
      "image/png": "[encoded data removed]",
      "text/plain": [
       "<Figure size 576x432 with 1 Axes>"
      ]
     },
     "metadata": {
      "needs_background": "light"
     },
     "output_type": "display_data"
    }
   ],
   "source": [
    "e=\"H\"\n",
    "bins = np.linspace(-0.5,0.5,50)\n",
    "plt.figure(figsize=(8,6))\n",
    "plt.title(f\"residuals for {e}\")\n",
    "plt.hist(all_residuals[e],bins=bins)\n",
    "plt.show()\n",
    "e=\"C\"\n",
    "bins = np.linspace(-10,10,100)\n",
    "plt.figure(figsize=(8,6))\n",
    "plt.title(f\"residuals for {e}\")\n",
    "plt.hist(all_residuals[e],bins=bins)\n",
    "plt.show()"
   ]
  },
  {
   "cell_type": "code",
   "execution_count": 40,
   "metadata": {},
   "outputs": [
    {
     "name": "stdout",
     "output_type": "stream",
     "text": [
      "C:  mean = -0.357  RMSE =  1.964   range =  -21.68 to   17.41\n",
      "H:  mean = -0.005  RMSE =  0.096   range =   -1.06 to    1.12\n"
     ]
    }
   ],
   "source": [
    "# get stats on everything\n",
    "for e in relevant_elements:\n",
    "    mean_error = np.mean(all_residuals[e])\n",
    "    RMSE = np.sqrt(np.mean(np.square(all_residuals[e])))\n",
    "    min_err = np.min(all_residuals[e])\n",
    "    max_err = np.max(all_residuals[e])\n",
    "    print(f\"{e}:  mean ={mean_error:7.3f}  RMSE ={RMSE:7.3f}   range = {min_err:7.2f} to {max_err:7.2f}\")"
   ]
  },
  {
   "cell_type": "code",
   "execution_count": null,
   "metadata": {},
   "outputs": [],
   "source": []
  },
  {
   "cell_type": "code",
   "execution_count": null,
   "metadata": {},
   "outputs": [],
   "source": []
  },
  {
   "cell_type": "code",
   "execution_count": 41,
   "metadata": {},
   "outputs": [
    {
     "data": {
      "image/png": "[encoded data removed]",
      "text/plain": [
       "<Figure size 432x288 with 1 Axes>"
      ]
     },
     "metadata": {
      "needs_background": "light"
     },
     "output_type": "display_data"
    }
   ],
   "source": [
    "show_radial_parameters(model, max_radius)"
   ]
  },
  {
   "cell_type": "code",
   "execution_count": 64,
   "metadata": {},
   "outputs": [
    {
     "name": "stdout",
     "output_type": "stream",
     "text": [
      "layers.0.0.kernel.R.f.weights.0: [100, 50]\n",
      "layers.0.0.kernel.R.f.weights.1: [100, 100]\n",
      "layers.0.0.kernel.R.f.weights.2: [100, 100]\n",
      "layers.0.0.kernel.R.f.weights.3: [135, 100]\n",
      "layers.0.0.kernel.linear.weight: [75]\n",
      "layers.1.0.kernel.R.f.weights.0: [100, 50]\n",
      "layers.1.0.kernel.R.f.weights.1: [100, 100]\n",
      "layers.1.0.kernel.R.f.weights.2: [100, 100]\n",
      "layers.1.0.kernel.R.f.weights.3: [768, 100]\n",
      "layers.1.0.kernel.linear.weight: [120]\n",
      "layers.2.0.kernel.R.f.weights.0: [100, 50]\n",
      "layers.2.0.kernel.R.f.weights.1: [100, 100]\n",
      "layers.2.0.kernel.R.f.weights.2: [100, 100]\n",
      "layers.2.0.kernel.R.f.weights.3: [1260, 100]\n",
      "layers.2.0.kernel.linear.weight: [252]\n",
      "layers.3.0.kernel.R.f.weights.0: [100, 50]\n",
      "layers.3.0.kernel.R.f.weights.1: [100, 100]\n",
      "layers.3.0.kernel.R.f.weights.2: [100, 100]\n",
      "layers.3.0.kernel.R.f.weights.3: [1232, 100]\n",
      "layers.3.0.kernel.linear.weight: [462]\n",
      "layers.4.kernel.R.f.weights.0: [100, 50]\n",
      "layers.4.kernel.R.f.weights.1: [100, 100]\n",
      "layers.4.kernel.R.f.weights.2: [100, 100]\n",
      "layers.4.kernel.R.f.weights.3: [22, 100]\n",
      "layers.4.kernel.linear.weight: [11]\n"
     ]
    }
   ],
   "source": [
    "print_parameter_size(model)"
   ]
  },
  {
   "cell_type": "code",
   "execution_count": 65,
   "metadata": {},
   "outputs": [
    {
     "name": "stdout",
     "output_type": "stream",
     "text": [
      "Layer 0: 38575\n",
      "Layer 1: 101920\n",
      "Layer 2: 151252\n",
      "Layer 3: 148662\n",
      "Layer 4: 27211\n",
      "Total parameters: 467620\n"
     ]
    }
   ],
   "source": [
    "def count_parameters(model):\n",
    "    model_count_dict = {} # layer # -> n_params\n",
    "    n_total_parameters = 0\n",
    "    for name, param in model.named_parameters():\n",
    "        n_params = np.prod(param.shape)\n",
    "        n_total_parameters += n_params\n",
    "        fields = name.split(\".\")\n",
    "        layer = fields[1]\n",
    "        if layer not in model_count_dict:\n",
    "            model_count_dict[layer]=0\n",
    "        model_count_dict[layer] += n_params\n",
    "    for layer,n_params in model_count_dict.items():\n",
    "        print(f\"Layer {layer}: {n_params}\")\n",
    "    print(f\"Total parameters: {n_total_parameters}\")\n",
    "count_parameters(model)        "
   ]
  },
  {
   "cell_type": "code",
   "execution_count": null,
   "metadata": {},
   "outputs": [],
   "source": []
  },
  {
   "cell_type": "code",
   "execution_count": null,
   "metadata": {},
   "outputs": [],
   "source": []
  },
  {
   "cell_type": "code",
   "execution_count": null,
   "metadata": {},
   "outputs": [],
   "source": []
  },
  {
   "cell_type": "code",
   "execution_count": null,
   "metadata": {},
   "outputs": [],
   "source": []
  },
  {
   "cell_type": "code",
   "execution_count": null,
   "metadata": {},
   "outputs": [],
   "source": [
    "# summary stats\n",
    "df = pd.DataFrame(results_dict2)\n",
    "means = df.mean()\n",
    "ranges = df.max()-df.min()\n",
    "RMSEs = np.sqrt(df.pow(2).mean())\n",
    "df = pd.concat([means,ranges,RMSEs], axis=1)\n",
    "df.columns = [\"mean\",\"range\",\"RMSE\"]\n",
    "df = df.round(2)\n",
    "display(df)"
   ]
  },
  {
   "cell_type": "code",
   "execution_count": 44,
   "metadata": {},
   "outputs": [],
   "source": [
    "def save_model(model_kwargs, model, filename, optimizer=None):\n",
    "    model_dict = {\n",
    "        'state_dict': model.state_dict(),\n",
    "        'model_kwargs': model_kwargs\n",
    "    }\n",
    "    if optimizer is not None:\n",
    "        model_dict['optimizer_state_dict'] = optimizer.state_dict()\n",
    "    torch.save(model_dict, filename)"
   ]
  },
  {
   "cell_type": "code",
   "execution_count": 45,
   "metadata": {},
   "outputs": [],
   "source": [
    "save_model(model_kwargs, model, \"data/qm7-mul3456-lmax4321-model1.torch\", optimizer=opt)"
   ]
  },
  {
   "cell_type": "code",
   "execution_count": null,
   "metadata": {},
   "outputs": [],
   "source": [
    "# define the neural network architecture\n",
    "model_kwargs = {\n",
    "    'network': 'GatedConvParityNetwork', \n",
    "    'conv': 'Convolution',\n",
    "    'Rs_in': Rs_in,            # shape of inputs\n",
    "    'Rs_out': Rs_out,          # shape of outputs\n",
    "    'mul': 3,                 # how many copies of each tensor at each layer\n",
    "    'lmax': 1,                 # maximum angular momentum\n",
    "    'layers': 3,               # number of layers\n",
    "    'max_radius': max_radius,  # radial kernel will extend out this far\n",
    "    'number_of_basis': 30,     # number of Gaussians in radial kernel?\n",
    "}\n",
    "model = model_from_kwargs(model_kwargs)\n",
    "model.to(device);"
   ]
  }
 ],
 "metadata": {
  "kernelspec": {
   "display_name": "Python 3",
   "language": "python",
   "name": "python3"
  },
  "language_info": {
   "codemirror_mode": {
    "name": "ipython",
    "version": 3
   },
   "file_extension": ".py",
   "mimetype": "text/x-python",
   "name": "python",
   "nbconvert_exporter": "python",
   "pygments_lexer": "ipython3",
   "version": "3.8.3"
  }
 },
 "nbformat": 4,
 "nbformat_minor": 4
}
