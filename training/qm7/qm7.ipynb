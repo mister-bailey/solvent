{
 "cells": [
  {
   "cell_type": "code",
   "execution_count": 2,
   "metadata": {},
   "outputs": [
    {
     "name": "stdout",
     "output_type": "stream",
     "text": [
      "hello\n"
     ]
    }
   ],
   "source": [
    "print(\"hello\")"
   ]
  },
  {
   "cell_type": "code",
   "execution_count": 3,
   "metadata": {},
   "outputs": [
    {
     "name": "stdout",
     "output_type": "stream",
     "text": [
      "hello\n",
      "hello\n",
      "hello\n",
      "hello\n",
      "hello\n"
     ]
    }
   ],
   "source": [
    "import time\n",
    "from pprint import pprint\n",
    "from IPython.display import display\n",
    "from glob import glob\n",
    "import re\n",
    "import math\n",
    "print(\"hello\")\n",
    "import matplotlib\n",
    "import matplotlib.pyplot as plt\n",
    "%matplotlib inline\n",
    "print(\"hello\")\n",
    "import numpy as np\n",
    "import pandas as pd\n",
    "import h5py\n",
    "from sklearn.model_selection import train_test_split\n",
    "print(\"hello\")\n",
    "import torch\n",
    "torch.set_default_dtype(torch.float64)\n",
    "print(\"hello\")\n",
    "import e3nn\n",
    "print(\"hello\")\n",
    "import e3nn.point.data_helpers as dh \n",
    "from training_utils import *\n",
    "print(\"bye\")"
   ]
  },
  {
   "cell_type": "code",
   "execution_count": 4,
   "metadata": {},
   "outputs": [
    {
     "name": "stdout",
     "output_type": "stream",
     "text": [
      "0\n",
      "1\n",
      "Tesla V100-PCIE-32GB\n",
      "True\n",
      "10.1\n"
     ]
    }
   ],
   "source": [
    "# make sure CUDA is available\n",
    "print(torch.cuda.current_device())\n",
    "print(torch.cuda.device_count())\n",
    "print(torch.cuda.get_device_name(0))\n",
    "print(torch.cuda.is_available())\n",
    "print(torch.version.cuda)\n",
    "#print(torch.cuda.memory_summary())\n",
    "device = \"cuda\"\n",
    "#torch.rand(10).to(device)\n",
    "#torch.rand(10, device=device)"
   ]
  },
  {
   "cell_type": "code",
   "execution_count": 5,
   "metadata": {},
   "outputs": [],
   "source": [
    "# all expected elements\n",
    "all_elements = ['C', 'H', 'N', 'O', 'S']\n",
    "n_elements = len(all_elements)\n",
    "\n",
    "# so we can normalize training data for the nuclei to be predicted\n",
    "elementwide_scaling_factors = { \"C\" : (118.0, 51.0),    # element : (mean, stdev)\n",
    "                                \"H\" : (29.0, 2.0)  }\n",
    "relevant_elements = list(elementwide_scaling_factors.keys())\n",
    "\n",
    "# irrelevant atoms will not be scaled\n",
    "for element in all_elements:\n",
    "    if element not in elementwide_scaling_factors:\n",
    "        elementwide_scaling_factors[element] = (0.0,1.0)"
   ]
  },
  {
   "cell_type": "code",
   "execution_count": 6,
   "metadata": {},
   "outputs": [],
   "source": [
    "# create a function to noramlize the shieldings for a specific molecule\n",
    "# shielding -> (shielding-mean)/stdev or 0 if not a relevant element\n",
    "def get_scalings(atomic_symbols):\n",
    "    scaling_factors = [ elementwide_scaling_factors[a] for a in atomic_symbols ]\n",
    "    scaling_factors = np.array(scaling_factors)\n",
    "    def scaling_function(x):\n",
    "        result = x - scaling_factors[:,0]\n",
    "        result = result / scaling_factors[:,1]\n",
    "        return result\n",
    "    return scaling_factors, scaling_function\n",
    "    \n",
    "# generates one-hots for a list of atomic_symbols\n",
    "def get_one_hots(atomic_symbols):\n",
    "    one_hots = []\n",
    "    for symbol in atomic_symbols:\n",
    "        inner_list = [ 1. if symbol == i else 0. for i in all_elements ]\n",
    "        one_hots.append(inner_list)\n",
    "    return np.array(one_hots)\n",
    "\n",
    "# compute weights for loss function\n",
    "def get_weights(atomic_symbols, symmetrical_atoms):\n",
    "    weights = [ 1.0 if symbol in relevant_elements else 0.0 for symbol in atomic_symbols ]\n",
    "    weights = np.array(weights)\n",
    "    for l in symmetrical_atoms:\n",
    "        weight = 1.0/len(l)\n",
    "        for i in l:\n",
    "            weights[i] = weight\n",
    "    return weights"
   ]
  },
  {
   "cell_type": "code",
   "execution_count": 7,
   "metadata": {},
   "outputs": [],
   "source": [
    "# represents the training data for one molecule\n",
    "# all of these items are stored on the cpu\n",
    "class Molecule():\n",
    "    def __init__(self, name,               \n",
    "                 atomic_symbols,           \n",
    "                 symmetrical_atoms,        # list of lists of 0-indexed atom numbers\n",
    "                 perturbed_geometries,               \n",
    "                 stationary_shieldings,\n",
    "                 perturbed_shieldings):    \n",
    "        self.name = name                                                     # name of molecule\n",
    "        self.atomic_symbols = atomic_symbols                                 # vector of strings of length n_atoms\n",
    "        self.n_atoms = len(atomic_symbols)                                   # number of atoms\n",
    "        self.perturbed_geometries = perturbed_geometries                     # (n_examples, n_atoms, 3)\n",
    "        self.stationary_shieldings = stationary_shieldings                   # (n_examples, n_atoms, 1)\n",
    "        \n",
    "        scaling_factors, scaling_function = get_scalings(atomic_symbols)\n",
    "        self.scaling_factors = scaling_factors                               # (n_atoms, 2) inner axis is mean, stdev\n",
    "        self.scaling_function = scaling_function                             # unscaled shieldings --> scaled shieldings \n",
    "\n",
    "        # scale perturbed shieldings and zero out data for irrelevant atoms\n",
    "        perturbed_shieldings = self.scaling_function(perturbed_shieldings)\n",
    "        for i,a in enumerate(atomic_symbols):\n",
    "            if a not in relevant_elements:\n",
    "                perturbed_shieldings[:,i]=0.0\n",
    "        self.perturbed_shieldings = perturbed_shieldings                     # (n_examples, n_atoms, 1)\n",
    "        \n",
    "        self.features = get_one_hots(atomic_symbols)                         # (n_atoms, n_elements)\n",
    "        self.weights = get_weights(atomic_symbols, symmetrical_atoms)        # (n_atoms,)"
   ]
  },
  {
   "cell_type": "code",
   "execution_count": 8,
   "metadata": {},
   "outputs": [
    {
     "name": "stdout",
     "output_type": "stream",
     "text": [
      "There are 144 molecules.\n"
     ]
    }
   ],
   "source": [
    "molecules_dict = {}  # name -> Molecule\n",
    "with h5py.File(\"qm7.hdf5\", \"r\") as h5:\n",
    "    for dataset_name,geometries_and_shieldings in h5.items():\n",
    "        if not dataset_name.startswith(\"data_\"):\n",
    "            continue\n",
    "        dataset_number = dataset_name.split(\"_\")[1]\n",
    "        geometries_and_shieldings = np.array(geometries_and_shieldings)\n",
    "        perturbed_geometries = geometries_and_shieldings[:,:,:3]\n",
    "        perturbed_shieldings = geometries_and_shieldings[:,:,3]\n",
    "        assert np.shape(geometries_and_shieldings)[2] == 4\n",
    "        stationary_shieldings = h5.attrs[f\"stationary_{dataset_number}\"]\n",
    "        n_atoms = len(stationary_shieldings)\n",
    "        assert np.shape(geometries_and_shieldings)[1] == n_atoms\n",
    "        atomic_symbols = h5.attrs[f\"atomic_symbols_{dataset_number}\"]\n",
    "        for a in atomic_symbols:\n",
    "            assert a in all_elements, f\"need to add {a} to all_elements\"\n",
    "        assert len(atomic_symbols) == n_atoms\n",
    "        symmetrical_atoms_group = h5.get(f\"symmetrical_atoms_{dataset_number}\")\n",
    "        symmetrical_atoms = []\n",
    "        for a,b in symmetrical_atoms_group.items():\n",
    "            b = [ i-1 for i in b ]\n",
    "            for i in b:\n",
    "                assert 0 <= i < n_atoms\n",
    "            symmetrical_atoms.append(b)    \n",
    "                # store the results\n",
    "        molecule = Molecule(dataset_number, atomic_symbols, symmetrical_atoms,\n",
    "                            perturbed_geometries, stationary_shieldings, perturbed_shieldings)\n",
    "        molecules_dict[dataset_number] = molecule\n",
    "        \n",
    "molecules = np.array(list(molecules_dict.values()))\n",
    "print(f\"There are {len(molecules)} molecules.\")"
   ]
  },
  {
   "cell_type": "code",
   "execution_count": 9,
   "metadata": {},
   "outputs": [
    {
     "name": "stdout",
     "output_type": "stream",
     "text": [
      "(73656,)\n",
      "0.007759818919402491\n",
      "1.0019581739943288\n",
      "(124938,)\n",
      "-0.06790754738550761\n",
      "1.0218088804836765\n"
     ]
    },
    {
     "data": {
      "image/png": "[encoded data removed]",
      "text/plain": [
       "<Figure size 432x288 with 1 Axes>"
      ]
     },
     "metadata": {
      "needs_background": "light"
     },
     "output_type": "display_data"
    },
    {
     "data": {
      "image/png": "[encoded data removed]",
      "text/plain": [
       "<Figure size 432x288 with 1 Axes>"
      ]
     },
     "metadata": {
      "needs_background": "light"
     },
     "output_type": "display_data"
    }
   ],
   "source": [
    "# get stats\n",
    "all_shieldings = {}\n",
    "for molecule in molecules:\n",
    "    atomic_symbols = molecule.atomic_symbols\n",
    "    perturbed_shieldings = molecule.perturbed_shieldings\n",
    "    for i,symbol in enumerate(atomic_symbols):\n",
    "        if symbol in relevant_elements:\n",
    "            if symbol not in all_shieldings:\n",
    "                all_shieldings[symbol] = []\n",
    "            shieldings_list = all_shieldings[symbol]\n",
    "            current_shieldings = shieldings_list.extend(perturbed_shieldings[:,i])\n",
    "shieldingsC = all_shieldings[\"C\"]\n",
    "print(np.shape(shieldingsC))\n",
    "print(np.mean(shieldingsC))\n",
    "print(np.std(shieldingsC))\n",
    "shieldingsH = all_shieldings[\"H\"]\n",
    "print(np.shape(shieldingsH))\n",
    "print(np.mean(shieldingsH))\n",
    "print(np.std(shieldingsH))\n",
    "plt.hist(shieldingsC,bins=100)\n",
    "plt.show()\n",
    "plt.hist(shieldingsH,bins=100)\n",
    "plt.show()"
   ]
  },
  {
   "cell_type": "code",
   "execution_count": 10,
   "metadata": {},
   "outputs": [],
   "source": [
    "# features are one-hots for every atom,\n",
    "# so this is (number of one_hots, rank zero tensor, even parity)\n",
    "Rs_in = [(n_elements,0,1)]\n",
    "\n",
    "# we are outputing one scalar for every atom\n",
    "# so this is (one, rank zero tensor, even parity)\n",
    "Rs_out = [(1,0,1)]\n",
    "\n",
    "# maximum extent of radial basis functions in Angstroms\n",
    "max_radius = 4.0"
   ]
  },
  {
   "cell_type": "code",
   "execution_count": 11,
   "metadata": {},
   "outputs": [],
   "source": [
    "def create_torch_dataset(molecules):\n",
    "    dataset = []\n",
    "    n_molecules = len(molecules)\n",
    "    for i,molecule in enumerate(molecules):\n",
    "        features = torch.tensor(molecule.features, dtype=torch.float64)\n",
    "        features.to(device)\n",
    "        weights = torch.tensor(molecule.weights, dtype=torch.float64)\n",
    "        weights.to(device)\n",
    "        n_to_save = len(molecule.perturbed_geometries)\n",
    "        for j in range(n_to_save):\n",
    "            if j == 0 or (j+1) % 50 == 0 or j == n_to_save - 1:\n",
    "                print(f\"Processing geometry {j+1:5d}/{n_to_save:5d} for molecule {molecule.name:5s} ({i+1:5d}/{n_molecules:5d})...           \", end='\\r', flush=True)\n",
    "            g = torch.tensor(molecule.perturbed_geometries[j,:,:], dtype=torch.float64)\n",
    "            s = torch.tensor(molecule.perturbed_shieldings[j], dtype=torch.float64).unsqueeze(-1)  # [1,N]\n",
    "            data = dh.DataNeighbors(x=features, Rs_in=Rs_in, pos=g, r_max=max_radius,\n",
    "                                    self_interaction=True, name=molecule.name,\n",
    "                                    weights=weights, y=s, Rs_out = Rs_out)\n",
    "            dataset.append(data)\n",
    "    print(\"\\ndone!\")\n",
    "    return dataset\n"
   ]
  },
  {
   "cell_type": "code",
   "execution_count": 12,
   "metadata": {},
   "outputs": [
    {
     "name": "stdout",
     "output_type": "stream",
     "text": [
      "done!ssing geometry    99/   99 for molecule 2220  (  100/  100)...           \n",
      "done!ssing geometry    99/   99 for molecule 5820  (   10/   10)...           \n"
     ]
    }
   ],
   "source": [
    "# split into train and test molecules\n",
    "# then preprocess the neighbor data\n",
    "training_molecules, testing_molecules = train_test_split(molecules, train_size=100, test_size=10, random_state=1)\n",
    "training_dataset = create_torch_dataset(training_molecules)\n",
    "testing_dataset = create_torch_dataset(testing_molecules)"
   ]
  },
  {
   "cell_type": "code",
   "execution_count": 14,
   "metadata": {},
   "outputs": [],
   "source": [
    "# mean-squared loss\n",
    "def loss_function(output, data):\n",
    "    predictions = output\n",
    "    observations = data.y\n",
    "    weights = data.weights\n",
    "    normalization = weights.sum()\n",
    "    residuals = (predictions-observations)\n",
    "    loss = residuals.square() * weights\n",
    "    loss = loss.sum() / normalization\n",
    "    loss = loss.pow(0.5)\n",
    "    return loss, residuals"
   ]
  },
  {
   "cell_type": "code",
   "execution_count": 15,
   "metadata": {},
   "outputs": [],
   "source": [
    "# define the neural network architecture\n",
    "model_kwargs = {\n",
    "    'network': 'GatedConvParityNetwork', \n",
    "    'conv': 'Convolution',\n",
    "    'Rs_in': Rs_in,            # shape of inputs\n",
    "    'Rs_out': Rs_out,          # shape of outputs\n",
    "    'mul': 3,                 # how many copies of each tensor at each layer\n",
    "    'lmax': 1,                 # maximum angular momentum\n",
    "    'layers': 3,               # number of layers\n",
    "    'max_radius': max_radius,  # radial kernel will extend out this far\n",
    "    'number_of_basis': 30,     # number of Gaussians in radial kernel?\n",
    "}\n",
    "model = model_from_kwargs(model_kwargs)\n",
    "model.to(device);"
   ]
  },
  {
   "cell_type": "code",
   "execution_count": 16,
   "metadata": {},
   "outputs": [],
   "source": [
    "# training parameters\n",
    "learning_rate = 1e-3\n",
    "opt = torch.optim.Adam(model.parameters(), learning_rate)\n",
    "epochs = 100       \n",
    "n_norm = 7           # n_norm is average number of convolution neighbors per atom\n",
    "batch_size = 50"
   ]
  },
  {
   "cell_type": "code",
   "execution_count": 17,
   "metadata": {},
   "outputs": [],
   "source": [
    "# prepare to train model\n",
    "torch.cuda.empty_cache()\n",
    "\n",
    "training_size = len(training_dataset)\n",
    "n_training_batches = int(training_size / batch_size)\n",
    "training_dataloader = tg.data.DataListLoader(training_dataset, batch_size=batch_size, shuffle=True)\n",
    "\n",
    "testing_size = len(testing_dataset)\n",
    "n_testing_batches = int(testing_size / batch_size)\n",
    "testing_dataloader = tg.data.DataListLoader(testing_dataset, batch_size=batch_size, shuffle=False)\n",
    "\n",
    "results_dict = {} # molecule name -> residuals (n_examples,n_atoms)\n",
    "history = []      # index is epoch, items are (train_loss, test_loss)"
   ]
  },
  {
   "cell_type": "code",
   "execution_count": 18,
   "metadata": {},
   "outputs": [
    {
     "name": "stdout",
     "output_type": "stream",
     "text": [
      "Iteration 1           training = 17.457          testing = 15.247           elapsed =   16.10 s                     \n",
      "Iteration 2           training = 8.074           testing = 11.349           elapsed =   11.05 s                     \n",
      "Iteration 3           training = 5.536           testing = 10.082           elapsed =   11.06 s                     \n",
      "Iteration 4           training = 4.485           testing = 9.668            elapsed =   11.01 s                     \n",
      "Iteration 5           training = 3.912           testing = 9.194            elapsed =   10.98 s                     \n",
      "Iteration 6           training = 3.555           testing = 8.989            elapsed =   11.05 s                     \n",
      "Iteration 7           training = 3.261           testing = 8.671            elapsed =   10.99 s                     \n",
      "Iteration 8           training = 3.085           testing = 8.520            elapsed =   10.99 s                     \n",
      "Iteration 9           training = 2.868           testing = 8.415            elapsed =   11.02 s                     \n",
      "Iteration 10          training = 2.735           testing = 8.215            elapsed =   10.94 s                     \n",
      "Iteration 11          training = 2.634           testing = 8.141            elapsed =   10.93 s                     \n",
      "Iteration 12          training = 2.500           testing = 7.998            elapsed =   10.95 s                     \n",
      "Iteration 13          training = 2.400           testing = 7.998            elapsed =   11.01 s                     \n",
      "Iteration 14          training = 2.337           testing = 7.800            elapsed =   10.99 s                     \n",
      "Iteration 15          training = 2.262           testing = 7.733            elapsed =   10.95 s                     \n",
      "Iteration 16          training = 2.197           testing = 7.594            elapsed =   10.97 s                     \n",
      "Iteration 17          training = 2.165           testing = 7.590            elapsed =   10.96 s                     \n",
      "Iteration 18          training = 2.082           testing = 7.506            elapsed =   10.97 s                     \n",
      "Iteration 19          training = 2.026           testing = 7.413            elapsed =   10.98 s                     \n",
      "Iteration 20          training = 1.996           testing = 7.381            elapsed =   11.04 s                     \n",
      "Iteration 21          training = 1.968           testing = 7.273            elapsed =   10.99 s                     \n",
      "Iteration 22          training = 1.921           testing = 7.248            elapsed =   10.98 s                     \n",
      "Iteration 23          training = 1.893           testing = 7.163            elapsed =   10.96 s                     \n",
      "Iteration 24          training = 1.866           testing = 7.130            elapsed =   10.98 s                     \n",
      "Iteration 25          training = 1.844           testing = 7.094            elapsed =   10.98 s                     \n",
      "Iteration 26          training = 1.828           testing = 7.174            elapsed =   10.97 s                     \n",
      "Iteration 27          training = 1.786           testing = 7.020            elapsed =   11.00 s                     \n",
      "Iteration 28          training = 1.767           testing = 7.073            elapsed =   10.98 s                     \n",
      "Iteration 29          training = 1.743           testing = 7.032            elapsed =   10.98 s                     \n",
      "Iteration 30          training = 1.710           testing = 6.966            elapsed =   10.99 s                     \n",
      "Iteration 31          training = 1.688           testing = 6.931            elapsed =   10.98 s                     \n",
      "Iteration 32          training = 1.663           testing = 6.931            elapsed =   10.96 s                     \n",
      "Iteration 33          training = 1.684           testing = 6.899            elapsed =   10.95 s                     \n",
      "Iteration 34          training = 1.637           testing = 6.894            elapsed =   10.94 s                     \n",
      "Iteration 35          training = 1.625           testing = 6.886            elapsed =   10.99 s                     \n",
      "Iteration 36          training = 1.638           testing = 6.840            elapsed =   10.98 s                     \n",
      "Iteration 37          training = 1.583           testing = 6.786            elapsed =   10.98 s                     \n",
      "Iteration 38          training = 1.587           testing = 6.843            elapsed =   10.97 s                     \n",
      "Iteration 39          training = 1.551           testing = 6.750            elapsed =   10.95 s                     \n",
      "Iteration 40          training = 1.535           testing = 6.688            elapsed =   10.99 s                     \n",
      "Iteration 41          training = 1.549           testing = 6.593            elapsed =   11.06 s                     \n",
      "Iteration 42          training = 1.534           testing = 6.727            elapsed =   11.04 s                     \n",
      "Iteration 43          training = 1.503           testing = 6.668            elapsed =   11.00 s                     \n",
      "Iteration 44          training = 1.501           testing = 6.684            elapsed =   11.01 s                     \n",
      "Iteration 45          training = 1.506           testing = 6.667            elapsed =   11.01 s                     \n",
      "Iteration 46          training = 1.456           testing = 6.661            elapsed =   11.06 s                     \n",
      "Iteration 47          training = 1.456           testing = 6.511            elapsed =   11.03 s                     \n",
      "Iteration 48          training = 1.457           testing = 6.520            elapsed =   11.02 s                     \n",
      "Iteration 49          training = 1.450           testing = 6.560            elapsed =   11.02 s                     \n",
      "Iteration 50          training = 1.420           testing = 6.575            elapsed =   10.99 s                     \n",
      "Iteration 51          training = 1.410           testing = 6.443            elapsed =   11.02 s                     \n",
      "Iteration 52          training = 1.421           testing = 6.494            elapsed =   11.05 s                     \n",
      "Iteration 53          training = 1.408           testing = 6.487            elapsed =   11.07 s                     \n",
      "Iteration 54          training = 1.389           testing = 6.399            elapsed =   11.00 s                     \n",
      "Iteration 55          training = 1.395           testing = 6.513            elapsed =   11.03 s                     \n",
      "Iteration 56          training = 1.377           testing = 6.388            elapsed =   10.98 s                     \n",
      "Iteration 57          training = 1.367           testing = 6.435            elapsed =   10.96 s                     \n",
      "Iteration 58          training = 1.361           testing = 6.332            elapsed =   10.97 s                     \n",
      "Iteration 59          training = 1.342           testing = 6.356            elapsed =   10.99 s                     \n",
      "Iteration 60          training = 1.352           testing = 6.342            elapsed =   10.97 s                     \n",
      "Iteration 61          training = 1.333           testing = 6.320            elapsed =   10.96 s                     \n",
      "Iteration 62          training = 1.328           testing = 6.389            elapsed =   10.96 s                     \n",
      "Iteration 63          training = 1.318           testing = 6.257            elapsed =   10.97 s                     \n",
      "Iteration 64          training = 1.319           testing = 6.246            elapsed =   10.99 s                     \n",
      "Iteration 65          training = 1.305           testing = 6.208            elapsed =   10.96 s                     \n",
      "Iteration 66          training = 1.314           testing = 6.294            elapsed =   10.98 s                     \n",
      "Iteration 67          training = 1.289           testing = 6.197            elapsed =   10.97 s                     \n",
      "Iteration 68          training = 1.286           testing = 6.212            elapsed =   10.98 s                     \n",
      "Iteration 69          training = 1.280           testing = 6.164            elapsed =   10.94 s                     \n",
      "Iteration 70          training = 1.271           testing = 6.164            elapsed =   10.94 s                     \n"
     ]
    },
    {
     "name": "stdout",
     "output_type": "stream",
     "text": [
      "Iteration 71          training = 1.268           testing = 6.152            elapsed =   10.97 s                     \n",
      "Iteration 72          training = 1.274           testing = 6.187            elapsed =   10.96 s                     \n",
      "Iteration 73          training = 1.255           testing = 6.083            elapsed =   11.00 s                     \n",
      "Iteration 74          training = 1.259           testing = 6.086            elapsed =   10.99 s                     \n",
      "Iteration 75          training = 1.255           testing = 6.156            elapsed =   10.98 s                     \n",
      "Iteration 76          training = 1.237           testing = 6.107            elapsed =   10.96 s                     \n",
      "Iteration 77          training = 1.229           testing = 6.061            elapsed =   10.95 s                     \n",
      "Iteration 78          training = 1.226           testing = 6.077            elapsed =   10.95 s                     \n",
      "Iteration 79          training = 1.228           testing = 6.029            elapsed =   10.97 s                     \n",
      "Iteration 80          training = 1.221           testing = 6.099            elapsed =   10.97 s                     \n",
      "Iteration 81          training = 1.230           testing = 6.031            elapsed =   10.95 s                     \n",
      "Iteration 82          training = 1.204           testing = 6.046            elapsed =   10.91 s                     \n",
      "Iteration 83          training = 1.217           testing = 6.047            elapsed =   10.90 s                     \n",
      "Iteration 84          training = 1.207           testing = 5.966            elapsed =   10.90 s                     \n",
      "Iteration 85          training = 1.190           testing = 5.914            elapsed =   10.86 s                     \n",
      "Iteration 86          training = 1.195           testing = 6.023            elapsed =   10.87 s                     \n",
      "Iteration 87          training = 1.180           testing = 5.956            elapsed =   10.83 s                     \n",
      "Iteration 88          training = 1.179           testing = 5.925            elapsed =   10.85 s                     \n",
      "Iteration 89          training = 1.195           testing = 5.970            elapsed =   10.82 s                     \n",
      "Iteration 90          training = 1.167           testing = 5.870            elapsed =   10.81 s                     \n",
      "Iteration 91          training = 1.166           testing = 5.913            elapsed =   10.78 s                     \n",
      "Iteration 92          training = 1.165           testing = 5.868            elapsed =   10.78 s                     \n",
      "Iteration 93          training = 1.158           testing = 5.862            elapsed =   10.77 s                     \n",
      "Iteration 94          training = 1.153           testing = 5.899            elapsed =   10.75 s                     \n",
      "Iteration 95          training = 1.151           testing = 5.906            elapsed =   10.75 s                     \n",
      "Iteration 96          training = 1.149           testing = 5.955            elapsed =   10.82 s                     \n",
      "Iteration 97          training = 1.170           testing = 5.909            elapsed =   10.81 s                     \n",
      "Iteration 98          training = 1.143           testing = 5.810            elapsed =   10.78 s                     \n",
      "Iteration 99          training = 1.121           testing = 5.766            elapsed =   10.77 s                     \n",
      "Iteration 100         training = 1.135           testing = 5.809            elapsed =   10.76 s                     \n"
     ]
    }
   ],
   "source": [
    "# train model\n",
    "start_time = time.time()\n",
    "for i in range(epochs):\n",
    "    start_time = time.time()\n",
    "    \n",
    "    # training\n",
    "    training_loss_cum = torch.tensor([0.]).to(device)\n",
    "    for j,data in enumerate(training_dataloader):\n",
    "        # forward pass\n",
    "        data = tg.data.Batch.from_data_list(data)\n",
    "        data.to(device)\n",
    "        output = model(data.x, data.edge_index, data.edge_attr, n_norm=n_norm)\n",
    "        loss, residuals = loss_function(output, data)\n",
    "        \n",
    "        # backward pass\n",
    "        opt.zero_grad()\n",
    "        loss.backward()\n",
    "        opt.step()\n",
    "        \n",
    "        # update training loss\n",
    "        temp_loss = loss.detach()\n",
    "        training_loss_cum += loss.detach().pow(2)\n",
    "        current_cum = np.sqrt(training_loss_cum.item() / (j+1))\n",
    "        print(f\"Iteration {i+1:<4d}    train {j+1:5d} / {n_training_batches:5d}  loss = {temp_loss.item():12.3f}    cum_loss = {current_cum:12.3f}            \", end=\"\\r\", flush=True)\n",
    "        \n",
    "    training_loss_cum = np.sqrt((training_loss_cum.item()/(j+1)))\n",
    "    \n",
    "    # testing\n",
    "    testing_loss_cum = torch.tensor([0.]).to(device)\n",
    "    for j,data in enumerate(testing_dataloader):\n",
    "        data = tg.data.Batch.from_data_list(data)\n",
    "        data.to(device)\n",
    "        \n",
    "        with torch.no_grad():\n",
    "            # run model\n",
    "            output = model(data.x, data.edge_index, data.edge_attr, n_norm=n_norm)\n",
    "\n",
    "            # compute MSE\n",
    "            loss, residuals = loss_function(output,data)\n",
    "            testing_loss_cum += loss.pow(2)\n",
    "        print(f\"Iteration {i+1:<4d}    test {j+1:5d} / {n_testing_batches:5d}  loss = {loss.item():12.3f}                                  \", end=\"\\r\", flush=True)\n",
    "    \n",
    "    testing_loss_cum = np.sqrt((testing_loss_cum.item()/(j+1)))\n",
    "    end_time = time.time()\n",
    "    elasped_time = end_time - start_time\n",
    "    history.append((training_loss_cum, testing_loss_cum))\n",
    "    print(f\"Iteration {i+1:<4d}        training = {training_loss_cum.item():<12.3f}    testing = {testing_loss_cum.item():<12.3f}     elapsed = {elasped_time:7.2f} s                     \", end=\"\\r\", flush=True)\n",
    "    print()\n",
    "    #if i == 0 or (i+1) % 10 == 0:\n",
    "    #    print()"
   ]
  },
  {
   "cell_type": "code",
   "execution_count": 19,
   "metadata": {},
   "outputs": [
    {
     "data": {
      "image/png": "[encoded data removed]",
      "text/plain": [
       "<Figure size 864x576 with 1 Axes>"
      ]
     },
     "metadata": {
      "needs_background": "light"
     },
     "output_type": "display_data"
    }
   ],
   "source": [
    "# plot learning curve\n",
    "plt.figure(figsize=(12,8))\n",
    "epoch = list(range(len(history)))\n",
    "epoch = np.array(epoch)\n",
    "epoch2 = epoch + 0.5\n",
    "training_loss = [ training for training,testing in history ]\n",
    "testing_loss = [ testing for training,testing in history ]\n",
    "plt.plot(epoch, training_loss, \"ro-\", label=\"train\")\n",
    "plt.plot(epoch2, testing_loss, \"bo-\", label=\"test\")\n",
    "plt.legend(loc=\"best\")\n",
    "plt.show()"
   ]
  },
  {
   "cell_type": "code",
   "execution_count": 20,
   "metadata": {},
   "outputs": [
    {
     "name": "stdout",
     "output_type": "stream",
     "text": [
      "batch    20 /    20\n",
      "Overall loss is 5.809075.  Evaluation took 0.58 s.\n"
     ]
    }
   ],
   "source": [
    "# test the model as it now\n",
    "torch.cuda.empty_cache()\n",
    "n_batches = math.ceil(testing_size / batch_size)\n",
    "results_dict = {} # molecule name -> residuals (n_examples,n_atoms)\n",
    "start_time = time.time()\n",
    "\n",
    "loss_cum = torch.tensor([0.]).to(device)\n",
    "for j,data in enumerate(testing_dataloader):\n",
    "    print(f\"batch {j+1:5d} / {n_batches:5d}\", end=\"\\r\", flush=True)\n",
    "    data = tg.data.Batch.from_data_list(data)\n",
    "    data.to(device)\n",
    "    with torch.no_grad():\n",
    "        # run model\n",
    "        output = model(data.x, data.edge_index, data.edge_attr, n_norm=n_norm)\n",
    "        \n",
    "        # compute MSE\n",
    "        loss, residuals = loss_function(output,data)\n",
    "        loss_cum += loss.pow(2)\n",
    "        \n",
    "        # rescale residuals back to ppm and store\n",
    "        residuals = residuals.squeeze(-1).cpu().numpy()\n",
    "        i=0\n",
    "        for name in data.name:\n",
    "            molecule = molecules_dict[name]\n",
    "            n_atoms = molecule.n_atoms\n",
    "            scaling_factors = molecule.scaling_factors\n",
    "            if name not in results_dict:\n",
    "                results_dict[name] = []\n",
    "            subset = residuals[i:i+n_atoms] * scaling_factors[:,1]\n",
    "            results_dict[name].append(subset)\n",
    "            i += n_atoms\n",
    "            \n",
    "loss_cum = loss_cum/(j+1)\n",
    "loss_cum = loss_cum.pow(0.5)\n",
    "end_time = time.time()\n",
    "elasped_time = end_time - start_time\n",
    "print(f\"\\nOverall loss is {loss_cum.item():.6f}.  Evaluation took {elasped_time:.2f} s.\")"
   ]
  },
  {
   "cell_type": "code",
   "execution_count": 21,
   "metadata": {},
   "outputs": [
    {
     "name": "stdout",
     "output_type": "stream",
     "text": [
      "520\n",
      "[ 0.052327   -3.55370537 12.64118632  9.91077613 13.105895   13.6395218\n",
      " -0.60952119 -0.5706094  -0.94286104  0.47578755  0.39099945  0.41295507\n",
      "  0.56686169]\n",
      "(99, 13)\n"
     ]
    }
   ],
   "source": [
    "for name,results in results_dict.items():\n",
    "    print(name)\n",
    "    print(results[0])\n",
    "    print(np.shape(results))\n",
    "    break"
   ]
  },
  {
   "cell_type": "code",
   "execution_count": 26,
   "metadata": {},
   "outputs": [],
   "source": [
    "# results_dict : molecule name -> residuals (n_examples,n_atoms)\n",
    "# results_dict2 : site label -> residuals\n",
    "results_dict2 = {}\n",
    "all_residuals = {}  # element --> [residuals]\n",
    "for name,results in results_dict.items():\n",
    "    results = np.array(results).T\n",
    "    molecule = molecules_dict[name]\n",
    "    atomic_symbols = molecule.atomic_symbols\n",
    "    for atomic_index,this_result in enumerate(results):\n",
    "        element = atomic_symbols[atomic_index]\n",
    "        if element not in relevant_elements:\n",
    "            continue\n",
    "        label = f\"{name}_{element}{atomic_index+1}\"\n",
    "        results_dict2[label]=this_result\n",
    "        if element not in all_residuals:\n",
    "            all_residuals[element] = []\n",
    "        all_residuals[element].extend(this_result)"
   ]
  },
  {
   "cell_type": "code",
   "execution_count": 33,
   "metadata": {},
   "outputs": [
    {
     "data": {
      "image/png": "[encoded data removed]",
      "text/plain": [
       "<Figure size 576x432 with 1 Axes>"
      ]
     },
     "metadata": {
      "needs_background": "light"
     },
     "output_type": "display_data"
    },
    {
     "data": {
      "image/png": "[encoded data removed]",
      "text/plain": [
       "<Figure size 576x432 with 1 Axes>"
      ]
     },
     "metadata": {
      "needs_background": "light"
     },
     "output_type": "display_data"
    }
   ],
   "source": [
    "e=\"H\"\n",
    "bins = np.linspace(-2,2,50)\n",
    "plt.figure(figsize=(8,6))\n",
    "plt.title(f\"residuals for {e}\")\n",
    "plt.hist(all_residuals[e],bins=bins)\n",
    "plt.show()\n",
    "e=\"C\"\n",
    "bins = np.linspace(-30,30,100)\n",
    "plt.figure(figsize=(8,6))\n",
    "plt.title(f\"residuals for {e}\")\n",
    "plt.hist(all_residuals[e],bins=bins)\n",
    "plt.show()"
   ]
  },
  {
   "cell_type": "code",
   "execution_count": 40,
   "metadata": {},
   "outputs": [
    {
     "name": "stdout",
     "output_type": "stream",
     "text": [
      "C:  mean =  1.378  RMSE =  9.159   range =  -22.31 to   36.55\n",
      "H:  mean =  0.033  RMSE =  0.476   range =   -1.36 to    2.61\n"
     ]
    }
   ],
   "source": [
    "# get stats on everything\n",
    "for e in relevant_elements:\n",
    "    mean_error = np.mean(all_residuals[e])\n",
    "    RMSE = np.sqrt(np.mean(np.square(all_residuals[e])))\n",
    "    min_err = np.min(all_residuals[e])\n",
    "    max_err = np.max(all_residuals[e])\n",
    "    print(f\"{e}:  mean ={mean_error:7.3f}  RMSE ={RMSE:7.3f}   range = {min_err:7.2f} to {max_err:7.2f}\")"
   ]
  },
  {
   "cell_type": "code",
   "execution_count": 34,
   "metadata": {},
   "outputs": [
    {
     "data": {
      "text/html": [
       "<div>\n",
       "<style scoped>\n",
       "    .dataframe tbody tr th:only-of-type {\n",
       "        vertical-align: middle;\n",
       "    }\n",
       "\n",
       "    .dataframe tbody tr th {\n",
       "        vertical-align: top;\n",
       "    }\n",
       "\n",
       "    .dataframe thead th {\n",
       "        text-align: right;\n",
       "    }\n",
       "</style>\n",
       "<table border=\"1\" class=\"dataframe\">\n",
       "  <thead>\n",
       "    <tr style=\"text-align: right;\">\n",
       "      <th></th>\n",
       "      <th>mean</th>\n",
       "      <th>range</th>\n",
       "      <th>RMSE</th>\n",
       "    </tr>\n",
       "  </thead>\n",
       "  <tbody>\n",
       "    <tr>\n",
       "      <th>520_C2</th>\n",
       "      <td>-7.98</td>\n",
       "      <td>21.18</td>\n",
       "      <td>8.53</td>\n",
       "    </tr>\n",
       "    <tr>\n",
       "      <th>520_C3</th>\n",
       "      <td>13.45</td>\n",
       "      <td>15.79</td>\n",
       "      <td>13.76</td>\n",
       "    </tr>\n",
       "    <tr>\n",
       "      <th>520_C4</th>\n",
       "      <td>11.61</td>\n",
       "      <td>9.52</td>\n",
       "      <td>11.79</td>\n",
       "    </tr>\n",
       "    <tr>\n",
       "      <th>520_C5</th>\n",
       "      <td>11.51</td>\n",
       "      <td>11.70</td>\n",
       "      <td>11.75</td>\n",
       "    </tr>\n",
       "    <tr>\n",
       "      <th>520_C6</th>\n",
       "      <td>12.78</td>\n",
       "      <td>13.59</td>\n",
       "      <td>13.12</td>\n",
       "    </tr>\n",
       "    <tr>\n",
       "      <th>...</th>\n",
       "      <td>...</td>\n",
       "      <td>...</td>\n",
       "      <td>...</td>\n",
       "    </tr>\n",
       "    <tr>\n",
       "      <th>5820_H11</th>\n",
       "      <td>0.28</td>\n",
       "      <td>0.52</td>\n",
       "      <td>0.30</td>\n",
       "    </tr>\n",
       "    <tr>\n",
       "      <th>5820_H12</th>\n",
       "      <td>0.37</td>\n",
       "      <td>0.51</td>\n",
       "      <td>0.39</td>\n",
       "    </tr>\n",
       "    <tr>\n",
       "      <th>5820_H13</th>\n",
       "      <td>-0.15</td>\n",
       "      <td>0.39</td>\n",
       "      <td>0.17</td>\n",
       "    </tr>\n",
       "    <tr>\n",
       "      <th>5820_H14</th>\n",
       "      <td>0.22</td>\n",
       "      <td>0.27</td>\n",
       "      <td>0.23</td>\n",
       "    </tr>\n",
       "    <tr>\n",
       "      <th>5820_H15</th>\n",
       "      <td>-0.57</td>\n",
       "      <td>0.48</td>\n",
       "      <td>0.57</td>\n",
       "    </tr>\n",
       "  </tbody>\n",
       "</table>\n",
       "<p>138 rows × 3 columns</p>\n",
       "</div>"
      ],
      "text/plain": [
       "           mean  range   RMSE\n",
       "520_C2    -7.98  21.18   8.53\n",
       "520_C3    13.45  15.79  13.76\n",
       "520_C4    11.61   9.52  11.79\n",
       "520_C5    11.51  11.70  11.75\n",
       "520_C6    12.78  13.59  13.12\n",
       "...         ...    ...    ...\n",
       "5820_H11   0.28   0.52   0.30\n",
       "5820_H12   0.37   0.51   0.39\n",
       "5820_H13  -0.15   0.39   0.17\n",
       "5820_H14   0.22   0.27   0.23\n",
       "5820_H15  -0.57   0.48   0.57\n",
       "\n",
       "[138 rows x 3 columns]"
      ]
     },
     "metadata": {},
     "output_type": "display_data"
    }
   ],
   "source": [
    "# summary stats\n",
    "df = pd.DataFrame(results_dict2)\n",
    "means = df.mean()\n",
    "ranges = df.max()-df.min()\n",
    "RMSEs = np.sqrt(df.pow(2).mean())\n",
    "df = pd.concat([means,ranges,RMSEs], axis=1)\n",
    "df.columns = [\"mean\",\"range\",\"RMSE\"]\n",
    "df = df.round(2)\n",
    "display(df)"
   ]
  },
  {
   "cell_type": "code",
   "execution_count": null,
   "metadata": {},
   "outputs": [],
   "source": [
    "def save_model(model_kwargs, model, filename, optimizer=None):\n",
    "    model_dict = {\n",
    "        'state_dict': model.state_dict(),\n",
    "        'model_kwargs': model_kwargs\n",
    "    }\n",
    "    if optimizer is not None:\n",
    "        model_dict['optimizer_state_dict'] = optimizer.state_dict()\n",
    "    torch.save(model_dict, filename)"
   ]
  },
  {
   "cell_type": "code",
   "execution_count": null,
   "metadata": {},
   "outputs": [],
   "source": [
    "save_model(model_kwargs, model, \"small-model2.torch\", optimizer=opt)"
   ]
  },
  {
   "cell_type": "code",
   "execution_count": null,
   "metadata": {},
   "outputs": [],
   "source": []
  }
 ],
 "metadata": {
  "kernelspec": {
   "display_name": "Python 3",
   "language": "python",
   "name": "python3"
  },
  "language_info": {
   "codemirror_mode": {
    "name": "ipython",
    "version": 3
   },
   "file_extension": ".py",
   "mimetype": "text/x-python",
   "name": "python",
   "nbconvert_exporter": "python",
   "pygments_lexer": "ipython3",
   "version": "3.8.3"
  }
 },
 "nbformat": 4,
 "nbformat_minor": 4
}
