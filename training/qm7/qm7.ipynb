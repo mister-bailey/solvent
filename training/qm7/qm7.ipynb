{
 "cells": [
  {
   "cell_type": "code",
   "execution_count": 77,
   "metadata": {},
   "outputs": [],
   "source": [
    "import time\n",
    "from pprint import pprint\n",
    "from IPython.display import display\n",
    "from glob import glob\n",
    "import re\n",
    "import math\n",
    "\n",
    "import matplotlib\n",
    "import matplotlib.pyplot as plt\n",
    "%matplotlib inline\n",
    "\n",
    "import numpy as np\n",
    "import pandas as pd\n",
    "import h5py\n",
    "from sklearn.model_selection import train_test_split\n",
    "\n",
    "import torch\n",
    "torch.set_default_dtype(torch.float64)\n",
    "\n",
    "import e3nn\n",
    "import e3nn.point.data_helpers as dh \n",
    "from training_utils import *"
   ]
  },
  {
   "cell_type": "code",
   "execution_count": 2,
   "metadata": {},
   "outputs": [
    {
     "name": "stdout",
     "output_type": "stream",
     "text": [
      "0\n",
      "1\n",
      "Quadro M4000\n",
      "True\n",
      "10.1\n"
     ]
    },
    {
     "data": {
      "text/plain": [
       "tensor([0.0692, 0.8581, 0.1405, 0.3375, 0.8987, 0.2941, 0.7857, 0.7415, 0.5792,\n",
       "        0.0699], device='cuda:0')"
      ]
     },
     "execution_count": 2,
     "metadata": {},
     "output_type": "execute_result"
    }
   ],
   "source": [
    "# make sure CUDA is available\n",
    "print(torch.cuda.current_device())\n",
    "print(torch.cuda.device_count())\n",
    "print(torch.cuda.get_device_name(0))\n",
    "print(torch.cuda.is_available())\n",
    "print(torch.version.cuda)\n",
    "#print(torch.cuda.memory_summary())\n",
    "device = \"cuda\"\n",
    "#torch.rand(10).to(device)\n",
    "#torch.rand(10, device=device)"
   ]
  },
  {
   "cell_type": "code",
   "execution_count": 48,
   "metadata": {},
   "outputs": [],
   "source": [
    "# all expected elements\n",
    "all_elements = ['C', 'H', 'N', 'O', 'S']\n",
    "n_elements = len(all_elements)\n",
    "\n",
    "# so we can normalize training data for the nuclei to be predicted\n",
    "elementwide_scaling_factors = { \"C\" : (118.0, 51.0),    # element : (mean, stdev)\n",
    "                                \"H\" : (29.0, 2.0)  }\n",
    "relevant_elements = list(elementwide_scaling_factors.keys())\n",
    "\n",
    "# irrelevant atoms will not be scaled\n",
    "for element in all_elements:\n",
    "    if element not in elementwide_scaling_factors:\n",
    "        elementwide_scaling_factors[element] = (0.0,1.0)"
   ]
  },
  {
   "cell_type": "code",
   "execution_count": 49,
   "metadata": {},
   "outputs": [],
   "source": [
    "# create a function to noramlize the shieldings for a specific molecule\n",
    "# shielding -> (shielding-mean)/stdev or 0 if not a relevant element\n",
    "def get_scalings(atomic_symbols):\n",
    "    scaling_factors = [ elementwide_scaling_factors[a] for a in atomic_symbols ]\n",
    "    scaling_factors = np.array(scaling_factors)\n",
    "    def scaling_function(x):\n",
    "        result = x - scaling_factors[:,0]\n",
    "        result = result / scaling_factors[:,1]\n",
    "        return result\n",
    "    return scaling_factors, scaling_function\n",
    "    \n",
    "# generates one-hots for a list of atomic_symbols\n",
    "def get_one_hots(atomic_symbols):\n",
    "    one_hots = []\n",
    "    for symbol in atomic_symbols:\n",
    "        inner_list = [ 1. if symbol == i else 0. for i in all_elements ]\n",
    "        one_hots.append(inner_list)\n",
    "    return np.array(one_hots)\n",
    "\n",
    "# compute weights for loss function\n",
    "def get_weights(atomic_symbols, symmetrical_atoms):\n",
    "    weights = [ 1.0 if symbol in relevant_elements else 0.0 for symbol in atomic_symbols ]\n",
    "    weights = np.array(weights)\n",
    "    for l in symmetrical_atoms:\n",
    "        weight = 1.0/len(l)\n",
    "        for i in l:\n",
    "            weights[i] = weight\n",
    "    return weights"
   ]
  },
  {
   "cell_type": "code",
   "execution_count": 54,
   "metadata": {},
   "outputs": [],
   "source": [
    "# represents the training data for one molecule\n",
    "# all of these items are stored on the cpu\n",
    "class Molecule():\n",
    "    def __init__(self, name,               \n",
    "                 atomic_symbols,           \n",
    "                 symmetrical_atoms,        # list of lists of 0-indexed atom numbers\n",
    "                 perturbed_geometries,               \n",
    "                 stationary_shieldings,\n",
    "                 perturbed_shieldings):    \n",
    "        self.name = name                                                     # name of molecule\n",
    "        self.atomic_symbols = atomic_symbols                                 # vector of strings of length n_atoms\n",
    "        self.n_atoms = len(atomic_symbols)                                   # number of atoms\n",
    "        self.perturbed_geometries = perturbed_geometries                     # (n_examples, n_atoms, 3)\n",
    "        self.stationary_shieldings = stationary_shieldings                   # (n_examples, n_atoms, 1)\n",
    "        \n",
    "        scaling_factors, scaling_function = get_scalings(atomic_symbols)\n",
    "        self.scaling_factors = scaling_factors                               # (n_atoms, 2) inner axis is mean, stdev\n",
    "        self.scaling_function = scaling_function                             # unscaled shieldings --> scaled shieldings \n",
    "\n",
    "        # scale perturbed shieldings and zero out data for irrelevant atoms\n",
    "        perturbed_shieldings = self.scaling_function(perturbed_shieldings)\n",
    "        for i,a in enumerate(atomic_symbols):\n",
    "            if a not in relevant_elements:\n",
    "                perturbed_shieldings[:,i]=0.0\n",
    "        self.perturbed_shieldings = perturbed_shieldings                     # (n_examples, n_atoms, 1)\n",
    "        \n",
    "        self.features = get_one_hots(atomic_symbols)                         # (n_atoms, n_elements)\n",
    "        self.weights = get_weights(atomic_symbols, symmetrical_atoms)        # (n_atoms,)"
   ]
  },
  {
   "cell_type": "code",
   "execution_count": 63,
   "metadata": {},
   "outputs": [
    {
     "name": "stdout",
     "output_type": "stream",
     "text": [
      "There are 144 molecules.\n"
     ]
    }
   ],
   "source": [
    "molecules_dict = {}  # name -> Molecule\n",
    "with h5py.File(\"qm7.hdf5\", \"r\") as h5:\n",
    "    for dataset_name,geometries_and_shieldings in h5.items():\n",
    "        if not dataset_name.startswith(\"data_\"):\n",
    "            continue\n",
    "        dataset_number = dataset_name.split(\"_\")[1]\n",
    "        geometries_and_shieldings = np.array(geometries_and_shieldings)\n",
    "        perturbed_geometries = geometries_and_shieldings[:,:,:3]\n",
    "        perturbed_shieldings = geometries_and_shieldings[:,:,3]\n",
    "        assert np.shape(geometries_and_shieldings)[2] == 4\n",
    "        stationary_shieldings = h5.attrs[f\"stationary_{dataset_number}\"]\n",
    "        n_atoms = len(stationary_shieldings)\n",
    "        assert np.shape(geometries_and_shieldings)[1] == n_atoms\n",
    "        atomic_symbols = h5.attrs[f\"atomic_symbols_{dataset_number}\"]\n",
    "        for a in atomic_symbols:\n",
    "            assert a in all_elements, f\"need to add {a} to all_elements\"\n",
    "        assert len(atomic_symbols) == n_atoms\n",
    "        symmetrical_atoms_group = h5.get(f\"symmetrical_atoms_{dataset_number}\")\n",
    "        symmetrical_atoms = []\n",
    "        for a,b in symmetrical_atoms_group.items():\n",
    "            b = [ i-1 for i in b ]\n",
    "            for i in b:\n",
    "                assert 0 <= i < n_atoms\n",
    "            symmetrical_atoms.append(b)    \n",
    "                # store the results\n",
    "        molecule = Molecule(dataset_number, atomic_symbols, symmetrical_atoms,\n",
    "                            perturbed_geometries, stationary_shieldings, perturbed_shieldings)\n",
    "        molecules_dict[dataset_number] = molecule\n",
    "        \n",
    "molecules = np.array(list(molecules_dict.values()))\n",
    "print(f\"There are {len(molecules)} molecules.\")"
   ]
  },
  {
   "cell_type": "code",
   "execution_count": 56,
   "metadata": {},
   "outputs": [
    {
     "name": "stdout",
     "output_type": "stream",
     "text": [
      "(73656,)\n",
      "0.007759818919402491\n",
      "1.0019581739943288\n",
      "(124938,)\n",
      "-0.06790754738550761\n",
      "1.0218088804836765\n"
     ]
    },
    {
     "data": {
      "image/png": "[encoded data removed]",
      "text/plain": [
       "<Figure size 432x288 with 1 Axes>"
      ]
     },
     "metadata": {
      "needs_background": "light"
     },
     "output_type": "display_data"
    },
    {
     "data": {
      "image/png": "[encoded data removed]",
      "text/plain": [
       "<Figure size 432x288 with 1 Axes>"
      ]
     },
     "metadata": {
      "needs_background": "light"
     },
     "output_type": "display_data"
    }
   ],
   "source": [
    "# get stats\n",
    "all_shieldings = {}\n",
    "for molecule in molecules:\n",
    "    atomic_symbols = molecule.atomic_symbols\n",
    "    perturbed_shieldings = molecule.perturbed_shieldings\n",
    "    for i,symbol in enumerate(atomic_symbols):\n",
    "        if symbol in relevant_elements:\n",
    "            if symbol not in all_shieldings:\n",
    "                all_shieldings[symbol] = []\n",
    "            shieldings_list = all_shieldings[symbol]\n",
    "            current_shieldings = shieldings_list.extend(perturbed_shieldings[:,i])\n",
    "shieldingsC = all_shieldings[\"C\"]\n",
    "print(np.shape(shieldingsC))\n",
    "print(np.mean(shieldingsC))\n",
    "print(np.std(shieldingsC))\n",
    "shieldingsH = all_shieldings[\"H\"]\n",
    "print(np.shape(shieldingsH))\n",
    "print(np.mean(shieldingsH))\n",
    "print(np.std(shieldingsH))\n",
    "plt.hist(shieldingsC,bins=100)\n",
    "plt.show()\n",
    "plt.hist(shieldingsH,bins=100)\n",
    "plt.show()"
   ]
  },
  {
   "cell_type": "code",
   "execution_count": 57,
   "metadata": {},
   "outputs": [],
   "source": [
    "# features are one-hots for every atom,\n",
    "# so this is (number of one_hots, rank zero tensor, even parity)\n",
    "Rs_in = [(n_elements,0,1)]\n",
    "\n",
    "# we are outputing one scalar for every atom\n",
    "# so this is (one, rank zero tensor, even parity)\n",
    "Rs_out = [(1,0,1)]\n",
    "\n",
    "# maximum extent of radial basis functions in Angstroms\n",
    "max_radius = 4.0"
   ]
  },
  {
   "cell_type": "code",
   "execution_count": 58,
   "metadata": {},
   "outputs": [],
   "source": [
    "def create_torch_dataset(molecules):\n",
    "    dataset = []\n",
    "    n_molecules = len(molecules)\n",
    "    for i,molecule in enumerate(molecules):\n",
    "        features = torch.tensor(molecule.features, dtype=torch.float64)\n",
    "        features.to(device)\n",
    "        weights = torch.tensor(molecule.weights, dtype=torch.float64)\n",
    "        weights.to(device)\n",
    "        n_to_save = len(molecule.perturbed_geometries)\n",
    "        for j in range(n_to_save):\n",
    "            if j == 0 or (j+1) % 50 == 0 or j == n_to_save - 1:\n",
    "                print(f\"Processing geometry {j+1:5d}/{n_to_save:5d} for molecule {molecule.name:5s} ({i+1:5d}/{n_molecules:5d})...           \", end='\\r', flush=True)\n",
    "            g = torch.tensor(molecule.perturbed_geometries[j,:,:], dtype=torch.float64)\n",
    "            s = torch.tensor(molecule.perturbed_shieldings[j], dtype=torch.float64).unsqueeze(-1)  # [1,N]\n",
    "            data = dh.DataNeighbors(x=features, Rs_in=Rs_in, pos=g, r_max=max_radius,\n",
    "                                    self_interaction=True, name=molecule.name,\n",
    "                                    weights=weights, y=s, Rs_out = Rs_out)\n",
    "            dataset.append(data)\n",
    "    print(\"done!\")\n",
    "    return dataset\n"
   ]
  },
  {
   "cell_type": "code",
   "execution_count": 59,
   "metadata": {},
   "outputs": [
    {
     "name": "stdout",
     "output_type": "stream",
     "text": [
      "done!ssing geometry    99/   99 for molecule 2220  (  100/  100)...           \n",
      "done!ssing geometry    99/   99 for molecule 5820  (   10/   10)...           \n"
     ]
    }
   ],
   "source": [
    "# split into train and test molecules\n",
    "# then preprocess the neighbor data\n",
    "training_molecules, testing_molecules = train_test_split(molecules, train_size=100, test_size=10, random_state=1)\n",
    "training_dataset = create_torch_dataset(training_molecules)\n",
    "testing_dataset = create_torch_dataset(testing_molecules)"
   ]
  },
  {
   "cell_type": "code",
   "execution_count": 60,
   "metadata": {},
   "outputs": [],
   "source": [
    "# mean-squared loss\n",
    "def loss_function(output, data):\n",
    "    predictions = output\n",
    "    observations = data.y\n",
    "    weights = data.weights\n",
    "    normalization = weights.sum()\n",
    "    residuals = (predictions-observations)\n",
    "    loss = residuals.square() * weights\n",
    "    loss = loss.sum() / normalization\n",
    "    loss = loss.pow(0.5)\n",
    "    return loss, residuals"
   ]
  },
  {
   "cell_type": "code",
   "execution_count": 16,
   "metadata": {},
   "outputs": [],
   "source": [
    "# define the neural network architecture\n",
    "model_kwargs = {\n",
    "    'network': 'GatedConvParityNetwork', \n",
    "    'conv': 'Convolution',\n",
    "    'Rs_in': Rs_in,            # shape of inputs\n",
    "    'Rs_out': Rs_out,          # shape of outputs\n",
    "    'mul': 5,                 # how many copies of each tensor at each layer\n",
    "    'lmax': 2,                 # maximum angular momentum\n",
    "    'layers': 3,               # number of layers\n",
    "    'max_radius': max_radius,  # radial kernel will extend out this far\n",
    "    'number_of_basis': 30,     # number of Gaussians in radial kernel?\n",
    "}\n",
    "model = model_from_kwargs(model_kwargs)\n",
    "model.to(device);"
   ]
  },
  {
   "cell_type": "code",
   "execution_count": 17,
   "metadata": {},
   "outputs": [],
   "source": [
    "# training parameters\n",
    "learning_rate = 1e-3\n",
    "opt = torch.optim.Adam(model.parameters(), learning_rate)\n",
    "epochs = 100       \n",
    "n_norm = 7           # n_norm is average number of convolution neighbors per atom\n",
    "batch_size = 50"
   ]
  },
  {
   "cell_type": "code",
   "execution_count": 18,
   "metadata": {},
   "outputs": [],
   "source": [
    "# prepare to train model\n",
    "torch.cuda.empty_cache()\n",
    "\n",
    "training_size = len(training_dataset)\n",
    "n_training_batches = int(training_size / batch_size)\n",
    "training_dataloader = tg.data.DataListLoader(training_dataset, batch_size=batch_size, shuffle=True)\n",
    "\n",
    "testing_size = len(testing_dataset)\n",
    "n_testing_batches = int(testing_size / batch_size)\n",
    "testing_dataloader = tg.data.DataListLoader(testing_dataset, batch_size=batch_size, shuffle=False)\n",
    "\n",
    "results_dict = {} # molecule name -> residuals (n_examples,n_atoms)\n",
    "history = []      # index is epoch, items are (train_loss, test_loss)"
   ]
  },
  {
   "cell_type": "code",
   "execution_count": 19,
   "metadata": {},
   "outputs": [
    {
     "name": "stdout",
     "output_type": "stream",
     "text": [
      "Iteration 1           training = 13.922          testing = 11.226           elapsed =  256.62 s                     \n",
      "Iteration 2           training = 4.264           testing = 9.744            elapsed =  255.43 s                     \n",
      "Iteration 3           training = 2.984           testing = 8.785            elapsed =  253.57 s                     \n",
      "Iteration 4           training = 2.536           testing = 8.358            elapsed =  252.75 s                     \n",
      "Iteration 5           training = 2.241           testing = 7.854            elapsed =  252.93 s                     \n",
      "Iteration 6           training = 2.049           testing = 7.439            elapsed =  252.67 s                     \n",
      "Iteration 7           training = 1.893           testing = 7.171            elapsed =  252.74 s                     \n",
      "Iteration 8           training = 1.763           testing = 6.987            elapsed =  252.79 s                     \n",
      "Iteration 9           training = 1.651           testing = 6.759            elapsed =  252.77 s                     \n",
      "Iteration 10          training = 1.575           testing = 6.640            elapsed =  253.01 s                     \n",
      "Iteration 11          training = 1.493           testing = 6.425            elapsed =  253.06 s                     \n",
      "Iteration 12          training = 1.428           testing = 6.353            elapsed =  252.75 s                     \n",
      "Iteration 13          training = 1.379           testing = 6.286            elapsed =  253.04 s                     \n",
      "Iteration 14          training = 1.312           testing = 6.145            elapsed =  252.79 s                     \n",
      "Iteration 15          training = 1.283           testing = 5.975            elapsed =  252.99 s                     \n",
      "Iteration 16          training = 1.233           testing = 5.921            elapsed =  252.74 s                     \n",
      "Iteration 17          training = 1.191           testing = 5.891            elapsed =  254.43 s                     \n",
      "Iteration 18          training = 1.179           testing = 5.855            elapsed =  255.58 s                     \n",
      "Iteration 19          training = 1.125           testing = 5.809            elapsed =  255.53 s                     \n",
      "Iteration 20          training = 1.099           testing = 5.728            elapsed =  255.78 s                     \n",
      "Iteration 21          training = 1.076           testing = 5.709            elapsed =  255.50 s                     \n",
      "Iteration 22          training = 1.052           testing = 5.672            elapsed =  255.45 s                     \n",
      "Iteration 23          training = 1.029           testing = 5.596            elapsed =  255.36 s                     \n",
      "Iteration 24          training = 1.011           testing = 5.592            elapsed =  255.74 s                     \n",
      "Iteration 25          training = 0.982           testing = 5.506            elapsed =  255.43 s                     \n",
      "Iteration 26          training = 0.968           testing = 5.506            elapsed =  255.39 s                     \n",
      "Iteration 27          training = 0.956           testing = 5.440            elapsed =  255.42 s                     \n",
      "Iteration 28          training = 0.935           testing = 5.472            elapsed =  255.55 s                     \n",
      "Iteration 29          training = 0.916           testing = 5.435            elapsed =  255.66 s                     \n",
      "Iteration 30          training = 0.895           testing = 5.365            elapsed =  255.52 s                     \n",
      "Iteration 31          training = 0.901           testing = 5.387            elapsed =  255.30 s                     \n",
      "Iteration 32          training = 0.880           testing = 5.351            elapsed =  255.34 s                     \n",
      "Iteration 33          training = 0.859           testing = 5.337            elapsed =  255.72 s                     \n",
      "Iteration 34          training = 0.842           testing = 5.291            elapsed =  255.37 s                     \n",
      "Iteration 35          training = 0.828           testing = 5.283            elapsed =  255.27 s                     \n",
      "Iteration 36          training = 0.824           testing = 5.277            elapsed =  255.37 s                     \n",
      "Iteration 37          training = 0.817           testing = 5.266            elapsed =  255.68 s                     \n",
      "Iteration 38          training = 0.803           testing = 5.212            elapsed =  255.32 s                     \n",
      "Iteration 39          training = 0.803           testing = 5.263            elapsed =  255.30 s                     \n",
      "Iteration 40          training = 0.778           testing = 5.176            elapsed =  255.28 s                     \n",
      "Iteration 41          training = 0.780           testing = 5.199            elapsed =  255.33 s                     \n",
      "Iteration 42          training = 0.759           testing = 5.187            elapsed =  255.55 s                     \n",
      "Iteration 43          training = 0.751           testing = 5.208            elapsed =  255.74 s                     \n",
      "Iteration 44          training = 0.745           testing = 5.127            elapsed =  255.90 s                     \n",
      "Iteration 45          training = 0.741           testing = 5.179            elapsed =  255.65 s                     \n",
      "Iteration 46          training = 0.742           testing = 5.137            elapsed =  255.74 s                     \n",
      "Iteration 47          training = 0.724           testing = 5.117            elapsed =  255.67 s                     \n",
      "Iteration 48          training = 0.720           testing = 5.042            elapsed =  255.50 s                     \n",
      "Iteration 49          training = 0.711           testing = 5.151            elapsed =  255.64 s                     \n",
      "Iteration 50          training = 0.702           testing = 5.114            elapsed =  255.76 s                     \n",
      "Iteration 51          training = 0.698           testing = 5.041            elapsed =  255.82 s                     \n",
      "Iteration 52          training = 0.700           testing = 5.060            elapsed =  255.74 s                     \n",
      "Iteration 53          training = 0.695           testing = 5.116            elapsed =  255.71 s                     \n",
      "Iteration 54          training = 0.674           testing = 5.058            elapsed =  255.91 s                     \n",
      "Iteration 55          training = 0.681           testing = 5.067            elapsed =  255.62 s                     \n",
      "Iteration 56          training = 0.679           testing = 5.008            elapsed =  255.74 s                     \n",
      "Iteration 57          training = 0.656           testing = 5.044            elapsed =  255.68 s                     \n",
      "Iteration 58          training = 0.657           testing = 5.069            elapsed =  255.94 s                     \n",
      "Iteration 59          training = 0.658           testing = 4.982            elapsed =  256.20 s                     \n",
      "Iteration 60          training = 0.653           testing = 5.005            elapsed =  255.74 s                     \n",
      "Iteration 61          training = 0.642           testing = 5.058            elapsed =  255.70 s                     \n",
      "Iteration 62          training = 0.640           testing = 4.991            elapsed =  255.70 s                     \n",
      "Iteration 63          training = 0.640           testing = 4.956            elapsed =  255.76 s                     \n",
      "Iteration 64          training = 0.631           testing = 4.972            elapsed =  255.38 s                     \n",
      "Iteration 65          training = 0.622           testing = 5.005            elapsed =  255.37 s                     \n",
      "Iteration 66          training = 0.621           testing = 4.962            elapsed =  255.42 s                     \n",
      "Iteration 67          training = 0.614           testing = 4.952            elapsed =  255.41 s                     \n",
      "Iteration 68          training = 0.621           testing = 4.968            elapsed =  255.44 s                     \n",
      "Iteration 69          training = 0.604           testing = 4.914            elapsed =  255.68 s                     \n",
      "Iteration 70          training = 0.619           testing = 5.032            elapsed =  255.37 s                     \n",
      "Iteration 71          training = 0.604           testing = 5.006            elapsed =  255.45 s                     \n",
      "Iteration 72          training = 0.603           testing = 4.928            elapsed =  255.49 s                     \n",
      "Iteration 73          training = 0.585           testing = 4.969            elapsed =  255.42 s                     \n",
      "Iteration 74          training = 0.589           testing = 4.892            elapsed =  255.63 s                     \n",
      "Iteration 75          training = 0.590           testing = 4.960            elapsed =  255.49 s                     \n",
      "Iteration 76          training = 0.587           testing = 4.948            elapsed =  255.58 s                     \n",
      "Iteration 77          training = 0.577           testing = 4.927            elapsed =  255.43 s                     \n",
      "Iteration 78          training = 0.587           testing = 4.954            elapsed =  255.69 s                     \n",
      "Iteration 79          training = 0.576           testing = 4.897            elapsed =  255.39 s                     \n",
      "Iteration 80          training = 0.564           testing = 4.943            elapsed =  255.76 s                     \n",
      "Iteration 81          training = 0.562           testing = 4.896            elapsed =  255.70 s                     \n",
      "Iteration 82          training = 0.570           testing = 4.902            elapsed =  255.42 s                     \n",
      "Iteration 83          training = 0.560           testing = 4.902            elapsed =  255.57 s                     \n",
      "Iteration 84          training = 0.564           testing = 4.902            elapsed =  255.69 s                     \n",
      "Iteration 85          training = 0.562           testing = 4.866            elapsed =  255.39 s                     \n",
      "Iteration 86          training = 0.558           testing = 4.890            elapsed =  255.49 s                     \n",
      "Iteration 87          training = 0.552           testing = 4.870            elapsed =  255.43 s                     \n",
      "Iteration 88          training = 0.558           testing = 4.883            elapsed =  255.41 s                     \n",
      "Iteration 89          training = 0.549           testing = 4.831            elapsed =  255.65 s                     \n",
      "Iteration 90          training = 0.546           testing = 4.834            elapsed =  255.82 s                     \n",
      "Iteration 91          training = 0.545           testing = 4.866            elapsed =  256.85 s                     \n",
      "Iteration 92          training = 0.539           testing = 4.835            elapsed =  255.75 s                     \n",
      "Iteration 93          training = 0.531           testing = 4.905            elapsed =  255.74 s                     \n",
      "Iteration 94          training = 0.528           testing = 4.797            elapsed =  255.89 s                     \n",
      "Iteration 95          training = 0.527           testing = 4.847            elapsed =  255.49 s                     \n",
      "Iteration 96          training = 0.528           testing = 4.872            elapsed =  255.42 s                     \n",
      "Iteration 97          training = 0.532           testing = 4.804            elapsed =  255.55 s                     \n",
      "Iteration 98          training = 0.535           testing = 4.821            elapsed =  255.54 s                     \n",
      "Iteration 99          training = 0.525           testing = 4.839            elapsed =  256.02 s                     \n",
      "Iteration 100         training = 0.523           testing = 4.815            elapsed =  255.56 s                     \n"
     ]
    }
   ],
   "source": [
    "# train model\n",
    "start_time = time.time()\n",
    "for i in range(epochs):\n",
    "    start_time = time.time()\n",
    "    \n",
    "    # training\n",
    "    training_loss_cum = torch.tensor([0.]).to(device)\n",
    "    for j,data in enumerate(training_dataloader):\n",
    "        # forward pass\n",
    "        data = tg.data.Batch.from_data_list(data)\n",
    "        data.to(device)\n",
    "        output = model(data.x, data.edge_index, data.edge_attr, n_norm=n_norm)\n",
    "        loss, residuals = loss_function(output, data)\n",
    "        \n",
    "        # backward pass\n",
    "        opt.zero_grad()\n",
    "        loss.backward()\n",
    "        opt.step()\n",
    "        \n",
    "        # update training loss\n",
    "        temp_loss = loss.detach()\n",
    "        training_loss_cum += loss.detach().pow(2)\n",
    "        current_cum = np.sqrt(training_loss_cum.item() / (j+1))\n",
    "        print(f\"Iteration {i+1:<4d}    train {j+1:5d} / {n_training_batches:5d}  loss = {temp_loss.item():12.3f}    cum_loss = {current_cum:12.3f}            \", end=\"\\r\", flush=True)\n",
    "        \n",
    "    training_loss_cum = np.sqrt((training_loss_cum.item()/(j+1)))\n",
    "    \n",
    "    # testing\n",
    "    testing_loss_cum = torch.tensor([0.]).to(device)\n",
    "    for j,data in enumerate(testing_dataloader):\n",
    "        data = tg.data.Batch.from_data_list(data)\n",
    "        data.to(device)\n",
    "        \n",
    "        with torch.no_grad():\n",
    "            # run model\n",
    "            output = model(data.x, data.edge_index, data.edge_attr, n_norm=n_norm)\n",
    "\n",
    "            # compute MSE\n",
    "            loss, residuals = loss_function(output,data)\n",
    "            testing_loss_cum += loss.pow(2)\n",
    "        print(f\"Iteration {i+1:<4d}    test {j+1:5d} / {n_testing_batches:5d}  loss = {loss.item():12.3f}                                  \", end=\"\\r\", flush=True)\n",
    "    \n",
    "    testing_loss_cum = np.sqrt((testing_loss_cum.item()/(j+1)))\n",
    "    end_time = time.time()\n",
    "    elasped_time = end_time - start_time\n",
    "    history.append((training_loss_cum, testing_loss_cum))\n",
    "    print(f\"Iteration {i+1:<4d}        training = {training_loss_cum.item():<12.3f}    testing = {testing_loss_cum.item():<12.3f}     elapsed = {elasped_time:7.2f} s                     \", end=\"\\r\", flush=True)\n",
    "    print()\n",
    "    #if i == 0 or (i+1) % 10 == 0:\n",
    "    #    print()"
   ]
  },
  {
   "cell_type": "code",
   "execution_count": 20,
   "metadata": {},
   "outputs": [
    {
     "data": {
      "image/png": "[encoded data removed]",
      "text/plain": [
       "<Figure size 864x576 with 1 Axes>"
      ]
     },
     "metadata": {
      "needs_background": "light"
     },
     "output_type": "display_data"
    }
   ],
   "source": [
    "# plot learning curve\n",
    "plt.figure(figsize=(12,8))\n",
    "epoch = list(range(len(history)))\n",
    "epoch = np.array(epoch)\n",
    "epoch2 = epoch + 0.5\n",
    "training_loss = [ training for training,testing in history ]\n",
    "testing_loss = [ testing for training,testing in history ]\n",
    "plt.plot(epoch, training_loss, \"ro-\", label=\"train\")\n",
    "plt.plot(epoch2, testing_loss, \"bo-\", label=\"test\")\n",
    "plt.legend(loc=\"best\")\n",
    "plt.show()"
   ]
  },
  {
   "cell_type": "code",
   "execution_count": 78,
   "metadata": {},
   "outputs": [
    {
     "name": "stdout",
     "output_type": "stream",
     "text": [
      "batch    20 /    20\n",
      "Overall loss is 4.815436.  Evaluation took 5.51 s.\n"
     ]
    }
   ],
   "source": [
    "# test the model as it now\n",
    "torch.cuda.empty_cache()\n",
    "n_batches = math.ceil(testing_size / batch_size)\n",
    "results_dict = {} # molecule name -> residuals (n_examples,n_atoms)\n",
    "start_time = time.time()\n",
    "\n",
    "loss_cum = torch.tensor([0.]).to(device)\n",
    "for j,data in enumerate(testing_dataloader):\n",
    "    print(f\"batch {j+1:5d} / {n_batches:5d}\", end=\"\\r\", flush=True)\n",
    "    data = tg.data.Batch.from_data_list(data)\n",
    "    data.to(device)\n",
    "    with torch.no_grad():\n",
    "        # run model\n",
    "        output = model(data.x, data.edge_index, data.edge_attr, n_norm=n_norm)\n",
    "        \n",
    "        # compute MSE\n",
    "        loss, residuals = loss_function(output,data)\n",
    "        loss_cum += loss.pow(2)\n",
    "        \n",
    "        # rescale residuals back to ppm and store\n",
    "        residuals = residuals.squeeze(-1).cpu().numpy()\n",
    "        i=0\n",
    "        for name in data.name:\n",
    "            molecule = molecules_dict[name]\n",
    "            n_atoms = molecule.n_atoms\n",
    "            scaling_factors = molecule.scaling_factors\n",
    "            if name not in results_dict:\n",
    "                results_dict[name] = []\n",
    "            subset = residuals[i:i+n_atoms] * scaling_factors[:,1]\n",
    "            results_dict[name].append(subset)\n",
    "            i += n_atoms\n",
    "            \n",
    "loss_cum = loss_cum/(j+1)\n",
    "loss_cum = loss_cum.pow(0.5)\n",
    "end_time = time.time()\n",
    "elasped_time = end_time - start_time\n",
    "print(f\"\\nOverall loss is {loss_cum.item():.6f}.  Evaluation took {elasped_time:.2f} s.\")"
   ]
  },
  {
   "cell_type": "code",
   "execution_count": 80,
   "metadata": {},
   "outputs": [
    {
     "name": "stdout",
     "output_type": "stream",
     "text": [
      "520\n",
      "[-7.85103590e-03 -1.77708226e+00  1.58948530e+01 -1.81686444e+00\n",
      " -8.69287379e-01  1.51751083e+01  2.97992903e-01  1.74888681e-01\n",
      " -2.00766971e-02  3.68602895e-01 -2.14419564e-01 -1.88084139e-01\n",
      "  3.86382178e-01]\n",
      "(99, 13)\n"
     ]
    }
   ],
   "source": [
    "for name,results in results_dict.items():\n",
    "    print(name)\n",
    "    print(results[0])\n",
    "    print(np.shape(results))\n",
    "    break"
   ]
  },
  {
   "cell_type": "code",
   "execution_count": null,
   "metadata": {},
   "outputs": [],
   "source": [
    "# results_dict : molecule name -> residuals (n_examples,n_atoms)\n",
    "# results_dict2 : site label -> residuals\n",
    "results_dict2 = {}\n",
    "for name,results in results_dict.items():\n",
    "    "
   ]
  },
  {
   "cell_type": "code",
   "execution_count": 85,
   "metadata": {},
   "outputs": [],
   "source": [
    "# reshape residual data\n",
    "results_dict2 = {}\n",
    "residuals_dict = {}\n",
    "for name,results in results_dict.items():\n",
    "    results = np.array(results).T\n",
    "    molecule = molecules_dict[name]\n",
    "    atomic_symbols = molecule.atomic_symbols\n",
    "    for i,v in enumerate(results):\n",
    "        element = atomic_symbols[i]\n",
    "        if element not in relevant_elements:\n",
    "            continue\n",
    "        if element not in residuals_dict:\n",
    "            residuals_dict[element] = []\n",
    "        this_residuals_dict = residuals_dict[element]\n",
    "        label = f\"{name}_{element}{i+1}\"\n",
    "        results_dict2[label]=v"
   ]
  },
  {
   "cell_type": "code",
   "execution_count": 81,
   "metadata": {},
   "outputs": [
    {
     "data": {
      "image/png": "[encoded data removed]",
      "text/plain": [
       "<Figure size 576x432 with 1 Axes>"
      ]
     },
     "metadata": {
      "needs_background": "light"
     },
     "output_type": "display_data"
    }
   ],
   "source": [
    "bins = np.linspace(-2,2,50)\n",
    "plt.figure(figsize=(8,6))\n",
    "plt.title(f\"residuals for {e}\")\n",
    "plt.hist(residuals_dict[\"H\"],bins=bins)\n",
    "plt.show()"
   ]
  },
  {
   "cell_type": "code",
   "execution_count": 67,
   "metadata": {},
   "outputs": [
    {
     "data": {
      "text/html": [
       "<div>\n",
       "<style scoped>\n",
       "    .dataframe tbody tr th:only-of-type {\n",
       "        vertical-align: middle;\n",
       "    }\n",
       "\n",
       "    .dataframe tbody tr th {\n",
       "        vertical-align: top;\n",
       "    }\n",
       "\n",
       "    .dataframe thead th {\n",
       "        text-align: right;\n",
       "    }\n",
       "</style>\n",
       "<table border=\"1\" class=\"dataframe\">\n",
       "  <thead>\n",
       "    <tr style=\"text-align: right;\">\n",
       "      <th></th>\n",
       "      <th>mean</th>\n",
       "      <th>range</th>\n",
       "      <th>RMSE</th>\n",
       "    </tr>\n",
       "  </thead>\n",
       "  <tbody>\n",
       "    <tr>\n",
       "      <th>520_C2</th>\n",
       "      <td>-1.09</td>\n",
       "      <td>5.82</td>\n",
       "      <td>1.59</td>\n",
       "    </tr>\n",
       "    <tr>\n",
       "      <th>520_C3</th>\n",
       "      <td>14.78</td>\n",
       "      <td>8.58</td>\n",
       "      <td>14.85</td>\n",
       "    </tr>\n",
       "    <tr>\n",
       "      <th>520_C4</th>\n",
       "      <td>-0.10</td>\n",
       "      <td>5.89</td>\n",
       "      <td>1.19</td>\n",
       "    </tr>\n",
       "    <tr>\n",
       "      <th>520_C5</th>\n",
       "      <td>0.04</td>\n",
       "      <td>6.06</td>\n",
       "      <td>1.25</td>\n",
       "    </tr>\n",
       "    <tr>\n",
       "      <th>520_C6</th>\n",
       "      <td>14.68</td>\n",
       "      <td>7.48</td>\n",
       "      <td>14.74</td>\n",
       "    </tr>\n",
       "    <tr>\n",
       "      <th>...</th>\n",
       "      <td>...</td>\n",
       "      <td>...</td>\n",
       "      <td>...</td>\n",
       "    </tr>\n",
       "    <tr>\n",
       "      <th>5820_H11</th>\n",
       "      <td>-0.16</td>\n",
       "      <td>0.22</td>\n",
       "      <td>0.17</td>\n",
       "    </tr>\n",
       "    <tr>\n",
       "      <th>5820_H12</th>\n",
       "      <td>0.23</td>\n",
       "      <td>0.29</td>\n",
       "      <td>0.24</td>\n",
       "    </tr>\n",
       "    <tr>\n",
       "      <th>5820_H13</th>\n",
       "      <td>-0.37</td>\n",
       "      <td>0.20</td>\n",
       "      <td>0.37</td>\n",
       "    </tr>\n",
       "    <tr>\n",
       "      <th>5820_H14</th>\n",
       "      <td>-0.11</td>\n",
       "      <td>0.18</td>\n",
       "      <td>0.12</td>\n",
       "    </tr>\n",
       "    <tr>\n",
       "      <th>5820_H15</th>\n",
       "      <td>-0.10</td>\n",
       "      <td>0.27</td>\n",
       "      <td>0.11</td>\n",
       "    </tr>\n",
       "  </tbody>\n",
       "</table>\n",
       "<p>138 rows × 3 columns</p>\n",
       "</div>"
      ],
      "text/plain": [
       "           mean  range   RMSE\n",
       "520_C2    -1.09   5.82   1.59\n",
       "520_C3    14.78   8.58  14.85\n",
       "520_C4    -0.10   5.89   1.19\n",
       "520_C5     0.04   6.06   1.25\n",
       "520_C6    14.68   7.48  14.74\n",
       "...         ...    ...    ...\n",
       "5820_H11  -0.16   0.22   0.17\n",
       "5820_H12   0.23   0.29   0.24\n",
       "5820_H13  -0.37   0.20   0.37\n",
       "5820_H14  -0.11   0.18   0.12\n",
       "5820_H15  -0.10   0.27   0.11\n",
       "\n",
       "[138 rows x 3 columns]"
      ]
     },
     "metadata": {},
     "output_type": "display_data"
    }
   ],
   "source": [
    "# summary stats\n",
    "df = pd.DataFrame(results_dict2)\n",
    "means = df.mean()\n",
    "ranges = df.max()-df.min()\n",
    "RMSEs = np.sqrt(df.pow(2).mean())\n",
    "df = pd.concat([means,ranges,RMSEs], axis=1)\n",
    "df.columns = [\"mean\",\"range\",\"RMSE\"]\n",
    "df = df.round(2)\n",
    "display(df)"
   ]
  },
  {
   "cell_type": "code",
   "execution_count": 412,
   "metadata": {},
   "outputs": [],
   "source": [
    "def save_model(model_kwargs, model, filename, optimizer=None):\n",
    "    model_dict = {\n",
    "        'state_dict': model.state_dict(),\n",
    "        'model_kwargs': model_kwargs\n",
    "    }\n",
    "    if optimizer is not None:\n",
    "        model_dict['optimizer_state_dict'] = optimizer.state_dict()\n",
    "    torch.save(model_dict, filename)"
   ]
  },
  {
   "cell_type": "code",
   "execution_count": 413,
   "metadata": {},
   "outputs": [],
   "source": [
    "save_model(model_kwargs, model, \"small-model2.torch\", optimizer=opt)"
   ]
  },
  {
   "cell_type": "code",
   "execution_count": null,
   "metadata": {},
   "outputs": [],
   "source": []
  }
 ],
 "metadata": {
  "kernelspec": {
   "display_name": "Python 3",
   "language": "python",
   "name": "python3"
  },
  "language_info": {
   "codemirror_mode": {
    "name": "ipython",
    "version": 3
   },
   "file_extension": ".py",
   "mimetype": "text/x-python",
   "name": "python",
   "nbconvert_exporter": "python",
   "pygments_lexer": "ipython3",
   "version": "3.8.3"
  }
 },
 "nbformat": 4,
 "nbformat_minor": 4
}
