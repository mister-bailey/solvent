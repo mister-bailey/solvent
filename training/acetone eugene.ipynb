{
 "cells": [
  {
   "cell_type": "code",
   "execution_count": null,
   "metadata": {},
   "outputs": [],
   "source": [
    "%load_ext autoreload\n",
    "%autoreload 2"
   ]
  },
  {
   "cell_type": "code",
   "execution_count": 93,
   "metadata": {},
   "outputs": [],
   "source": [
    "import time\n",
    "from pprint import pprint\n",
    "from IPython.display import display\n",
    "import matplotlib\n",
    "import matplotlib.pyplot as plt\n",
    "%matplotlib inline\n",
    "\n",
    "import numpy as np\n",
    "import pandas as pd\n",
    "import h5py\n",
    "from sklearn.model_selection import train_test_split \n",
    "\n",
    "import torch\n",
    "torch.set_default_dtype(torch.float64)\n",
    "\n",
    "import e3nn\n",
    "import e3nn.point.data_helpers as dh \n",
    "from training_utils import *"
   ]
  },
  {
   "cell_type": "code",
   "execution_count": 3,
   "metadata": {},
   "outputs": [
    {
     "name": "stdout",
     "output_type": "stream",
     "text": [
      "0\n",
      "1\n",
      "Quadro M4000\n",
      "True\n",
      "10.1\n"
     ]
    }
   ],
   "source": [
    "# make sure CUDA is available\n",
    "print(torch.cuda.current_device())\n",
    "print(torch.cuda.device_count())\n",
    "print(torch.cuda.get_device_name(0))\n",
    "print(torch.cuda.is_available())\n",
    "print(torch.version.cuda)\n",
    "device = \"cuda\"\n",
    "#torch.rand(10).to(device)\n",
    "#torch.rand(10, device=device)"
   ]
  },
  {
   "cell_type": "code",
   "execution_count": 123,
   "metadata": {},
   "outputs": [
    {
     "name": "stdout",
     "output_type": "stream",
     "text": [
      "[6 8 6 1 1 1 6 1 1 1]\n",
      "['C', 'O', 'C', 'H', 'H', 'H', 'C', 'H', 'H', 'H']\n",
      "[ -20.1123 -337.7406  159.0655   29.4662   29.4664   29.7726  159.0733\n",
      "   29.4659   29.4658   29.773 ]\n"
     ]
    }
   ],
   "source": [
    "# read stationary data\n",
    "with h5py.File(\"acetone/acetone-b3lyp_d3bj-631gd-gas-equilibrium_geometry.hdf5\", \"r\") as h5:\n",
    "    atomic_numbers = np.array(h5.get(\"atomic_numbers\"))\n",
    "    isotropic_shieldings = np.array(h5.get(\"isotropic_shieldings\"))\n",
    "print(atomic_numbers)\n",
    "atomic_symbols_dict = {1:\"H\", 6:\"C\", 8:\"O\"}\n",
    "atomic_symbols = [ atomic_symbols_dict[i] for i in atomic_numbers ]\n",
    "print(atomic_symbols)\n",
    "print(isotropic_shieldings)\n",
    "n_atoms = len(isotropic_shieldings)"
   ]
  },
  {
   "cell_type": "code",
   "execution_count": 132,
   "metadata": {},
   "outputs": [
    {
     "name": "stdout",
     "output_type": "stream",
     "text": [
      "(100000, 10, 4)\n"
     ]
    }
   ],
   "source": [
    "# read perturbed data\n",
    "with h5py.File(\"acetone/acetone-b3lyp_d3bj-631gd-gas-NMR-pcSseg_1.hdf5\", \"r\") as h5:\n",
    "    geoms_and_shieldings = np.array(h5.get(\"data\"))\n",
    "print(np.shape(geoms_and_shieldings))\n",
    "geometries = geoms_and_shieldings[:,:,:3]\n",
    "shieldings = geoms_and_shieldings[:,:,3]"
   ]
  },
  {
   "cell_type": "code",
   "execution_count": 133,
   "metadata": {},
   "outputs": [
    {
     "name": "stdout",
     "output_type": "stream",
     "text": [
      "[19.50568406  0.70020909  7.11058595  0.63287213  0.62730283  0.2619862\n",
      "  7.10518024  0.62701463  0.62589273  0.25319787]\n",
      "[1.02828526 1.00093492 1.03926091 1.01509924 1.01725567 1.00940395\n",
      " 1.03488899 1.01124638 1.01476318 1.00599361]\n"
     ]
    }
   ],
   "source": [
    "element_width_dict = { 1 : 1.2, 6 : 6.0, 8 : 54.0 }\n",
    "widths = [ element_width_dict[i] for i in atomic_numbers ]\n",
    "widths = np.array(widths)\n",
    "shieldings = (shieldings - isotropic_shieldings)/widths\n",
    "print(np.mean(shieldings,axis=0))\n",
    "print(np.std(shieldings,axis=0))"
   ]
  },
  {
   "cell_type": "code",
   "execution_count": 125,
   "metadata": {},
   "outputs": [],
   "source": [
    "# normalize data on a per-site basis\n",
    "# this is extreme, but let's see how well we can do with this\n",
    "#means = np.mean(shieldings, axis=0)\n",
    "#stdevs = np.std(shieldings, axis=0)\n",
    "#shieldings = (shieldings-means)/stdevs"
   ]
  },
  {
   "cell_type": "code",
   "execution_count": 134,
   "metadata": {},
   "outputs": [
    {
     "name": "stdout",
     "output_type": "stream",
     "text": [
      "[6 8 6 1 1 1 6 1 1 1]\n",
      "   1  6  8\n",
      "0  0  1  0\n",
      "1  0  0  1\n",
      "2  0  1  0\n",
      "3  1  0  0\n",
      "4  1  0  0\n",
      "5  1  0  0\n",
      "6  0  1  0\n",
      "7  1  0  0\n",
      "8  1  0  0\n",
      "9  1  0  0\n"
     ]
    }
   ],
   "source": [
    "# generate one-hot features\n",
    "print(atomic_numbers)\n",
    "one_hots = pd.get_dummies(atomic_numbers)\n",
    "print(one_hots)\n",
    "one_hots = one_hots.to_numpy()\n",
    "\n",
    "# get some shapes\n",
    "n_examples = geometries.shape[0]\n",
    "n_atoms_per_example = geometries.shape[1]\n",
    "n_one_hots = one_hots.shape[1]\n",
    "\n",
    "# features are just one-hots, so repeat the same one-hots for every training example\n",
    "desired_shape = (n_examples, n_atoms_per_example, n_one_hots)\n",
    "features = np.zeros(desired_shape)\n",
    "features[:] = one_hots              # broadcast one_hots into every row along axis 0"
   ]
  },
  {
   "cell_type": "code",
   "execution_count": 135,
   "metadata": {},
   "outputs": [],
   "source": [
    "# features are one-hots for every atom,\n",
    "# so this is (number of one_hots, rank zero tensor, even parity)\n",
    "Rs_in = [(n_one_hots,0,1)]\n",
    "\n",
    "# we are outputing one scalar for every atom\n",
    "# so this is (one, rank zero tensor, even parity)\n",
    "Rs_out = [(1,0,1)]\n",
    "\n",
    "# maximum extent of radial basis functions in Angstroms\n",
    "max_radius = 2.0"
   ]
  },
  {
   "cell_type": "code",
   "execution_count": 136,
   "metadata": {},
   "outputs": [],
   "source": [
    "class DataNeighborsSelection(dh.DataNeighbors):\n",
    "    def __init__(self, x, Rs_in, pos, r_max, atomic_numbers, relevant_atomic_numbers=None, self_interaction=True, **kwargs):\n",
    "        if atomic_numbers is None:\n",
    "            raise ValueError(\"atomic_numbers must be defined\")\n",
    "        if relevant_atomic_numbers is None:\n",
    "            relevant_atomic_numbers = [1, 6]  \n",
    "        relevant_atom_index = [i for i, atom_number in enumerate(atomic_numbers)\n",
    "                               if atom_number in relevant_atomic_numbers]\n",
    "        relevant_atom_index = torch.LongTensor(relevant_atom_index).unsqueeze(0)  # [1, N]\n",
    "        \n",
    "        super().__init__(x, Rs_in, pos, r_max,\n",
    "                         self_interaction=self_interaction,\n",
    "                         atomic_numbers=atomic_numbers, \n",
    "                         relevant_atom_index=relevant_atom_index,\n",
    "                         **kwargs)"
   ]
  },
  {
   "cell_type": "code",
   "execution_count": 161,
   "metadata": {},
   "outputs": [],
   "source": [
    "# save a subset of the data to a .torch file\n",
    "# precompute the relevant neighbors\n",
    "relevant_atomic_numbers = [1, 6]\n",
    "\n",
    "def save_dataset(geometry_subset, shielding_subset, feature_subset, output_filename):\n",
    "    dataset = []\n",
    "    n_to_save = len(geometry_subset)\n",
    "    print(f\"Preprocessing for {output_filename}:\")\n",
    "    for i,(g,s,f) in enumerate(zip(geometry_subset, shielding_subset, feature_subset)):\n",
    "        g,s,f = torch.tensor(g, dtype=torch.float64), torch.tensor(s, dtype=torch.float64).unsqueeze(-1), torch.tensor(f, dtype=torch.float64)\n",
    "        data = DataNeighborsSelection(x=f, Rs_in=Rs_in, pos=g, r_max=max_radius,\n",
    "                                      atomic_numbers=atomic_numbers, relevant_atomic_numbers=relevant_atomic_numbers,\n",
    "                                      y=s, Rs_out=Rs_out)\n",
    "        dataset.append(data)\n",
    "        if (i+1) % 100 == 0 or i == n_to_save - 1:\n",
    "            print(f\"{i+1:10d} of {n_to_save:10d}...\", end=\"\\r\", flush=True)\n",
    "    print(\"\\nWriting to disk...\", end=\"\", flush=True)\n",
    "    torch.save(dataset, output_filename)\n",
    "    print(f\"done.  Saved {len(dataset)} records.\")\n",
    "    \n",
    "# splits the dataset randomly into training and test sets\n",
    "# train_size = # number of training examples\n",
    "# test_size = # number of test examples\n",
    "# prefix = filenames will start with this string\n",
    "# random_state = for reproducible splits\n",
    "def split_and_save(train_size, test_size, prefix, random_state):\n",
    "    assert train_size + test_size <= n_examples\n",
    "    #[ training_geometries, training_shieldings, training_features,\n",
    "    #  testing_geometries, testing_shieldings, testing_features     ]\n",
    "    splitting = train_test_split(geometries, shieldings, features,\n",
    "                                test_size = test_size, train_size = train_size,\n",
    "                                random_state = random_state, shuffle = True)\n",
    "    save_dataset(*splitting[::2], f\"{prefix}-train.torch\")\n",
    "    save_dataset(*splitting[1::2], f\"{prefix}-test.torch\")"
   ]
  },
  {
   "cell_type": "code",
   "execution_count": 162,
   "metadata": {},
   "outputs": [
    {
     "name": "stdout",
     "output_type": "stream",
     "text": [
      "Preprocessing for acetone-split1-train.torch:\n",
      "      5000 of       5000...\n",
      "Writing to disk...done.  Saved 5000 records.\n",
      "Preprocessing for acetone-split1-test.torch:\n",
      "      5000 of       5000...\n",
      "Writing to disk...done.  Saved 5000 records.\n"
     ]
    }
   ],
   "source": [
    "train_size = 5000\n",
    "test_size = 5000\n",
    "split_and_save(train_size, test_size, \"acetone-split1\", 1)"
   ]
  },
  {
   "cell_type": "code",
   "execution_count": 163,
   "metadata": {},
   "outputs": [],
   "source": [
    "dataset1 = torch.load(\"acetone-split1-train.torch\")\n",
    "dataset2 = torch.load(\"acetone-split1-test.torch\")\n",
    "batch_size = 50\n",
    "train_dataloader = tg.data.DataListLoader(dataset1, batch_size=batch_size, shuffle=True)\n",
    "test_dataloader = tg.data.DataListLoader(dataset2, batch_size=batch_size, shuffle=False)"
   ]
  },
  {
   "cell_type": "code",
   "execution_count": 164,
   "metadata": {},
   "outputs": [],
   "source": [
    "# define the neural network architecture\n",
    "model_kwargs = {\n",
    "    'network': 'GatedConvParityNetwork', \n",
    "    'conv': 'Convolution',\n",
    "    'Rs_in': Rs_in,            # shape of inputs\n",
    "    'Rs_out': Rs_out,          # shape of outputs\n",
    "    'mul': 5,                 # how many copies of each tensor at each layer\n",
    "    'lmax': 2,                 # maximum angular momentum\n",
    "    'layers': 3,               # number of layers\n",
    "    'max_radius': max_radius,  # radial kernel will extend out this far\n",
    "    'number_of_basis': 10,     # number of Gaussians in radial kernel\n",
    "}\n",
    "model = model_from_kwargs(model_kwargs)"
   ]
  },
  {
   "cell_type": "code",
   "execution_count": 165,
   "metadata": {},
   "outputs": [],
   "source": [
    "# training parameters\n",
    "learning_rate = 1e-2\n",
    "opt = torch.optim.Adam(model.parameters(), learning_rate)\n",
    "max_iter = 10       \n",
    "n_norm = 5           # n_norm is average number of convolution neighbors per atom"
   ]
  },
  {
   "cell_type": "code",
   "execution_count": 166,
   "metadata": {},
   "outputs": [],
   "source": [
    "def loss_function(output, data):\n",
    "    index = data.relevant_atom_index\n",
    "    predictions = output[index]\n",
    "    observations = data.y[index]\n",
    "    loss = (predictions-observations).square().mean()\n",
    "    return loss"
   ]
  },
  {
   "cell_type": "code",
   "execution_count": 167,
   "metadata": {},
   "outputs": [
    {
     "name": "stdout",
     "output_type": "stream",
     "text": [
      "Iteration     1    batch   100 /   100  loss =  2.4241    elapsed =   28.37 s\n",
      "Iteration     2    batch   100 /   100  loss =  0.0459    elapsed =   28.88 s\n",
      "Iteration     3    batch   100 /   100  loss =  0.0265    elapsed =   28.98 s\n",
      "Iteration     4    batch   100 /   100  loss =  0.0193    elapsed =   28.94 s\n",
      "Iteration     5    batch   100 /   100  loss =  0.0160    elapsed =   28.79 s\n",
      "Iteration     6    batch   100 /   100  loss =  0.0134    elapsed =   28.41 s\n",
      "Iteration     7    batch   100 /   100  loss =  0.0116    elapsed =   28.47 s\n",
      "Iteration     8    batch   100 /   100  loss =  0.0112    elapsed =   29.05 s\n",
      "Iteration     9    batch   100 /   100  loss =  0.0114    elapsed =   28.66 s\n",
      "Iteration    10    batch   100 /   100  loss =  0.0110    elapsed =   28.64 s\n"
     ]
    }
   ],
   "source": [
    "model.to(device)\n",
    "n_batches = int(train_size / batch_size)\n",
    "for i in range(max_iter):\n",
    "    start_time = time.time()\n",
    "    loss_cum = torch.tensor(0.)\n",
    "    for j,data in enumerate(train_dataloader):\n",
    "        print(f\"Iteration {i+1:5d}    batch {j+1:5d} / {n_batches:5d}\", end=\"\\r\", flush=True)\n",
    "        data = tg.data.Batch.from_data_list(data)\n",
    "        data.to(device)\n",
    "        output = model(data.x, data.edge_index, data.edge_attr, n_norm=n_norm)\n",
    "        loss = loss_function(output, data)\n",
    "        loss_cum += loss\n",
    "        opt.zero_grad()\n",
    "        loss.backward()\n",
    "        opt.step()\n",
    "    end_time = time.time()\n",
    "    elasped_time = end_time - start_time\n",
    "    print(f\"Iteration {i+1:5d}    batch {j+1:5d} / {n_batches:5d}  loss = {loss_cum.data / (j+1):7.4f}    elapsed = {elasped_time:7.2f} s\")\n",
    "    #break"
   ]
  },
  {
   "cell_type": "code",
   "execution_count": 168,
   "metadata": {},
   "outputs": [
    {
     "name": "stdout",
     "output_type": "stream",
     "text": [
      "batch   100 /   100\n",
      "Overall loss is 0.0138.  Evaluation took 7.73 s.\n"
     ]
    }
   ],
   "source": [
    "# test the model as it now\n",
    "torch.cuda.empty_cache()\n",
    "model.to(device)\n",
    "n_batches = int(test_size / batch_size)\n",
    "start_time = time.time()\n",
    "\n",
    "predictions = []\n",
    "observations = []\n",
    "\n",
    "loss_cum = torch.tensor(0.)\n",
    "for j,data in enumerate(test_dataloader):\n",
    "    print(f\"batch {j+1:5d} / {n_batches:5d}\", end=\"\\r\", flush=True)\n",
    "    data = tg.data.Batch.from_data_list(data)\n",
    "    data.to(device)\n",
    "    with torch.no_grad():\n",
    "        output = model(data.x, data.edge_index, data.edge_attr, n_norm=n_norm)\n",
    "        predictions_this_batch = output.reshape((batch_size,n_atoms)).cpu().numpy()\n",
    "        observations_this_batch = data.y.reshape((batch_size,n_atoms)).cpu().numpy()\n",
    "        predictions.append(predictions_this_batch)\n",
    "        observations.append(observations_this_batch)\n",
    "        loss = loss_function(output, data)\n",
    "    loss_cum += loss\n",
    "loss_cum = loss_cum/(j+1)\n",
    "end_time = time.time()\n",
    "elasped_time = end_time - start_time\n",
    "print(f\"\\nOverall loss is {loss_cum:.4f}.  Evaluation took {elasped_time:.2f} s.\")\n",
    "predictions = np.concatenate(predictions)\n",
    "observations = np.concatenate(observations)"
   ]
  },
  {
   "cell_type": "code",
   "execution_count": 169,
   "metadata": {},
   "outputs": [
    {
     "name": "stdout",
     "output_type": "stream",
     "text": [
      "(5000, 10)\n"
     ]
    }
   ],
   "source": [
    "def undo_scaling(v):\n",
    "    #return v * stdevs + means\n",
    "    return v * widths + isotropic_shieldings\n",
    "unscaled_predictions = undo_scaling(predictions)\n",
    "unscaled_observations = undo_scaling(observations)\n",
    "residuals = unscaled_predictions - unscaled_observations\n",
    "print(np.shape(residuals))"
   ]
  },
  {
   "cell_type": "code",
   "execution_count": 170,
   "metadata": {},
   "outputs": [
    {
     "name": "stdout",
     "output_type": "stream",
     "text": [
      "[0, 2, 3, 4, 5, 6, 7, 8, 9]\n"
     ]
    }
   ],
   "source": [
    "relevant_atomic_numbers = [1, 6]  \n",
    "relevant_atom_index = [i for i, atom_number in enumerate(atomic_numbers)\n",
    "                               if atom_number in relevant_atomic_numbers]\n",
    "print(relevant_atom_index)"
   ]
  },
  {
   "cell_type": "code",
   "execution_count": 171,
   "metadata": {},
   "outputs": [
    {
     "data": {
      "text/html": [
       "<div>\n",
       "<style scoped>\n",
       "    .dataframe tbody tr th:only-of-type {\n",
       "        vertical-align: middle;\n",
       "    }\n",
       "\n",
       "    .dataframe tbody tr th {\n",
       "        vertical-align: top;\n",
       "    }\n",
       "\n",
       "    .dataframe thead th {\n",
       "        text-align: right;\n",
       "    }\n",
       "</style>\n",
       "<table border=\"1\" class=\"dataframe\">\n",
       "  <thead>\n",
       "    <tr style=\"text-align: right;\">\n",
       "      <th></th>\n",
       "      <th>C1</th>\n",
       "      <th>C3</th>\n",
       "      <th>H4</th>\n",
       "      <th>H5</th>\n",
       "      <th>H6</th>\n",
       "      <th>C7</th>\n",
       "      <th>H8</th>\n",
       "      <th>H9</th>\n",
       "      <th>H10</th>\n",
       "    </tr>\n",
       "  </thead>\n",
       "  <tbody>\n",
       "    <tr>\n",
       "      <th>0</th>\n",
       "      <td>-1.8041</td>\n",
       "      <td>-0.0875</td>\n",
       "      <td>-0.0561</td>\n",
       "      <td>-0.0711</td>\n",
       "      <td>0.0580</td>\n",
       "      <td>-0.8175</td>\n",
       "      <td>-0.1038</td>\n",
       "      <td>-0.0301</td>\n",
       "      <td>-0.0297</td>\n",
       "    </tr>\n",
       "    <tr>\n",
       "      <th>1</th>\n",
       "      <td>-1.7511</td>\n",
       "      <td>-0.4972</td>\n",
       "      <td>-0.0743</td>\n",
       "      <td>0.0101</td>\n",
       "      <td>-0.0463</td>\n",
       "      <td>-1.0421</td>\n",
       "      <td>-0.0068</td>\n",
       "      <td>0.0026</td>\n",
       "      <td>-0.0853</td>\n",
       "    </tr>\n",
       "    <tr>\n",
       "      <th>2</th>\n",
       "      <td>0.3539</td>\n",
       "      <td>-1.1460</td>\n",
       "      <td>-0.0539</td>\n",
       "      <td>-0.0617</td>\n",
       "      <td>0.0238</td>\n",
       "      <td>-1.6708</td>\n",
       "      <td>-0.0910</td>\n",
       "      <td>0.0013</td>\n",
       "      <td>-0.0339</td>\n",
       "    </tr>\n",
       "    <tr>\n",
       "      <th>3</th>\n",
       "      <td>-1.6414</td>\n",
       "      <td>0.1514</td>\n",
       "      <td>0.0906</td>\n",
       "      <td>0.0093</td>\n",
       "      <td>-0.0501</td>\n",
       "      <td>-0.3687</td>\n",
       "      <td>0.0179</td>\n",
       "      <td>0.0059</td>\n",
       "      <td>0.0553</td>\n",
       "    </tr>\n",
       "    <tr>\n",
       "      <th>4</th>\n",
       "      <td>-0.4053</td>\n",
       "      <td>0.4035</td>\n",
       "      <td>0.1735</td>\n",
       "      <td>0.0033</td>\n",
       "      <td>0.0250</td>\n",
       "      <td>-0.8052</td>\n",
       "      <td>-0.0487</td>\n",
       "      <td>0.0660</td>\n",
       "      <td>-0.0869</td>\n",
       "    </tr>\n",
       "  </tbody>\n",
       "</table>\n",
       "</div>"
      ],
      "text/plain": [
       "       C1      C3      H4      H5      H6      C7      H8      H9     H10\n",
       "0 -1.8041 -0.0875 -0.0561 -0.0711  0.0580 -0.8175 -0.1038 -0.0301 -0.0297\n",
       "1 -1.7511 -0.4972 -0.0743  0.0101 -0.0463 -1.0421 -0.0068  0.0026 -0.0853\n",
       "2  0.3539 -1.1460 -0.0539 -0.0617  0.0238 -1.6708 -0.0910  0.0013 -0.0339\n",
       "3 -1.6414  0.1514  0.0906  0.0093 -0.0501 -0.3687  0.0179  0.0059  0.0553\n",
       "4 -0.4053  0.4035  0.1735  0.0033  0.0250 -0.8052 -0.0487  0.0660 -0.0869"
      ]
     },
     "metadata": {},
     "output_type": "display_data"
    }
   ],
   "source": [
    "pd.set_option('precision',4)\n",
    "df = pd.DataFrame(residuals, columns = [ f\"{j}{i+1}\" for i,j in enumerate(atomic_symbols) ] )\n",
    "df = df.iloc[:,relevant_atom_index].copy()\n",
    "display(df.head())"
   ]
  },
  {
   "cell_type": "code",
   "execution_count": 172,
   "metadata": {},
   "outputs": [
    {
     "data": {
      "image/png": "[encoded data removed]",
      "text/plain": [
       "<Figure size 864x432 with 3 Axes>"
      ]
     },
     "metadata": {
      "needs_background": "light"
     },
     "output_type": "display_data"
    }
   ],
   "source": [
    "fig, axs = plt.subplots(3,1,sharex='col',sharey='col',figsize=(12,6))\n",
    "bins = np.linspace(-4,4,100)\n",
    "def plot(where, what):\n",
    "    mean = what.mean()\n",
    "    RMSE = what.pow(2).mean()\n",
    "    axs[where].hist(what, bins=bins, label=f\"{what.name} : mean = {mean:.2f}, RMSE = {RMSE:.2f}\")\n",
    "    axs[where].legend(loc='upper right')\n",
    "plot(0,df.C1)\n",
    "plot(1,df.C3)\n",
    "plot(2,df.C7)\n",
    "plt.show()"
   ]
  },
  {
   "cell_type": "code",
   "execution_count": 173,
   "metadata": {},
   "outputs": [
    {
     "data": {
      "image/png": "[encoded data removed]",
      "text/plain": [
       "<Figure size 864x648 with 6 Axes>"
      ]
     },
     "metadata": {
      "needs_background": "light"
     },
     "output_type": "display_data"
    }
   ],
   "source": [
    "fig, axs = plt.subplots(6,1,sharex='col',sharey='col',figsize=(12,9))\n",
    "bins = np.linspace(-0.4,0.4,100)\n",
    "def plot(where, what):\n",
    "    mean = what.mean()\n",
    "    RMSE = what.pow(2).mean()\n",
    "    axs[where].hist(what, bins=bins, label=f\"{what.name} : mean = {mean:.4f}, RMSE = {RMSE:.4f}\")\n",
    "    axs[where].legend(loc='upper right')\n",
    "plot(0,df.H4)\n",
    "plot(1,df.H5)\n",
    "plot(2,df.H6)\n",
    "plot(3,df.H8)\n",
    "plot(4,df.H9)\n",
    "plot(5,df.H10)\n",
    "plt.tight_layout()\n",
    "plt.show()"
   ]
  },
  {
   "cell_type": "code",
   "execution_count": null,
   "metadata": {},
   "outputs": [],
   "source": []
  },
  {
   "cell_type": "code",
   "execution_count": null,
   "metadata": {},
   "outputs": [],
   "source": []
  }
 ],
 "metadata": {
  "kernelspec": {
   "display_name": "Python 3",
   "language": "python",
   "name": "python3"
  },
  "language_info": {
   "codemirror_mode": {
    "name": "ipython",
    "version": 3
   },
   "file_extension": ".py",
   "mimetype": "text/x-python",
   "name": "python",
   "nbconvert_exporter": "python",
   "pygments_lexer": "ipython3",
   "version": "3.8.3"
  }
 },
 "nbformat": 4,
 "nbformat_minor": 4
}
