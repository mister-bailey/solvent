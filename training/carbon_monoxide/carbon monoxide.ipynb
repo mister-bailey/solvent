{
 "cells": [
  {
   "cell_type": "code",
   "execution_count": 1,
   "metadata": {},
   "outputs": [],
   "source": [
    "from functools import partial\n",
    "\n",
    "import numpy as np\n",
    "import h5py\n",
    "import pandas as pd\n",
    "from pandas import DataFrame, Series\n",
    "\n",
    "import torch\n",
    "torch.set_default_dtype(torch.float64)\n",
    "\n",
    "import e3nn\n",
    "import e3nn.point\n",
    "import e3nn.radial\n",
    "import e3nn.kernel\n",
    "from e3nn.point.operations import Convolution\n",
    "from e3nn.non_linearities import rescaled_act"
   ]
  },
  {
   "cell_type": "code",
   "execution_count": 2,
   "metadata": {},
   "outputs": [],
   "source": [
    "# read equilibrium geometry data\n",
    "with h5py.File(\"carbon_monoxide-b3lyp_d3bj-631gd-gas-equilibrium_geometry.hdf5\", \"r\") as h5:\n",
    "    equilibrium_geometry = np.array(h5.get(\"equilibrium_geometry\"))\n",
    "    atomic_numbers = np.array(h5.get(\"atomic_numbers\"), dtype=np.int16)\n",
    "    isotropic_shieldings = np.array(h5.get(\"isotropic_shieldings\"))\n",
    "    hirshfeld_charges = np.array(h5.get(\"hirshfeld_charges\"))\n",
    "    mulliken_charges = np.array(h5.get(\"mulliken_charges\"))"
   ]
  },
  {
   "cell_type": "code",
   "execution_count": 3,
   "metadata": {},
   "outputs": [
    {
     "name": "stdout",
     "output_type": "stream",
     "text": [
      "equilibrium geometry\n",
      "[6 8]\n",
      "[[ 0.        0.       -0.650261]\n",
      " [ 0.        0.        0.487695]]\n",
      "\n",
      "equilibrium properties\n"
     ]
    },
    {
     "data": {
      "text/html": [
       "<div>\n",
       "<style scoped>\n",
       "    .dataframe tbody tr th:only-of-type {\n",
       "        vertical-align: middle;\n",
       "    }\n",
       "\n",
       "    .dataframe tbody tr th {\n",
       "        vertical-align: top;\n",
       "    }\n",
       "\n",
       "    .dataframe thead th {\n",
       "        text-align: right;\n",
       "    }\n",
       "</style>\n",
       "<table border=\"1\" class=\"dataframe\">\n",
       "  <thead>\n",
       "    <tr style=\"text-align: right;\">\n",
       "      <th></th>\n",
       "      <th>Z</th>\n",
       "      <th>sigma</th>\n",
       "      <th>z_hir</th>\n",
       "      <th>z_mul</th>\n",
       "    </tr>\n",
       "    <tr>\n",
       "      <th>atom#</th>\n",
       "      <th></th>\n",
       "      <th></th>\n",
       "      <th></th>\n",
       "      <th></th>\n",
       "    </tr>\n",
       "  </thead>\n",
       "  <tbody>\n",
       "    <tr>\n",
       "      <th>1</th>\n",
       "      <td>6.0</td>\n",
       "      <td>-3.6465</td>\n",
       "      <td>0.0828</td>\n",
       "      <td>0.143074</td>\n",
       "    </tr>\n",
       "    <tr>\n",
       "      <th>2</th>\n",
       "      <td>8.0</td>\n",
       "      <td>-64.8200</td>\n",
       "      <td>-0.0828</td>\n",
       "      <td>-0.143074</td>\n",
       "    </tr>\n",
       "  </tbody>\n",
       "</table>\n",
       "</div>"
      ],
      "text/plain": [
       "         Z    sigma   z_hir     z_mul\n",
       "atom#                                \n",
       "1      6.0  -3.6465  0.0828  0.143074\n",
       "2      8.0 -64.8200 -0.0828 -0.143074"
      ]
     },
     "metadata": {},
     "output_type": "display_data"
    }
   ],
   "source": [
    "# print out equilibrium data\n",
    "# not including charge properties for now\n",
    "print(\"equilibrium geometry\")\n",
    "print(atomic_numbers)\n",
    "print(equilibrium_geometry)\n",
    "equilibrium_list = [atomic_numbers, isotropic_shieldings, hirshfeld_charges, mulliken_charges]\n",
    "equilibrium_list = np.array(equilibrium_list).T.copy()\n",
    "columns = [\"Z\", \"sigma\", \"z_hir\", \"z_mul\"]\n",
    "equilibrium_df = DataFrame(equilibrium_list, columns=columns)\n",
    "equilibrium_df.index = [ i+1 for i in range(len(equilibrium_df)) ]\n",
    "equilibrium_df.index.name = \"atom#\"\n",
    "print()\n",
    "print(\"equilibrium properties\")\n",
    "display(equilibrium_df)"
   ]
  },
  {
   "cell_type": "code",
   "execution_count": 4,
   "metadata": {},
   "outputs": [],
   "source": [
    "# read perturbed data\n",
    "with h5py.File(\"carbon_monoxide-b3lyp_d3bj-631gd-gas-NMR-pcSseg_1.hdf5\", \"r\") as h5:\n",
    "    geoms_and_shieldings = np.array(h5.get(\"data\"))"
   ]
  },
  {
   "cell_type": "code",
   "execution_count": 5,
   "metadata": {},
   "outputs": [
    {
     "name": "stdout",
     "output_type": "stream",
     "text": [
      "near-equilibrium data\n",
      "there are 126 geometries (2 atoms per geometry)\n",
      "\n",
      "first geometry\n",
      "[[ 0.        0.       -0.428571]\n",
      " [ 0.        0.        0.321429]]\n",
      "\n",
      "first set of shieldings\n",
      "[119.2698 152.1464]\n"
     ]
    }
   ],
   "source": [
    "# print out non-equilbrium data\n",
    "print(\"near-equilibrium data\")\n",
    "shape = np.shape(geoms_and_shieldings)\n",
    "n_geometries = shape[0]\n",
    "print(f\"there are {n_geometries} geometries ({shape[1]} atoms per geometry)\")\n",
    "print()\n",
    "geometries = geoms_and_shieldings[:,:,:3]\n",
    "shieldings = geoms_and_shieldings[:,:,-1]\n",
    "geoms_and_shieldings = None\n",
    "print(\"first geometry\")\n",
    "print(geometries[0])\n",
    "print()\n",
    "print(\"first set of shieldings\")\n",
    "print(shieldings[0])"
   ]
  },
  {
   "cell_type": "code",
   "execution_count": 6,
   "metadata": {},
   "outputs": [
    {
     "data": {
      "text/html": [
       "<div>\n",
       "<style scoped>\n",
       "    .dataframe tbody tr th:only-of-type {\n",
       "        vertical-align: middle;\n",
       "    }\n",
       "\n",
       "    .dataframe tbody tr th {\n",
       "        vertical-align: top;\n",
       "    }\n",
       "\n",
       "    .dataframe thead th {\n",
       "        text-align: right;\n",
       "    }\n",
       "</style>\n",
       "<table border=\"1\" class=\"dataframe\">\n",
       "  <thead>\n",
       "    <tr style=\"text-align: right;\">\n",
       "      <th></th>\n",
       "      <th>6.0</th>\n",
       "      <th>8.0</th>\n",
       "      <th>equilibrium shielding</th>\n",
       "    </tr>\n",
       "    <tr>\n",
       "      <th>atom#</th>\n",
       "      <th></th>\n",
       "      <th></th>\n",
       "      <th></th>\n",
       "    </tr>\n",
       "  </thead>\n",
       "  <tbody>\n",
       "    <tr>\n",
       "      <th>1</th>\n",
       "      <td>1</td>\n",
       "      <td>0</td>\n",
       "      <td>-3.6465</td>\n",
       "    </tr>\n",
       "    <tr>\n",
       "      <th>2</th>\n",
       "      <td>0</td>\n",
       "      <td>1</td>\n",
       "      <td>-64.8200</td>\n",
       "    </tr>\n",
       "  </tbody>\n",
       "</table>\n",
       "</div>"
      ],
      "text/plain": [
       "       6.0  8.0  equilibrium shielding\n",
       "atom#                                 \n",
       "1        1    0                -3.6465\n",
       "2        0    1               -64.8200"
      ]
     },
     "metadata": {},
     "output_type": "display_data"
    },
    {
     "name": "stdout",
     "output_type": "stream",
     "text": [
      "(126, 2, 3)\n",
      "[[  1.       0.      -3.6465]\n",
      " [  0.       1.     -64.82  ]]\n"
     ]
    }
   ],
   "source": [
    "# create one-hot encodings for Z (atomic number)\n",
    "atomic_number_dummies = pd.get_dummies(equilibrium_df.Z)\n",
    "atomic_number_dummies[\"equilibrium shielding\"] = equilibrium_df[\"sigma\"]\n",
    "display(atomic_number_dummies)\n",
    "atomic_number_dummies = atomic_number_dummies.to_numpy()\n",
    "atomic_number_dummies = np.repeat(atomic_number_dummies[None,:], n_geometries, axis=0)\n",
    "print(np.shape(atomic_number_dummies))\n",
    "print(atomic_number_dummies[0])"
   ]
  },
  {
   "cell_type": "code",
   "execution_count": 7,
   "metadata": {},
   "outputs": [
    {
     "name": "stdout",
     "output_type": "stream",
     "text": [
      "point clouds: 126 geometries, 2 atoms, xyz\n",
      "tensor([[ 0.0000,  0.0000, -0.4286],\n",
      "        [ 0.0000,  0.0000,  0.3214]], dtype=torch.float32)\n",
      "torch.Size([126, 2, 3])\n",
      "\n",
      "features: two one-hots for carbon, oxygen; one shielding in the equilibrium structure\n",
      "tensor([[  1.0000,   0.0000,  -3.6465],\n",
      "        [  0.0000,   1.0000, -64.8200]], dtype=torch.float32)\n",
      "torch.Size([126, 2, 3])\n",
      "\n",
      "outputs: perturbed shieldings\n",
      "tensor([119.2698, 152.1464], dtype=torch.float32)\n",
      "torch.Size([126, 2])\n"
     ]
    }
   ],
   "source": [
    "# setup torch training data\n",
    "torch_geometry = torch.tensor(geometries)\n",
    "print(\"point clouds: 126 geometries, 2 atoms, xyz\")\n",
    "print(torch_geometry[0])\n",
    "print(torch_geometry.shape)\n",
    "print()\n",
    "torch_features = torch.tensor(atomic_number_dummies)\n",
    "print(\"features: two one-hots for carbon, oxygen; one shielding in the equilibrium structure\")\n",
    "print(torch_features[0])\n",
    "print(torch_features.shape)\n",
    "print()\n",
    "print(\"outputs: perturbed shieldings\")\n",
    "torch_outputs = torch.tensor(shieldings)\n",
    "print(torch_outputs[0])\n",
    "print(torch_outputs.shape)"
   ]
  },
  {
   "cell_type": "code",
   "execution_count": 8,
   "metadata": {},
   "outputs": [
    {
     "ename": "TypeError",
     "evalue": "__init__() takes 2 positional arguments but 4 were given",
     "output_type": "error",
     "traceback": [
      "\u001b[0;31m---------------------------------------------------------------------------\u001b[0m",
      "\u001b[0;31mTypeError\u001b[0m                                 Traceback (most recent call last)",
      "\u001b[0;32m<ipython-input-8-383d1292ed73>\u001b[0m in \u001b[0;36m<module>\u001b[0;34m\u001b[0m\n\u001b[1;32m     16\u001b[0m \u001b[0mRs_in\u001b[0m \u001b[0;34m=\u001b[0m \u001b[0;34m[\u001b[0m\u001b[0;34m(\u001b[0m\u001b[0;36m3\u001b[0m\u001b[0;34m,\u001b[0m \u001b[0;36m0\u001b[0m\u001b[0;34m)\u001b[0m\u001b[0;34m]\u001b[0m \u001b[0;31m# Two (3) scalar (L=0) channels: carbon one-hot, oxygen one-hot, equilibrium shielding\u001b[0m\u001b[0;34m\u001b[0m\u001b[0;34m\u001b[0m\u001b[0m\n\u001b[1;32m     17\u001b[0m \u001b[0mRs_out\u001b[0m \u001b[0;34m=\u001b[0m \u001b[0;34m[\u001b[0m\u001b[0;34m(\u001b[0m\u001b[0;36m4\u001b[0m\u001b[0;34m,\u001b[0m \u001b[0;36m0\u001b[0m\u001b[0;34m)\u001b[0m\u001b[0;34m,\u001b[0m \u001b[0;34m(\u001b[0m\u001b[0;36m4\u001b[0m\u001b[0;34m,\u001b[0m \u001b[0;36m1\u001b[0m\u001b[0;34m)\u001b[0m\u001b[0;34m,\u001b[0m \u001b[0;34m(\u001b[0m\u001b[0;36m4\u001b[0m\u001b[0;34m,\u001b[0m \u001b[0;36m2\u001b[0m\u001b[0;34m)\u001b[0m\u001b[0;34m]\u001b[0m\u001b[0;34m\u001b[0m\u001b[0;34m\u001b[0m\u001b[0m\n\u001b[0;32m---> 18\u001b[0;31m \u001b[0mconvolution\u001b[0m \u001b[0;34m=\u001b[0m \u001b[0mConvolution\u001b[0m\u001b[0;34m(\u001b[0m\u001b[0mradial_kernel\u001b[0m\u001b[0;34m,\u001b[0m \u001b[0mRs_in\u001b[0m\u001b[0;34m,\u001b[0m \u001b[0mRs_out\u001b[0m\u001b[0;34m)\u001b[0m\u001b[0;34m\u001b[0m\u001b[0;34m\u001b[0m\u001b[0m\n\u001b[0m",
      "\u001b[0;31mTypeError\u001b[0m: __init__() takes 2 positional arguments but 4 were given"
     ]
    }
   ],
   "source": [
    "### \"hello world\": train on non-rotated data, test on rotated data\n",
    "\n",
    "# define radial basis functions\n",
    "# what are \"h\" and \"number_of_basis\"?\n",
    "radial_layers = 2\n",
    "softplus = rescaled_act.Softplus(beta=5)\n",
    "max_radius = 3.0\n",
    "number_of_basis = 3\n",
    "\n",
    "RadialModel = partial(e3nn.radial.CosineBasisModel, max_radius=max_radius,\n",
    "                      number_of_basis=number_of_basis, h=100,\n",
    "                      L=radial_layers, act=softplus)\n",
    "radial_kernel = partial(e3nn.kernel.Kernel, RadialModel=RadialModel)\n",
    "\n",
    "# define the convolution\n",
    "Rs_in = [(3, 0)] # Two (3) scalar (L=0) channels: carbon one-hot, oxygen one-hot, equilibrium shielding\n",
    "Rs_out = [(4, 0), (4, 1), (4, 2)]\n",
    "convolution = Convolution(radial_kernel, Rs_in, Rs_out) "
   ]
  },
  {
   "cell_type": "code",
   "execution_count": null,
   "metadata": {},
   "outputs": [],
   "source": []
  }
 ],
 "metadata": {
  "kernelspec": {
   "display_name": "Python 3",
   "language": "python",
   "name": "python3"
  },
  "language_info": {
   "codemirror_mode": {
    "name": "ipython",
    "version": 3
   },
   "file_extension": ".py",
   "mimetype": "text/x-python",
   "name": "python",
   "nbconvert_exporter": "python",
   "pygments_lexer": "ipython3",
   "version": "3.8.2"
  }
 },
 "nbformat": 4,
 "nbformat_minor": 4
}
