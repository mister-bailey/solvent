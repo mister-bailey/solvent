{
 "cells": [
  {
   "cell_type": "code",
   "execution_count": 5,
   "metadata": {},
   "outputs": [],
   "source": [
    "import numpy as np\n",
    "import h5py\n",
    "import pandas as pd\n",
    "from pandas import DataFrame, Series\n",
    "import torch\n",
    "import e3nn\n",
    "torch.set_default_dtype(torch.float64)"
   ]
  },
  {
   "cell_type": "code",
   "execution_count": 3,
   "metadata": {},
   "outputs": [],
   "source": [
    "# read equilibrium geometry data\n",
    "with h5py.File(\"carbon_monoxide-b3lyp_d3bj-631gd-gas-equilibrium_geometry.hdf5\", \"r\") as h5:\n",
    "    equilibrium_geometry = np.array(h5.get(\"equilibrium_geometry\"))\n",
    "    atomic_numbers = np.array(h5.get(\"atomic_numbers\"))\n",
    "    isotropic_shieldings = np.array(h5.get(\"isotropic_shieldings\"))\n",
    "    hirshfeld_charges = np.array(h5.get(\"hirshfeld_charges\"))\n",
    "    mulliken_charges = np.array(h5.get(\"mulliken_charges\"))"
   ]
  },
  {
   "cell_type": "code",
   "execution_count": 7,
   "metadata": {},
   "outputs": [
    {
     "name": "stdout",
     "output_type": "stream",
     "text": [
      "equilibrium geometry\n",
      "[[ 0.        0.       -0.650261]\n",
      " [ 0.        0.        0.487695]]\n",
      "\n",
      "equilibrium properties\n"
     ]
    },
    {
     "data": {
      "text/html": [
       "<div>\n",
       "<style scoped>\n",
       "    .dataframe tbody tr th:only-of-type {\n",
       "        vertical-align: middle;\n",
       "    }\n",
       "\n",
       "    .dataframe tbody tr th {\n",
       "        vertical-align: top;\n",
       "    }\n",
       "\n",
       "    .dataframe thead th {\n",
       "        text-align: right;\n",
       "    }\n",
       "</style>\n",
       "<table border=\"1\" class=\"dataframe\">\n",
       "  <thead>\n",
       "    <tr style=\"text-align: right;\">\n",
       "      <th></th>\n",
       "      <th>Z</th>\n",
       "      <th>sigma</th>\n",
       "      <th>z_hir</th>\n",
       "      <th>z_mul</th>\n",
       "    </tr>\n",
       "    <tr>\n",
       "      <th>atom#</th>\n",
       "      <th></th>\n",
       "      <th></th>\n",
       "      <th></th>\n",
       "      <th></th>\n",
       "    </tr>\n",
       "  </thead>\n",
       "  <tbody>\n",
       "    <tr>\n",
       "      <th>1</th>\n",
       "      <td>6.0</td>\n",
       "      <td>-3.6465</td>\n",
       "      <td>0.0828</td>\n",
       "      <td>0.143074</td>\n",
       "    </tr>\n",
       "    <tr>\n",
       "      <th>2</th>\n",
       "      <td>8.0</td>\n",
       "      <td>-64.8200</td>\n",
       "      <td>-0.0828</td>\n",
       "      <td>-0.143074</td>\n",
       "    </tr>\n",
       "  </tbody>\n",
       "</table>\n",
       "</div>"
      ],
      "text/plain": [
       "         Z    sigma   z_hir     z_mul\n",
       "atom#                                \n",
       "1      6.0  -3.6465  0.0828  0.143074\n",
       "2      8.0 -64.8200 -0.0828 -0.143074"
      ]
     },
     "metadata": {},
     "output_type": "display_data"
    }
   ],
   "source": [
    "# print out equilibrium data\n",
    "print(\"equilibrium geometry\")\n",
    "print(equilibrium_geometry)\n",
    "equilibrium_list = [atomic_numbers, isotropic_shieldings, hirshfeld_charges, mulliken_charges]\n",
    "equilibrium_list = np.array(equilibrium_list).T.copy()\n",
    "columns = [\"Z\", \"sigma\", \"z_hir\", \"z_mul\"]\n",
    "equilibrium_df = DataFrame(equilibrium_list, columns=columns)\n",
    "equilibrium_df.index = [ i+1 for i in range(len(equilibrium_df)) ]\n",
    "equilibrium_df.index.name = \"atom#\"\n",
    "print()\n",
    "print(\"equilibrium properties\")\n",
    "display(equilibrium_df)"
   ]
  },
  {
   "cell_type": "code",
   "execution_count": 8,
   "metadata": {},
   "outputs": [],
   "source": [
    "# read perturbed data\n",
    "with h5py.File(\"carbon_monoxide-b3lyp_d3bj-631gd-gas-NMR-pcSseg_1.hdf5\", \"r\") as h5:\n",
    "    geoms_and_shieldings = np.array(h5.get(\"data\"))"
   ]
  },
  {
   "cell_type": "code",
   "execution_count": 9,
   "metadata": {},
   "outputs": [
    {
     "name": "stdout",
     "output_type": "stream",
     "text": [
      "near-equilibrium data\n",
      "there are 126 geometries (2 atoms per geometry)\n",
      "\n",
      "first geometry\n",
      "[[ 0.        0.       -0.428571]\n",
      " [ 0.        0.        0.321429]]\n",
      "\n",
      "first set of shieldings\n",
      "[119.2698 152.1464]\n"
     ]
    }
   ],
   "source": [
    "# print out non-equilbrium data\n",
    "print(\"near-equilibrium data\")\n",
    "shape = np.shape(geoms_and_shieldings)\n",
    "print(f\"there are {shape[0]} geometries ({shape[1]} atoms per geometry)\")\n",
    "print()\n",
    "geometries = geoms_and_shieldings[:,:,:3]\n",
    "shieldings = geoms_and_shieldings[:,:,-1]\n",
    "geoms_and_shieldings = None\n",
    "print(\"first geometry\")\n",
    "print(geometries[0])\n",
    "print()\n",
    "print(\"first set of shieldings\")\n",
    "print(shieldings[0])"
   ]
  },
  {
   "cell_type": "code",
   "execution_count": null,
   "metadata": {},
   "outputs": [],
   "source": []
  }
 ],
 "metadata": {
  "kernelspec": {
   "display_name": "Python 3",
   "language": "python",
   "name": "python3"
  },
  "language_info": {
   "codemirror_mode": {
    "name": "ipython",
    "version": 3
   },
   "file_extension": ".py",
   "mimetype": "text/x-python",
   "name": "python",
   "nbconvert_exporter": "python",
   "pygments_lexer": "ipython3",
   "version": "3.8.2"
  }
 },
 "nbformat": 4,
 "nbformat_minor": 4
}
